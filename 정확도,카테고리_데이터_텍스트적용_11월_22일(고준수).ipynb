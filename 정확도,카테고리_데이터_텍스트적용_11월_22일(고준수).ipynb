{
  "nbformat": 4,
  "nbformat_minor": 0,
  "metadata": {
    "colab": {
      "name": "정확도,카테고리 데이터 텍스트적용 11월 22일(고준수).ipynb",
      "provenance": [],
      "collapsed_sections": [],
      "include_colab_link": true
    },
    "kernelspec": {
      "name": "python3",
      "display_name": "Python 3"
    },
    "accelerator": "GPU"
  },
  "cells": [
    {
      "cell_type": "markdown",
      "metadata": {
        "id": "view-in-github",
        "colab_type": "text"
      },
      "source": [
        "<a href=\"https://colab.research.google.com/github/rkaclfdl123/TIL/blob/master/%EC%A0%95%ED%99%95%EB%8F%84%2C%EC%B9%B4%ED%85%8C%EA%B3%A0%EB%A6%AC_%EB%8D%B0%EC%9D%B4%ED%84%B0_%ED%85%8D%EC%8A%A4%ED%8A%B8%EC%A0%81%EC%9A%A9_11%EC%9B%94_22%EC%9D%BC(%E1%84%80%E1%85%A9%E1%84%8C%E1%85%AE%E1%86%AB%E1%84%89%E1%85%AE).ipynb\" target=\"_parent\"><img src=\"https://colab.research.google.com/assets/colab-badge.svg\" alt=\"Open In Colab\"/></a>"
      ]
    },
    {
      "cell_type": "markdown",
      "metadata": {
        "id": "ISo0d58FowGi"
      },
      "source": [
        "# 바로 돌리실 수 있게 드라이브에 마운트하였습니다.\n",
        "## 구글드라이브/자료파일/Astrophysics/1122_mount\n"
      ]
    },
    {
      "cell_type": "code",
      "metadata": {
        "colab": {
          "base_uri": "https://localhost:8080/"
        },
        "id": "ST8pe76MxAnW",
        "outputId": "68f85cdc-5444-4235-f082-df76b758da2f"
      },
      "source": [
        "from google.colab import drive\n",
        "drive.mount('/content/drive')"
      ],
      "execution_count": 1,
      "outputs": [
        {
          "output_type": "stream",
          "name": "stdout",
          "text": [
            "Mounted at /content/drive\n"
          ]
        }
      ]
    },
    {
      "cell_type": "code",
      "metadata": {
        "colab": {
          "base_uri": "https://localhost:8080/"
        },
        "id": "zgGVVm-AVE3M",
        "outputId": "97db8ff4-9a85-4ef2-a2ce-cd29f3240a45"
      },
      "source": [
        "%cd /content/drive/MyDrive/Astrophysics/1122_mount"
      ],
      "execution_count": 7,
      "outputs": [
        {
          "output_type": "stream",
          "name": "stdout",
          "text": [
            "/content/drive/.shortcut-targets-by-id/16oCueqwvnKt564dZ0WW_5p3nppsa07g8/Astrophysics/1122_mount\n"
          ]
        }
      ]
    },
    {
      "cell_type": "markdown",
      "metadata": {
        "id": "v61PLPRNpTLK"
      },
      "source": [
        "# 데이터 다운로드(multiple categories Gun)"
      ]
    },
    {
      "cell_type": "code",
      "metadata": {
        "id": "5KuEs80vi8_9",
        "colab": {
          "base_uri": "https://localhost:8080/"
        },
        "outputId": "92e3d731-2149-49c2-d47c-c1c9720aea3e"
      },
      "source": [
        "#multiple categories gun\n",
        "!pip install roboflow\n",
        "\n",
        "from roboflow import Roboflow\n",
        "rf = Roboflow(api_key=\"Xp2OlmobAQMlFGrRu9rO\")\n",
        "project = rf.workspace().project(\"multiple2\")\n",
        "dataset = project.version(1).download(\"yolov5\")\n"
      ],
      "execution_count": 8,
      "outputs": [
        {
          "output_type": "stream",
          "name": "stdout",
          "text": [
            "Requirement already satisfied: roboflow in /usr/local/lib/python3.7/dist-packages (0.1.8)\n",
            "Requirement already satisfied: requests in /usr/local/lib/python3.7/dist-packages (from roboflow) (2.26.0)\n",
            "Requirement already satisfied: opencv-python>=4.1.2 in /usr/local/lib/python3.7/dist-packages (from roboflow) (4.1.2.30)\n",
            "Requirement already satisfied: python-dateutil in /usr/local/lib/python3.7/dist-packages (from roboflow) (2.8.2)\n",
            "Requirement already satisfied: certifi==2021.5.30 in /usr/local/lib/python3.7/dist-packages (from roboflow) (2021.5.30)\n",
            "Requirement already satisfied: urllib3==1.26.6 in /usr/local/lib/python3.7/dist-packages (from roboflow) (1.26.6)\n",
            "Requirement already satisfied: pyparsing==2.4.7 in /usr/local/lib/python3.7/dist-packages (from roboflow) (2.4.7)\n",
            "Requirement already satisfied: wget in /usr/local/lib/python3.7/dist-packages (from roboflow) (3.2)\n",
            "Requirement already satisfied: numpy>=1.18.5 in /usr/local/lib/python3.7/dist-packages (from roboflow) (1.19.5)\n",
            "Requirement already satisfied: kiwisolver==1.3.1 in /usr/local/lib/python3.7/dist-packages (from roboflow) (1.3.1)\n",
            "Requirement already satisfied: chardet==4.0.0 in /usr/local/lib/python3.7/dist-packages (from roboflow) (4.0.0)\n",
            "Requirement already satisfied: Pillow>=7.1.2 in /usr/local/lib/python3.7/dist-packages (from roboflow) (7.1.2)\n",
            "Requirement already satisfied: PyYAML>=5.3.1 in /usr/local/lib/python3.7/dist-packages (from roboflow) (6.0)\n",
            "Requirement already satisfied: idna==2.10 in /usr/local/lib/python3.7/dist-packages (from roboflow) (2.10)\n",
            "Requirement already satisfied: tqdm>=4.41.0 in /usr/local/lib/python3.7/dist-packages (from roboflow) (4.62.3)\n",
            "Requirement already satisfied: six in /usr/local/lib/python3.7/dist-packages (from roboflow) (1.15.0)\n",
            "Requirement already satisfied: cycler==0.10.0 in /usr/local/lib/python3.7/dist-packages (from roboflow) (0.10.0)\n",
            "Requirement already satisfied: matplotlib in /usr/local/lib/python3.7/dist-packages (from roboflow) (3.2.2)\n",
            "Requirement already satisfied: python-dotenv in /usr/local/lib/python3.7/dist-packages (from roboflow) (0.19.2)\n",
            "Requirement already satisfied: charset-normalizer~=2.0.0 in /usr/local/lib/python3.7/dist-packages (from requests->roboflow) (2.0.7)\n",
            "loading Roboflow workspace...\n",
            "loading Roboflow project...\n",
            "Downloading Dataset Version Zip in multiple2-1 to yolov5pytorch: 100% [25442387 / 25442387] bytes\n"
          ]
        },
        {
          "output_type": "stream",
          "name": "stderr",
          "text": [
            "Extracting Dataset Version Zip to multiple2-1 in yolov5pytorch:: 100%|██████████| 4286/4286 [00:24<00:00, 172.78it/s]\n"
          ]
        }
      ]
    },
    {
      "cell_type": "markdown",
      "metadata": {
        "id": "pYwHkfaApoVj"
      },
      "source": [
        "# Git clone YOLOv5 "
      ]
    },
    {
      "cell_type": "code",
      "metadata": {
        "id": "8p1603VijJ_x",
        "colab": {
          "base_uri": "https://localhost:8080/"
        },
        "outputId": "6f958ef0-0932-4ddc-c34b-e258fb39baad"
      },
      "source": [
        "#%cd /content/drive/MyDrive/yolo\n",
        "!git clone https://github.com/ultralytics/yolov5.git"
      ],
      "execution_count": 9,
      "outputs": [
        {
          "output_type": "stream",
          "name": "stdout",
          "text": [
            "Cloning into 'yolov5'...\n",
            "remote: Enumerating objects: 9993, done.\u001b[K\n",
            "remote: Total 9993 (delta 0), reused 0 (delta 0), pack-reused 9993\u001b[K\n",
            "Receiving objects: 100% (9993/9993), 10.34 MiB | 7.40 MiB/s, done.\n",
            "Resolving deltas: 100% (6926/6926), done.\n"
          ]
        }
      ]
    },
    {
      "cell_type": "markdown",
      "metadata": {
        "id": "MZgUTgSmqWfp"
      },
      "source": [
        "# requirements.txt 사용\n",
        "## git을 사용하다 보면 install한 패키지가 달라 문제가 생기는 경우가 있음. 이러한 문제를 예방하기 위해 requirments.txt로 패키지 종속성을 관리함."
      ]
    },
    {
      "cell_type": "code",
      "metadata": {
        "id": "WnS0XLAcj1aO",
        "colab": {
          "base_uri": "https://localhost:8080/"
        },
        "outputId": "b1c40909-ad05-45a7-f6ff-ac6b753d75e4"
      },
      "source": [
        "#%cd /content/yolov5/\n",
        "!pip install -r /content/drive/MyDrive/Astrophysics/1122_mount/yolov5/requirements.txt"
      ],
      "execution_count": 12,
      "outputs": [
        {
          "output_type": "stream",
          "name": "stdout",
          "text": [
            "Requirement already satisfied: matplotlib>=3.2.2 in /usr/local/lib/python3.7/dist-packages (from -r /content/drive/MyDrive/Astrophysics/1122_mount/yolov5/requirements.txt (line 4)) (3.2.2)\n",
            "Requirement already satisfied: numpy>=1.18.5 in /usr/local/lib/python3.7/dist-packages (from -r /content/drive/MyDrive/Astrophysics/1122_mount/yolov5/requirements.txt (line 5)) (1.19.5)\n",
            "Requirement already satisfied: opencv-python>=4.1.2 in /usr/local/lib/python3.7/dist-packages (from -r /content/drive/MyDrive/Astrophysics/1122_mount/yolov5/requirements.txt (line 6)) (4.1.2.30)\n",
            "Requirement already satisfied: Pillow>=7.1.2 in /usr/local/lib/python3.7/dist-packages (from -r /content/drive/MyDrive/Astrophysics/1122_mount/yolov5/requirements.txt (line 7)) (7.1.2)\n",
            "Requirement already satisfied: PyYAML>=5.3.1 in /usr/local/lib/python3.7/dist-packages (from -r /content/drive/MyDrive/Astrophysics/1122_mount/yolov5/requirements.txt (line 8)) (6.0)\n",
            "Requirement already satisfied: requests>=2.23.0 in /usr/local/lib/python3.7/dist-packages (from -r /content/drive/MyDrive/Astrophysics/1122_mount/yolov5/requirements.txt (line 9)) (2.26.0)\n",
            "Requirement already satisfied: scipy>=1.4.1 in /usr/local/lib/python3.7/dist-packages (from -r /content/drive/MyDrive/Astrophysics/1122_mount/yolov5/requirements.txt (line 10)) (1.4.1)\n",
            "Requirement already satisfied: torch>=1.7.0 in /usr/local/lib/python3.7/dist-packages (from -r /content/drive/MyDrive/Astrophysics/1122_mount/yolov5/requirements.txt (line 11)) (1.10.0+cu111)\n",
            "Requirement already satisfied: torchvision>=0.8.1 in /usr/local/lib/python3.7/dist-packages (from -r /content/drive/MyDrive/Astrophysics/1122_mount/yolov5/requirements.txt (line 12)) (0.11.1+cu111)\n",
            "Requirement already satisfied: tqdm>=4.41.0 in /usr/local/lib/python3.7/dist-packages (from -r /content/drive/MyDrive/Astrophysics/1122_mount/yolov5/requirements.txt (line 13)) (4.62.3)\n",
            "Requirement already satisfied: tensorboard>=2.4.1 in /usr/local/lib/python3.7/dist-packages (from -r /content/drive/MyDrive/Astrophysics/1122_mount/yolov5/requirements.txt (line 16)) (2.7.0)\n",
            "Requirement already satisfied: pandas>=1.1.4 in /usr/local/lib/python3.7/dist-packages (from -r /content/drive/MyDrive/Astrophysics/1122_mount/yolov5/requirements.txt (line 20)) (1.1.5)\n",
            "Requirement already satisfied: seaborn>=0.11.0 in /usr/local/lib/python3.7/dist-packages (from -r /content/drive/MyDrive/Astrophysics/1122_mount/yolov5/requirements.txt (line 21)) (0.11.2)\n",
            "Collecting thop\n",
            "  Downloading thop-0.0.31.post2005241907-py3-none-any.whl (8.7 kB)\n",
            "Requirement already satisfied: cycler>=0.10 in /usr/local/lib/python3.7/dist-packages (from matplotlib>=3.2.2->-r /content/drive/MyDrive/Astrophysics/1122_mount/yolov5/requirements.txt (line 4)) (0.10.0)\n",
            "Requirement already satisfied: pyparsing!=2.0.4,!=2.1.2,!=2.1.6,>=2.0.1 in /usr/local/lib/python3.7/dist-packages (from matplotlib>=3.2.2->-r /content/drive/MyDrive/Astrophysics/1122_mount/yolov5/requirements.txt (line 4)) (2.4.7)\n",
            "Requirement already satisfied: kiwisolver>=1.0.1 in /usr/local/lib/python3.7/dist-packages (from matplotlib>=3.2.2->-r /content/drive/MyDrive/Astrophysics/1122_mount/yolov5/requirements.txt (line 4)) (1.3.1)\n",
            "Requirement already satisfied: python-dateutil>=2.1 in /usr/local/lib/python3.7/dist-packages (from matplotlib>=3.2.2->-r /content/drive/MyDrive/Astrophysics/1122_mount/yolov5/requirements.txt (line 4)) (2.8.2)\n",
            "Requirement already satisfied: certifi>=2017.4.17 in /usr/local/lib/python3.7/dist-packages (from requests>=2.23.0->-r /content/drive/MyDrive/Astrophysics/1122_mount/yolov5/requirements.txt (line 9)) (2021.5.30)\n",
            "Requirement already satisfied: charset-normalizer~=2.0.0 in /usr/local/lib/python3.7/dist-packages (from requests>=2.23.0->-r /content/drive/MyDrive/Astrophysics/1122_mount/yolov5/requirements.txt (line 9)) (2.0.7)\n",
            "Requirement already satisfied: urllib3<1.27,>=1.21.1 in /usr/local/lib/python3.7/dist-packages (from requests>=2.23.0->-r /content/drive/MyDrive/Astrophysics/1122_mount/yolov5/requirements.txt (line 9)) (1.26.6)\n",
            "Requirement already satisfied: idna<4,>=2.5 in /usr/local/lib/python3.7/dist-packages (from requests>=2.23.0->-r /content/drive/MyDrive/Astrophysics/1122_mount/yolov5/requirements.txt (line 9)) (2.10)\n",
            "Requirement already satisfied: typing-extensions in /usr/local/lib/python3.7/dist-packages (from torch>=1.7.0->-r /content/drive/MyDrive/Astrophysics/1122_mount/yolov5/requirements.txt (line 11)) (3.10.0.2)\n",
            "Requirement already satisfied: markdown>=2.6.8 in /usr/local/lib/python3.7/dist-packages (from tensorboard>=2.4.1->-r /content/drive/MyDrive/Astrophysics/1122_mount/yolov5/requirements.txt (line 16)) (3.3.6)\n",
            "Requirement already satisfied: protobuf>=3.6.0 in /usr/local/lib/python3.7/dist-packages (from tensorboard>=2.4.1->-r /content/drive/MyDrive/Astrophysics/1122_mount/yolov5/requirements.txt (line 16)) (3.17.3)\n",
            "Requirement already satisfied: tensorboard-data-server<0.7.0,>=0.6.0 in /usr/local/lib/python3.7/dist-packages (from tensorboard>=2.4.1->-r /content/drive/MyDrive/Astrophysics/1122_mount/yolov5/requirements.txt (line 16)) (0.6.1)\n",
            "Requirement already satisfied: setuptools>=41.0.0 in /usr/local/lib/python3.7/dist-packages (from tensorboard>=2.4.1->-r /content/drive/MyDrive/Astrophysics/1122_mount/yolov5/requirements.txt (line 16)) (57.4.0)\n",
            "Requirement already satisfied: google-auth<3,>=1.6.3 in /usr/local/lib/python3.7/dist-packages (from tensorboard>=2.4.1->-r /content/drive/MyDrive/Astrophysics/1122_mount/yolov5/requirements.txt (line 16)) (1.35.0)\n",
            "Requirement already satisfied: grpcio>=1.24.3 in /usr/local/lib/python3.7/dist-packages (from tensorboard>=2.4.1->-r /content/drive/MyDrive/Astrophysics/1122_mount/yolov5/requirements.txt (line 16)) (1.42.0)\n",
            "Requirement already satisfied: absl-py>=0.4 in /usr/local/lib/python3.7/dist-packages (from tensorboard>=2.4.1->-r /content/drive/MyDrive/Astrophysics/1122_mount/yolov5/requirements.txt (line 16)) (0.12.0)\n",
            "Requirement already satisfied: tensorboard-plugin-wit>=1.6.0 in /usr/local/lib/python3.7/dist-packages (from tensorboard>=2.4.1->-r /content/drive/MyDrive/Astrophysics/1122_mount/yolov5/requirements.txt (line 16)) (1.8.0)\n",
            "Requirement already satisfied: werkzeug>=0.11.15 in /usr/local/lib/python3.7/dist-packages (from tensorboard>=2.4.1->-r /content/drive/MyDrive/Astrophysics/1122_mount/yolov5/requirements.txt (line 16)) (1.0.1)\n",
            "Requirement already satisfied: google-auth-oauthlib<0.5,>=0.4.1 in /usr/local/lib/python3.7/dist-packages (from tensorboard>=2.4.1->-r /content/drive/MyDrive/Astrophysics/1122_mount/yolov5/requirements.txt (line 16)) (0.4.6)\n",
            "Requirement already satisfied: wheel>=0.26 in /usr/local/lib/python3.7/dist-packages (from tensorboard>=2.4.1->-r /content/drive/MyDrive/Astrophysics/1122_mount/yolov5/requirements.txt (line 16)) (0.37.0)\n",
            "Requirement already satisfied: pytz>=2017.2 in /usr/local/lib/python3.7/dist-packages (from pandas>=1.1.4->-r /content/drive/MyDrive/Astrophysics/1122_mount/yolov5/requirements.txt (line 20)) (2018.9)\n",
            "Requirement already satisfied: six in /usr/local/lib/python3.7/dist-packages (from absl-py>=0.4->tensorboard>=2.4.1->-r /content/drive/MyDrive/Astrophysics/1122_mount/yolov5/requirements.txt (line 16)) (1.15.0)\n",
            "Requirement already satisfied: cachetools<5.0,>=2.0.0 in /usr/local/lib/python3.7/dist-packages (from google-auth<3,>=1.6.3->tensorboard>=2.4.1->-r /content/drive/MyDrive/Astrophysics/1122_mount/yolov5/requirements.txt (line 16)) (4.2.4)\n",
            "Requirement already satisfied: rsa<5,>=3.1.4 in /usr/local/lib/python3.7/dist-packages (from google-auth<3,>=1.6.3->tensorboard>=2.4.1->-r /content/drive/MyDrive/Astrophysics/1122_mount/yolov5/requirements.txt (line 16)) (4.7.2)\n",
            "Requirement already satisfied: pyasn1-modules>=0.2.1 in /usr/local/lib/python3.7/dist-packages (from google-auth<3,>=1.6.3->tensorboard>=2.4.1->-r /content/drive/MyDrive/Astrophysics/1122_mount/yolov5/requirements.txt (line 16)) (0.2.8)\n",
            "Requirement already satisfied: requests-oauthlib>=0.7.0 in /usr/local/lib/python3.7/dist-packages (from google-auth-oauthlib<0.5,>=0.4.1->tensorboard>=2.4.1->-r /content/drive/MyDrive/Astrophysics/1122_mount/yolov5/requirements.txt (line 16)) (1.3.0)\n",
            "Requirement already satisfied: importlib-metadata>=4.4 in /usr/local/lib/python3.7/dist-packages (from markdown>=2.6.8->tensorboard>=2.4.1->-r /content/drive/MyDrive/Astrophysics/1122_mount/yolov5/requirements.txt (line 16)) (4.8.2)\n",
            "Requirement already satisfied: zipp>=0.5 in /usr/local/lib/python3.7/dist-packages (from importlib-metadata>=4.4->markdown>=2.6.8->tensorboard>=2.4.1->-r /content/drive/MyDrive/Astrophysics/1122_mount/yolov5/requirements.txt (line 16)) (3.6.0)\n",
            "Requirement already satisfied: pyasn1<0.5.0,>=0.4.6 in /usr/local/lib/python3.7/dist-packages (from pyasn1-modules>=0.2.1->google-auth<3,>=1.6.3->tensorboard>=2.4.1->-r /content/drive/MyDrive/Astrophysics/1122_mount/yolov5/requirements.txt (line 16)) (0.4.8)\n",
            "Requirement already satisfied: oauthlib>=3.0.0 in /usr/local/lib/python3.7/dist-packages (from requests-oauthlib>=0.7.0->google-auth-oauthlib<0.5,>=0.4.1->tensorboard>=2.4.1->-r /content/drive/MyDrive/Astrophysics/1122_mount/yolov5/requirements.txt (line 16)) (3.1.1)\n",
            "Installing collected packages: thop\n",
            "Successfully installed thop-0.0.31.post2005241907\n"
          ]
        }
      ]
    },
    {
      "cell_type": "markdown",
      "metadata": {
        "id": "U5eZwdTJrTwt"
      },
      "source": [
        "#파일 리스트 추출"
      ]
    },
    {
      "cell_type": "code",
      "metadata": {
        "id": "59bxmTd0krk4"
      },
      "source": [
        "from glob import glob\n",
        "\n",
        "img_list=glob('/content/drive/MyDrive/Astrophysics/1122_mount/multiple2-1/train/images/*.jpg')\n",
        "\n",
        "# gun_img_list = glob('/content/gun_train/images/*.jpg')\n",
        "# knife_img_list= glob('/content/knife_train/train/images/*.jpg')\n",
        "# spanner_img_list= glob('/content/spanner_train/images/*.jpg')\n",
        "\n"
      ],
      "execution_count": 16,
      "outputs": []
    },
    {
      "cell_type": "code",
      "metadata": {
        "colab": {
          "base_uri": "https://localhost:8080/"
        },
        "id": "chtmQzef00EN",
        "outputId": "d6b3ae3b-451b-4964-8f30-dbf28a2f86eb"
      },
      "source": [
        "# img_list 개수 확인\n",
        "print(len(img_list))\n",
        "\n",
        "\n",
        "# # all_img_list=[]\n",
        "# # for i in gun_img_list:\n",
        "# #     all_img_list.append(i)\n",
        "# # for i in knife_img_list:\n",
        "# #     all_img_list.append(i)\n",
        "# # for i in spanner_img_list:\n",
        "# #     all_img_list.append(i)\n",
        "    \n",
        "# print(len(all_img_list))"
      ],
      "execution_count": 17,
      "outputs": [
        {
          "output_type": "stream",
          "name": "stdout",
          "text": [
            "2140\n"
          ]
        }
      ]
    },
    {
      "cell_type": "markdown",
      "metadata": {
        "id": "OhCAc14Dre8u"
      },
      "source": [
        "#학습용 데이터 검증용 데이터 분리"
      ]
    },
    {
      "cell_type": "code",
      "metadata": {
        "id": "cJbipgDylAHY",
        "colab": {
          "base_uri": "https://localhost:8080/"
        },
        "outputId": "6b163e5b-11a4-4614-acdb-1e725b9eb1ec"
      },
      "source": [
        "from sklearn.model_selection import train_test_split\n",
        "\n",
        "train_img_list, val_img_list = train_test_split(img_list, test_size=0.2, random_state=2000)\n",
        "\n",
        "print(len(train_img_list), len(val_img_list))"
      ],
      "execution_count": 18,
      "outputs": [
        {
          "output_type": "stream",
          "name": "stdout",
          "text": [
            "1712 428\n"
          ]
        }
      ]
    },
    {
      "cell_type": "markdown",
      "metadata": {
        "id": "DIEqlGDDrwSF"
      },
      "source": [
        "# 이미지 경로 텍스트 파일에 저장"
      ]
    },
    {
      "cell_type": "code",
      "metadata": {
        "id": "YewU3sWClTyh"
      },
      "source": [
        "with open('/content/drive/MyDrive/Astrophysics/1122_mount/multiple2-1/train/train.txt', 'w') as f:\n",
        "  f.write('\\n'.join(train_img_list) + '\\n')\n",
        "\n",
        "with open('/content/drive/MyDrive/Astrophysics/1122_mount/multiple2-1/train/val.txt', 'w') as f:\n",
        "  f.write('\\n'.join(val_img_list) + '\\n')"
      ],
      "execution_count": 19,
      "outputs": []
    },
    {
      "cell_type": "code",
      "metadata": {
        "id": "w8JhXyYBlrrW",
        "colab": {
          "base_uri": "https://localhost:8080/"
        },
        "outputId": "7fcd8ead-11ab-4243-9a65-23c3b341e49b"
      },
      "source": [
        "import yaml\n",
        "\n",
        "with open('/content/drive/MyDrive/Astrophysics/1122_mount/multiple2-1/multiple_data.yaml', 'r') as f:\n",
        "  yaml_data = yaml.safe_load(f)\n",
        "\n",
        "print(yaml_data)\n",
        "\n",
        "yaml_data['train'] = '/content/drive/MyDrive/Astrophysics/1122_mount/multiple2-1/train/train.txt'\n",
        "yaml_data['val'] = '/content/drive/MyDrive/Astrophysics/1122_mount/multiple2-1/train/val.txt'\n",
        "\n",
        "with open('/content/drive/MyDrive/Astrophysics/1122_mount/multiple2-1/multiple_data.yaml', 'w') as f:\n",
        "  yaml.dump(yaml_data, f)\n",
        "\n",
        "print(yaml_data)"
      ],
      "execution_count": 21,
      "outputs": [
        {
          "output_type": "stream",
          "name": "stdout",
          "text": [
            "{'names': ['Axe', 'Chisel', 'Gun', 'HandCuffs', 'Knife', 'Lighter', 'Plier', 'Saw', 'Scissors', 'Screwdriver', 'Spanner', 'SupplymentaryBattery'], 'nc': 12, 'train': 'multiple2-1/train/images', 'val': 'multiple2-1/valid/images'}\n",
            "{'names': ['Axe', 'Chisel', 'Gun', 'HandCuffs', 'Knife', 'Lighter', 'Plier', 'Saw', 'Scissors', 'Screwdriver', 'Spanner', 'SupplymentaryBattery'], 'nc': 12, 'train': '/content/drive/MyDrive/Astrophysics/1122_mount/multiple2-1/train/train.txt', 'val': '/content/drive/MyDrive/Astrophysics/1122_mount/multiple2-1/train/val.txt'}\n"
          ]
        }
      ]
    },
    {
      "cell_type": "code",
      "metadata": {
        "colab": {
          "base_uri": "https://localhost:8080/",
          "height": 36
        },
        "id": "oXWojIBhLeyp",
        "outputId": "1040a427-94f1-47ce-ded1-557b1d950160"
      },
      "source": [
        "yaml_data[\"names\"][2]"
      ],
      "execution_count": 22,
      "outputs": [
        {
          "output_type": "execute_result",
          "data": {
            "application/vnd.google.colaboratory.intrinsic+json": {
              "type": "string"
            },
            "text/plain": [
              "'Gun'"
            ]
          },
          "metadata": {},
          "execution_count": 22
        }
      ]
    },
    {
      "cell_type": "markdown",
      "metadata": {
        "id": "B9LYIQEGAgL2"
      },
      "source": [
        "# 데이터 학습\n",
        "## 확인차 겸 epoch 은 5개만 했습니다\n",
        "\n",
        "### "
      ]
    },
    {
      "cell_type": "code",
      "metadata": {
        "id": "Das7YGgqmSUL",
        "colab": {
          "base_uri": "https://localhost:8080/"
        },
        "outputId": "81fb08e4-24dd-4f58-e44c-399f303a846c"
      },
      "source": [
        "%cd /content/drive/MyDrive/Astrophysics/1122_mount/yolov5\n",
        "\n",
        "!python train.py --img 416 --batch 16 --epochs 5 --data /content/drive/MyDrive/Astrophysics/1122_mount/multiple2-1/multiple_data.yaml --cfg ./models/yolov5s.yaml --weights yolov5s.pt --name multiple_yolov5s_results"
      ],
      "execution_count": 24,
      "outputs": [
        {
          "output_type": "stream",
          "name": "stdout",
          "text": [
            "/content/drive/.shortcut-targets-by-id/16oCueqwvnKt564dZ0WW_5p3nppsa07g8/Astrophysics/1122_mount/yolov5\n",
            "\u001b[34m\u001b[1mtrain: \u001b[0mweights=yolov5s.pt, cfg=./models/yolov5s.yaml, data=/content/drive/MyDrive/Astrophysics/1122_mount/multiple2-1/multiple_data.yaml, hyp=data/hyps/hyp.scratch.yaml, epochs=5, batch_size=16, imgsz=416, rect=False, resume=False, nosave=False, noval=False, noautoanchor=False, evolve=None, bucket=, cache=None, image_weights=False, device=, multi_scale=False, single_cls=False, adam=False, sync_bn=False, workers=8, project=runs/train, name=multiple_yolov5s_results, exist_ok=False, quad=False, linear_lr=False, label_smoothing=0.0, patience=100, freeze=0, save_period=-1, local_rank=-1, entity=None, upload_dataset=False, bbox_interval=-1, artifact_alias=latest\n",
            "\u001b[34m\u001b[1mgithub: \u001b[0mup to date with https://github.com/ultralytics/yolov5 ✅\n",
            "YOLOv5 🚀 v6.0-100-g5185981 torch 1.10.0+cu111 CUDA:0 (Tesla P100-PCIE-16GB, 16281MiB)\n",
            "\n",
            "\u001b[34m\u001b[1mhyperparameters: \u001b[0mlr0=0.01, lrf=0.1, momentum=0.937, weight_decay=0.0005, warmup_epochs=3.0, warmup_momentum=0.8, warmup_bias_lr=0.1, box=0.05, cls=0.5, cls_pw=1.0, obj=1.0, obj_pw=1.0, iou_t=0.2, anchor_t=4.0, fl_gamma=0.0, hsv_h=0.015, hsv_s=0.7, hsv_v=0.4, degrees=0.0, translate=0.1, scale=0.5, shear=0.0, perspective=0.0, flipud=0.0, fliplr=0.5, mosaic=1.0, mixup=0.0, copy_paste=0.0\n",
            "\u001b[34m\u001b[1mWeights & Biases: \u001b[0mrun 'pip install wandb' to automatically track and visualize YOLOv5 🚀 runs (RECOMMENDED)\n",
            "\u001b[34m\u001b[1mTensorBoard: \u001b[0mStart with 'tensorboard --logdir runs/train', view at http://localhost:6006/\n",
            "Downloading https://github.com/ultralytics/yolov5/releases/download/v6.0/yolov5s.pt to yolov5s.pt...\n",
            "100% 14.0M/14.0M [00:00<00:00, 72.4MB/s]\n",
            "\n",
            "Overriding model.yaml nc=80 with nc=12\n",
            "\n",
            "                 from  n    params  module                                  arguments                     \n",
            "  0                -1  1      3520  models.common.Conv                      [3, 32, 6, 2, 2]              \n",
            "  1                -1  1     18560  models.common.Conv                      [32, 64, 3, 2]                \n",
            "  2                -1  1     18816  models.common.C3                        [64, 64, 1]                   \n",
            "  3                -1  1     73984  models.common.Conv                      [64, 128, 3, 2]               \n",
            "  4                -1  2    115712  models.common.C3                        [128, 128, 2]                 \n",
            "  5                -1  1    295424  models.common.Conv                      [128, 256, 3, 2]              \n",
            "  6                -1  3    625152  models.common.C3                        [256, 256, 3]                 \n",
            "  7                -1  1   1180672  models.common.Conv                      [256, 512, 3, 2]              \n",
            "  8                -1  1   1182720  models.common.C3                        [512, 512, 1]                 \n",
            "  9                -1  1    656896  models.common.SPPF                      [512, 512, 5]                 \n",
            " 10                -1  1    131584  models.common.Conv                      [512, 256, 1, 1]              \n",
            " 11                -1  1         0  torch.nn.modules.upsampling.Upsample    [None, 2, 'nearest']          \n",
            " 12           [-1, 6]  1         0  models.common.Concat                    [1]                           \n",
            " 13                -1  1    361984  models.common.C3                        [512, 256, 1, False]          \n",
            " 14                -1  1     33024  models.common.Conv                      [256, 128, 1, 1]              \n",
            " 15                -1  1         0  torch.nn.modules.upsampling.Upsample    [None, 2, 'nearest']          \n",
            " 16           [-1, 4]  1         0  models.common.Concat                    [1]                           \n",
            " 17                -1  1     90880  models.common.C3                        [256, 128, 1, False]          \n",
            " 18                -1  1    147712  models.common.Conv                      [128, 128, 3, 2]              \n",
            " 19          [-1, 14]  1         0  models.common.Concat                    [1]                           \n",
            " 20                -1  1    296448  models.common.C3                        [256, 256, 1, False]          \n",
            " 21                -1  1    590336  models.common.Conv                      [256, 256, 3, 2]              \n",
            " 22          [-1, 10]  1         0  models.common.Concat                    [1]                           \n",
            " 23                -1  1   1182720  models.common.C3                        [512, 512, 1, False]          \n",
            " 24      [17, 20, 23]  1     45849  models.yolo.Detect                      [12, [[10, 13, 16, 30, 33, 23], [30, 61, 62, 45, 59, 119], [116, 90, 156, 198, 373, 326]], [128, 256, 512]]\n",
            "Model Summary: 270 layers, 7051993 parameters, 7051993 gradients, 15.9 GFLOPs\n",
            "\n",
            "Transferred 342/349 items from yolov5s.pt\n",
            "Scaled weight_decay = 0.0005\n",
            "\u001b[34m\u001b[1moptimizer:\u001b[0m SGD with parameter groups 57 weight, 60 weight (no decay), 60 bias\n",
            "\u001b[34m\u001b[1malbumentations: \u001b[0mversion 1.0.3 required by YOLOv5, but version 0.1.12 is currently installed\n",
            "\u001b[34m\u001b[1mtrain: \u001b[0mScanning '/content/drive/MyDrive/Astrophysics/1122_mount/multiple2-1/train/train' images and labels...1712 found, 0 missing, 0 empty, 0 corrupted: 100% 1712/1712 [00:06<00:00, 251.20it/s]\n",
            "\u001b[34m\u001b[1mtrain: \u001b[0mNew cache created: /content/drive/MyDrive/Astrophysics/1122_mount/multiple2-1/train/train.cache\n",
            "\u001b[34m\u001b[1mval: \u001b[0mScanning '/content/drive/MyDrive/Astrophysics/1122_mount/multiple2-1/train/val' images and labels...428 found, 0 missing, 0 empty, 0 corrupted: 100% 428/428 [00:02<00:00, 190.45it/s]\n",
            "\u001b[34m\u001b[1mval: \u001b[0mNew cache created: /content/drive/MyDrive/Astrophysics/1122_mount/multiple2-1/train/val.cache\n",
            "Plotting labels to runs/train/multiple_yolov5s_results/labels.jpg... \n",
            "\n",
            "\u001b[34m\u001b[1mAutoAnchor: \u001b[0m5.58 anchors/target, 0.999 Best Possible Recall (BPR). Current anchors are a good fit to dataset ✅\n",
            "Image sizes 416 train, 416 val\n",
            "Using 2 dataloader workers\n",
            "Logging results to \u001b[1mruns/train/multiple_yolov5s_results\u001b[0m\n",
            "Starting training for 5 epochs...\n",
            "\n",
            "     Epoch   gpu_mem       box       obj       cls    labels  img_size\n",
            "       0/4     1.64G    0.1074   0.03755   0.05752       126       416: 100% 107/107 [00:39<00:00,  2.72it/s]\n",
            "               Class     Images     Labels          P          R     mAP@.5 mAP@.5:.95: 100% 14/14 [00:05<00:00,  2.56it/s]\n",
            "                 all        428       1905      0.931     0.0224     0.0113    0.00191\n",
            "\n",
            "     Epoch   gpu_mem       box       obj       cls    labels  img_size\n",
            "       1/4     1.74G   0.08459   0.03601   0.04252        89       416: 100% 107/107 [00:37<00:00,  2.86it/s]\n",
            "               Class     Images     Labels          P          R     mAP@.5 mAP@.5:.95: 100% 14/14 [00:04<00:00,  3.20it/s]\n",
            "                 all        428       1905      0.943     0.0399     0.0273    0.00643\n",
            "\n",
            "     Epoch   gpu_mem       box       obj       cls    labels  img_size\n",
            "       2/4     1.74G   0.07811    0.0357   0.04071       114       416: 100% 107/107 [00:37<00:00,  2.89it/s]\n",
            "               Class     Images     Labels          P          R     mAP@.5 mAP@.5:.95: 100% 14/14 [00:04<00:00,  3.28it/s]\n",
            "                 all        428       1905      0.965     0.0502     0.0586     0.0265\n",
            "\n",
            "     Epoch   gpu_mem       box       obj       cls    labels  img_size\n",
            "       3/4     1.74G     0.072   0.03476   0.04012        89       416: 100% 107/107 [00:36<00:00,  2.89it/s]\n",
            "               Class     Images     Labels          P          R     mAP@.5 mAP@.5:.95: 100% 14/14 [00:04<00:00,  3.38it/s]\n",
            "                 all        428       1905       0.97     0.0527     0.0664     0.0316\n",
            "\n",
            "     Epoch   gpu_mem       box       obj       cls    labels  img_size\n",
            "       4/4     1.74G   0.06788   0.03485   0.03881       116       416: 100% 107/107 [00:36<00:00,  2.90it/s]\n",
            "               Class     Images     Labels          P          R     mAP@.5 mAP@.5:.95: 100% 14/14 [00:04<00:00,  3.39it/s]\n",
            "                 all        428       1905      0.302      0.114     0.0727     0.0353\n",
            "\n",
            "5 epochs completed in 0.059 hours.\n",
            "Optimizer stripped from runs/train/multiple_yolov5s_results/weights/last.pt, 14.4MB\n",
            "Optimizer stripped from runs/train/multiple_yolov5s_results/weights/best.pt, 14.4MB\n",
            "\n",
            "Validating runs/train/multiple_yolov5s_results/weights/best.pt...\n",
            "Fusing layers... \n",
            "Model Summary: 213 layers, 7042489 parameters, 0 gradients, 15.9 GFLOPs\n",
            "               Class     Images     Labels          P          R     mAP@.5 mAP@.5:.95: 100% 14/14 [00:06<00:00,  2.22it/s]\n",
            "                 all        428       1905      0.302      0.115     0.0725     0.0353\n",
            "                 Axe        428         26          1          0    0.00817    0.00508\n",
            "              Chisel        428         74          0          0    0.00556    0.00137\n",
            "                 Gun        428        856      0.112       0.84      0.534      0.278\n",
            "           HandCuffs        428        107          0          0     0.0243     0.0101\n",
            "               Knife        428        138     0.0902     0.0942     0.0366     0.0164\n",
            "             Lighter        428        134          0          0   0.000378   6.68e-05\n",
            "               Plier        428        103      0.189      0.136     0.0638       0.03\n",
            "                 Saw        428         39          1          0    0.00822    0.00346\n",
            "            Scissors        428        112          0          0    0.00791    0.00232\n",
            "         Screwdriver        428         48          1          0   0.000891   0.000561\n",
            "             Spanner        428         92          0          0     0.0144    0.00605\n",
            "SupplymentaryBattery        428        176      0.237      0.307      0.166     0.0702\n",
            "Results saved to \u001b[1mruns/train/multiple_yolov5s_results\u001b[0m\n"
          ]
        }
      ]
    },
    {
      "cell_type": "markdown",
      "metadata": {
        "id": "E1uftbeMNZvK"
      },
      "source": [
        "##detect.py의 save-txt랑 save-conf 를 이용하여 label을 저장\n"
      ]
    },
    {
      "cell_type": "code",
      "metadata": {
        "id": "TQQ-ZJApwKCZ",
        "colab": {
          "base_uri": "https://localhost:8080/",
          "height": 201
        },
        "outputId": "d18ba320-e658-478f-be3e-84f3317c5def"
      },
      "source": [
        "from IPython.display import Image\n",
        "import os\n",
        "\n",
        "val_img_path = '/content/drive/MyDrive/train_2/H_8424-20-1000_01_322_png.rf.1af472436ef19df86dd1f7ecf8909bf2.jpg'\n",
        "\n",
        "!python /content/drive/MyDrive/Astrophysics/1122_mount/yolov5/detect.py --weights /content/drive/MyDrive/Astrophysics/1122_mount/yolov5/runs/train/multiple_yolov5s_results/weights/best.pt --img 416  --conf 0.5  --save-txt --save-conf --source \"{val_img_path}\"\n",
        "\n",
        "Image(os.path.join('/content/drive/MyDrive/Astrophysics/1122_mount/yolov5/', os.path.basename(val_img_path)))"
      ],
      "execution_count": 27,
      "outputs": [
        {
          "output_type": "stream",
          "name": "stdout",
          "text": [
            "\u001b[34m\u001b[1mdetect: \u001b[0mweights=['/content/drive/MyDrive/Astrophysics/1122_mount/yolov5/runs/train/multiple_yolov5s_results/weights/best.pt'], source=/content/drive/MyDrive/train_2/H_8424-20-1000_01_322_png.rf.1af472436ef19df86dd1f7ecf8909bf2.jpg, imgsz=[416, 416], conf_thres=0.5, iou_thres=0.45, max_det=1000, device=, view_img=False, save_txt=True, save_conf=True, save_crop=False, nosave=False, classes=None, agnostic_nms=False, augment=False, visualize=False, update=False, project=runs/detect, name=exp, exist_ok=False, line_thickness=3, hide_labels=False, hide_conf=False, half=False, dnn=False\n",
            "YOLOv5 🚀 v6.0-100-g5185981 torch 1.10.0+cu111 CUDA:0 (Tesla P100-PCIE-16GB, 16281MiB)\n",
            "\n",
            "Fusing layers... \n",
            "Model Summary: 213 layers, 7042489 parameters, 0 gradients, 15.9 GFLOPs\n",
            "image 1/1 /content/drive/MyDrive/train_2/H_8424-20-1000_01_322_png.rf.1af472436ef19df86dd1f7ecf8909bf2.jpg: 416x416 2 Guns, Done. (0.008s)\n",
            "Speed: 0.5ms pre-process, 7.7ms inference, 1.6ms NMS per image at shape (1, 3, 416, 416)\n",
            "Results saved to \u001b[1mruns/detect/exp\u001b[0m\n",
            "1 labels saved to runs/detect/exp/labels\n"
          ]
        },
        {
          "output_type": "execute_result",
          "data": {
            "image/png": "/content/drive/MyDrive/Astrophysics/1122_mount/yolov5/H_8424-20-1000_01_322_png.rf.1af472436ef19df86dd1f7ecf8909bf2.jpg",
            "text/plain": [
              "<IPython.core.display.Image object>"
            ]
          },
          "metadata": {},
          "execution_count": 27
        }
      ]
    },
    {
      "cell_type": "code",
      "metadata": {
        "colab": {
          "base_uri": "https://localhost:8080/",
          "height": 201
        },
        "id": "4GEKAjAne94E",
        "outputId": "bf878e4b-031e-4d7c-9fbf-d06661a3063e"
      },
      "source": [
        "from IPython.display import Image\n",
        "import os\n",
        "\n",
        "val_img_path = '/content/drive/MyDrive/Astrophysics/1122_mount/multiple2-1/train/images/H_8424-20-1000_01_319_png.rf.e69a933a37060b7ab1a920a29e6c7bdd.jpg'\n",
        "\n",
        "!python /content/drive/MyDrive/Astrophysics/1122_mount/yolov5/detect.py --weights /content/drive/MyDrive/Astrophysics/1122_mount/yolov5/runs/train/multiple_yolov5s_results/weights/best.pt --img 416  --conf 0.5  --save-txt --save-conf --source \"{val_img_path}\"\n",
        "\n",
        "Image(os.path.join('/content/drive/MyDrive/Astrophysics/1122_mount/yolov5/', os.path.basename(val_img_path)))"
      ],
      "execution_count": 28,
      "outputs": [
        {
          "output_type": "stream",
          "name": "stdout",
          "text": [
            "\u001b[34m\u001b[1mdetect: \u001b[0mweights=['/content/drive/MyDrive/Astrophysics/1122_mount/yolov5/runs/train/multiple_yolov5s_results/weights/best.pt'], source=/content/drive/MyDrive/Astrophysics/1122_mount/multiple2-1/train/images/H_8424-20-1000_01_319_png.rf.e69a933a37060b7ab1a920a29e6c7bdd.jpg, imgsz=[416, 416], conf_thres=0.5, iou_thres=0.45, max_det=1000, device=, view_img=False, save_txt=True, save_conf=True, save_crop=False, nosave=False, classes=None, agnostic_nms=False, augment=False, visualize=False, update=False, project=runs/detect, name=exp, exist_ok=False, line_thickness=3, hide_labels=False, hide_conf=False, half=False, dnn=False\n",
            "YOLOv5 🚀 v6.0-100-g5185981 torch 1.10.0+cu111 CUDA:0 (Tesla P100-PCIE-16GB, 16281MiB)\n",
            "\n",
            "Fusing layers... \n",
            "Model Summary: 213 layers, 7042489 parameters, 0 gradients, 15.9 GFLOPs\n",
            "image 1/1 /content/drive/.shortcut-targets-by-id/16oCueqwvnKt564dZ0WW_5p3nppsa07g8/Astrophysics/1122_mount/multiple2-1/train/images/H_8424-20-1000_01_319_png.rf.e69a933a37060b7ab1a920a29e6c7bdd.jpg: 416x416 2 Guns, Done. (0.007s)\n",
            "Speed: 0.4ms pre-process, 7.0ms inference, 1.2ms NMS per image at shape (1, 3, 416, 416)\n",
            "Results saved to \u001b[1mruns/detect/exp2\u001b[0m\n",
            "1 labels saved to runs/detect/exp2/labels\n"
          ]
        },
        {
          "output_type": "execute_result",
          "data": {
            "image/png": "/content/drive/MyDrive/Astrophysics/1122_mount/yolov5/H_8424-20-1000_01_319_png.rf.e69a933a37060b7ab1a920a29e6c7bdd.jpg",
            "text/plain": [
              "<IPython.core.display.Image object>"
            ]
          },
          "metadata": {},
          "execution_count": 28
        }
      ]
    },
    {
      "cell_type": "code",
      "metadata": {
        "colab": {
          "base_uri": "https://localhost:8080/",
          "height": 201
        },
        "id": "MY4oyZitfFXX",
        "outputId": "f7044e44-5de4-42b7-c41a-c9f7190cab38"
      },
      "source": [
        "from IPython.display import Image\n",
        "import os\n",
        "\n",
        "val_img_path = '/content/drive/MyDrive/Astrophysics/1122_mount/multiple2-1/train/images/H_8424-20-1000_01_320_png.rf.b33b672f0f586599ca1e5c137047a3d7.jpg'\n",
        "\n",
        "!python /content/drive/MyDrive/Astrophysics/1122_mount/yolov5/detect.py --weights /content/drive/MyDrive/Astrophysics/1122_mount/yolov5/runs/train/multiple_yolov5s_results/weights/best.pt --img 416  --conf 0.5  --save-txt --save-conf --source \"{val_img_path}\"\n",
        "\n",
        "Image(os.path.join('/content/drive/MyDrive/Astrophysics/1122_mount/yolov5/', os.path.basename(val_img_path)))"
      ],
      "execution_count": 29,
      "outputs": [
        {
          "output_type": "stream",
          "name": "stdout",
          "text": [
            "\u001b[34m\u001b[1mdetect: \u001b[0mweights=['/content/drive/MyDrive/Astrophysics/1122_mount/yolov5/runs/train/multiple_yolov5s_results/weights/best.pt'], source=/content/drive/MyDrive/Astrophysics/1122_mount/multiple2-1/train/images/H_8424-20-1000_01_320_png.rf.b33b672f0f586599ca1e5c137047a3d7.jpg, imgsz=[416, 416], conf_thres=0.5, iou_thres=0.45, max_det=1000, device=, view_img=False, save_txt=True, save_conf=True, save_crop=False, nosave=False, classes=None, agnostic_nms=False, augment=False, visualize=False, update=False, project=runs/detect, name=exp, exist_ok=False, line_thickness=3, hide_labels=False, hide_conf=False, half=False, dnn=False\n",
            "YOLOv5 🚀 v6.0-100-g5185981 torch 1.10.0+cu111 CUDA:0 (Tesla P100-PCIE-16GB, 16281MiB)\n",
            "\n",
            "Fusing layers... \n",
            "Model Summary: 213 layers, 7042489 parameters, 0 gradients, 15.9 GFLOPs\n",
            "image 1/1 /content/drive/.shortcut-targets-by-id/16oCueqwvnKt564dZ0WW_5p3nppsa07g8/Astrophysics/1122_mount/multiple2-1/train/images/H_8424-20-1000_01_320_png.rf.b33b672f0f586599ca1e5c137047a3d7.jpg: 416x416 1 Gun, Done. (0.007s)\n",
            "Speed: 0.3ms pre-process, 6.6ms inference, 1.2ms NMS per image at shape (1, 3, 416, 416)\n",
            "Results saved to \u001b[1mruns/detect/exp3\u001b[0m\n",
            "1 labels saved to runs/detect/exp3/labels\n"
          ]
        },
        {
          "output_type": "execute_result",
          "data": {
            "image/png": "/content/drive/MyDrive/Astrophysics/1122_mount/yolov5/H_8424-20-1000_01_320_png.rf.b33b672f0f586599ca1e5c137047a3d7.jpg",
            "text/plain": [
              "<IPython.core.display.Image object>"
            ]
          },
          "metadata": {},
          "execution_count": 29
        }
      ]
    },
    {
      "cell_type": "code",
      "metadata": {
        "colab": {
          "base_uri": "https://localhost:8080/"
        },
        "id": "GwNSIxx9kUnY",
        "outputId": "1a86c8b3-b4cc-4269-8f0b-c7474eaf48c6"
      },
      "source": [
        "yaml_data[\"names\"]"
      ],
      "execution_count": 40,
      "outputs": [
        {
          "output_type": "execute_result",
          "data": {
            "text/plain": [
              "['Axe',\n",
              " 'Chisel',\n",
              " 'Gun',\n",
              " 'HandCuffs',\n",
              " 'Knife',\n",
              " 'Lighter',\n",
              " 'Plier',\n",
              " 'Saw',\n",
              " 'Scissors',\n",
              " 'Screwdriver',\n",
              " 'Spanner',\n",
              " 'SupplymentaryBattery']"
            ]
          },
          "metadata": {},
          "execution_count": 40
        }
      ]
    },
    {
      "cell_type": "code",
      "metadata": {
        "colab": {
          "base_uri": "https://localhost:8080/"
        },
        "id": "4SlCgRx1lLyt",
        "outputId": "02eb123f-93c4-448f-e5e8-2179ac0b5b9f"
      },
      "source": [
        "import yaml\n",
        "import os\n",
        "\n",
        "path = \"/content/drive/MyDrive/Astrophysics/1122_mount/multiple2-1/train\"\n",
        "file_list = os.listdir(path)\n",
        "\n",
        "\n",
        "\n",
        "image_list=[]\n",
        "for i in file_list:\n",
        "    image_list.append(i[:-4])\n",
        "\n",
        "\n",
        "#\"/content/drive/MyDrive/Astrophysics/1122_mount/yolov5/runs/detect/\" 하위 폴더에 모든 txt 파일을 찾아냄\n",
        "import os\n",
        "txt_list=[]\n",
        "dir_path = \"/content/drive/MyDrive/Astrophysics/1122_mount/yolov5/runs/detect/\"\n",
        "\n",
        "for (root, directories, files) in os.walk(dir_path):\n",
        "    for file in files:\n",
        "        if '.txt' in file:\n",
        "            file_path = os.path.join(root, file)\n",
        "            txt_list.append(file_path)\n",
        "\n",
        "# label중 정확도와 카테고리 라벨링 데이터만 뽑아냄\n",
        "count=1\n",
        "for i in txt_list:\n",
        "    file = open(i, \"r\")\n",
        "    strings = file.readlines()\n",
        "    A=(list(strings))\n",
        "    print(\"#\",count,\"번째 이미지\")\n",
        "    count+=1\n",
        "\n",
        "# 카테코리 라벨링 데이터(2)를 GUN으로 적용    \n",
        "    for j in range(len(A)):\n",
        "        print(\"확인된 물체:\",yaml_data[\"names\"][int(A[0][0])])\n",
        "        print(\"정확도:\",A[j][-9:])    \n",
        "\n",
        "    file.close()"
      ],
      "execution_count": 67,
      "outputs": [
        {
          "output_type": "stream",
          "name": "stdout",
          "text": [
            "# 1 번째 이미지\n",
            "확인된 물체: Gun\n",
            "정확도: 0.543843\n",
            "\n",
            "확인된 물체: Gun\n",
            "정확도: 0.565889\n",
            "\n",
            "# 2 번째 이미지\n",
            "확인된 물체: Gun\n",
            "정확도:  0.52741\n",
            "\n",
            "확인된 물체: Gun\n",
            "정확도: 0.568605\n",
            "\n",
            "# 3 번째 이미지\n",
            "확인된 물체: Gun\n",
            "정확도: 0.533893\n",
            "\n"
          ]
        }
      ]
    },
    {
      "cell_type": "markdown",
      "metadata": {
        "id": "fDinaURtAEyR"
      },
      "source": [
        "# 동영상 적용 코드\n",
        "## abc.mp4 는 구글드라이브 엑스레이 동영상을 변경한 것입니다.\n",
        "### 다 되면 runs/detect/에 저장되어있습니다."
      ]
    },
    {
      "cell_type": "code",
      "metadata": {
        "id": "M45GA4rT6_7P"
      },
      "source": [
        "!python detect.py --source /content/multiple2-1/abc.mp4 --weights /content/yolov5/runs/train/multiple_yolov5s_results/weights/best.pt"
      ],
      "execution_count": null,
      "outputs": []
    },
    {
      "cell_type": "markdown",
      "metadata": {
        "id": "E6R9pJZqks6b"
      },
      "source": [
        "\n",
        "\n",
        "\n"
      ]
    }
  ]
}