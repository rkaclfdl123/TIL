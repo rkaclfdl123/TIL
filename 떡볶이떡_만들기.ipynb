{
  "nbformat": 4,
  "nbformat_minor": 0,
  "metadata": {
    "colab": {
      "name": "떡볶이떡 만들기.ipynb",
      "provenance": [],
      "authorship_tag": "ABX9TyPIsH7X7aYGJ9iQk1acMCdu",
      "include_colab_link": true
    },
    "kernelspec": {
      "display_name": "Python 3",
      "name": "python3"
    },
    "language_info": {
      "name": "python"
    }
  },
  "cells": [
    {
      "cell_type": "markdown",
      "metadata": {
        "id": "view-in-github",
        "colab_type": "text"
      },
      "source": [
        "<a href=\"https://colab.research.google.com/github/rkaclfdl123/TIL/blob/master/%EB%96%A1%EB%B3%B6%EC%9D%B4%EB%96%A1_%EB%A7%8C%EB%93%A4%EA%B8%B0.ipynb\" target=\"_parent\"><img src=\"https://colab.research.google.com/assets/colab-badge.svg\" alt=\"Open In Colab\"/></a>"
      ]
    },
    {
      "cell_type": "code",
      "metadata": {
        "colab": {
          "base_uri": "https://localhost:8080/"
        },
        "id": "bbsN6eNB3vJl",
        "outputId": "0d9fccbe-4be0-434f-9323-1cf61db3bb7c"
      },
      "source": [
        "num,len = map(int,input().split())\n",
        "height=list(map(int,input().split()))\n",
        "\n",
        "for i in range(min(height),max(height)+1): \n",
        "    sum_height=0\n",
        "    for j in height:\n",
        "        if j-i >=0:\n",
        "            sum_height+=j-i\n",
        "\n",
        "    if sum_height == len:\n",
        "        print(i)"
      ],
      "execution_count": 20,
      "outputs": [
        {
          "name": "stdout",
          "output_type": "stream",
          "text": [
            "5 24\n",
            "12 13 16 18 20\n"
          ]
        }
      ]
    },
    {
      "cell_type": "code",
      "metadata": {
        "colab": {
          "base_uri": "https://localhost:8080/"
        },
        "id": "v2C0jUQDh6SS",
        "outputId": "f4eca2ad-2d76-4011-8a56-47763e30cd79"
      },
      "source": [
        "\n",
        "    "
      ],
      "execution_count": 19,
      "outputs": [
        {
          "output_type": "stream",
          "name": "stdout",
          "text": [
            "15\n"
          ]
        }
      ]
    },
    {
      "cell_type": "code",
      "metadata": {
        "id": "U0ukDvDZh6Uw"
      },
      "source": [
        ""
      ],
      "execution_count": null,
      "outputs": []
    },
    {
      "cell_type": "code",
      "metadata": {
        "id": "foIuydPCh6W0"
      },
      "source": [
        ""
      ],
      "execution_count": null,
      "outputs": []
    },
    {
      "cell_type": "code",
      "metadata": {
        "id": "Bjk65GYBh6Y3"
      },
      "source": [
        ""
      ],
      "execution_count": null,
      "outputs": []
    }
  ]
}