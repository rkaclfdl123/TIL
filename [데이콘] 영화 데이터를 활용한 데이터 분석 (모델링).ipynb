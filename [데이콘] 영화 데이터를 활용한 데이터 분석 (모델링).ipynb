{
  "nbformat": 4,
  "nbformat_minor": 0,
  "metadata": {
    "colab": {
      "name": "Untitled3.ipynb",
      "provenance": [],
      "authorship_tag": "ABX9TyMrkj0XW102zICEoAXiT60E",
      "include_colab_link": true
    },
    "kernelspec": {
      "name": "python3",
      "display_name": "Python 3"
    },
    "language_info": {
      "name": "python"
    }
  },
  "cells": [
    {
      "cell_type": "markdown",
      "metadata": {
        "id": "view-in-github",
        "colab_type": "text"
      },
      "source": [
        "<a href=\"https://colab.research.google.com/github/rkaclfdl123/TIL/blob/master/%5B%EB%8D%B0%EC%9D%B4%EC%BD%98%5D%20%EC%98%81%ED%99%94%20%EB%8D%B0%EC%9D%B4%ED%84%B0%EB%A5%BC%20%ED%99%9C%EC%9A%A9%ED%95%9C%20%EB%8D%B0%EC%9D%B4%ED%84%B0%20%EB%B6%84%EC%84%9D%20(%EB%AA%A8%EB%8D%B8%EB%A7%81).ipynb\" target=\"_parent\"><img src=\"https://colab.research.google.com/assets/colab-badge.svg\" alt=\"Open In Colab\"/></a>"
      ]
    },
    {
      "cell_type": "markdown",
      "metadata": {
        "id": "exMYvoI2iFyQ"
      },
      "source": [
        "라이브러리 및 데이터\n"
      ]
    },
    {
      "cell_type": "code",
      "metadata": {
        "id": "0VtoDH5miKEk"
      },
      "source": [
        "import pandas as pd\n",
        "import lightgbm as lgb"
      ],
      "execution_count": null,
      "outputs": []
    },
    {
      "cell_type": "code",
      "metadata": {
        "id": "9tOeEO7riPyn"
      },
      "source": [
        "train=pd.read_csv('/content/movies_train.csv')\n",
        "test=pd.read_csv('/content/movies_test.csv')\n",
        "submission=pd.read_csv('/content/submission.csv')"
      ],
      "execution_count": null,
      "outputs": []
    },
    {
      "cell_type": "code",
      "metadata": {
        "colab": {
          "base_uri": "https://localhost:8080/",
          "height": 333
        },
        "id": "vCgjdILwjgIX",
        "outputId": "3f532071-7833-4e8f-97d7-71d3c029e2e6"
      },
      "source": [
        "train.head(5)"
      ],
      "execution_count": null,
      "outputs": [
        {
          "output_type": "execute_result",
          "data": {
            "text/html": [
              "<div>\n",
              "<style scoped>\n",
              "    .dataframe tbody tr th:only-of-type {\n",
              "        vertical-align: middle;\n",
              "    }\n",
              "\n",
              "    .dataframe tbody tr th {\n",
              "        vertical-align: top;\n",
              "    }\n",
              "\n",
              "    .dataframe thead th {\n",
              "        text-align: right;\n",
              "    }\n",
              "</style>\n",
              "<table border=\"1\" class=\"dataframe\">\n",
              "  <thead>\n",
              "    <tr style=\"text-align: right;\">\n",
              "      <th></th>\n",
              "      <th>title</th>\n",
              "      <th>distributor</th>\n",
              "      <th>genre</th>\n",
              "      <th>release_time</th>\n",
              "      <th>time</th>\n",
              "      <th>screening_rat</th>\n",
              "      <th>director</th>\n",
              "      <th>dir_prev_bfnum</th>\n",
              "      <th>dir_prev_num</th>\n",
              "      <th>num_staff</th>\n",
              "      <th>num_actor</th>\n",
              "      <th>box_off_num</th>\n",
              "    </tr>\n",
              "  </thead>\n",
              "  <tbody>\n",
              "    <tr>\n",
              "      <th>0</th>\n",
              "      <td>개들의 전쟁</td>\n",
              "      <td>롯데엔터테인먼트</td>\n",
              "      <td>액션</td>\n",
              "      <td>2012-11-22</td>\n",
              "      <td>96</td>\n",
              "      <td>청소년 관람불가</td>\n",
              "      <td>조병옥</td>\n",
              "      <td>NaN</td>\n",
              "      <td>0</td>\n",
              "      <td>91</td>\n",
              "      <td>2</td>\n",
              "      <td>23398</td>\n",
              "    </tr>\n",
              "    <tr>\n",
              "      <th>1</th>\n",
              "      <td>내부자들</td>\n",
              "      <td>(주)쇼박스</td>\n",
              "      <td>느와르</td>\n",
              "      <td>2015-11-19</td>\n",
              "      <td>130</td>\n",
              "      <td>청소년 관람불가</td>\n",
              "      <td>우민호</td>\n",
              "      <td>1161602.50</td>\n",
              "      <td>2</td>\n",
              "      <td>387</td>\n",
              "      <td>3</td>\n",
              "      <td>7072501</td>\n",
              "    </tr>\n",
              "    <tr>\n",
              "      <th>2</th>\n",
              "      <td>은밀하게 위대하게</td>\n",
              "      <td>(주)쇼박스</td>\n",
              "      <td>액션</td>\n",
              "      <td>2013-06-05</td>\n",
              "      <td>123</td>\n",
              "      <td>15세 관람가</td>\n",
              "      <td>장철수</td>\n",
              "      <td>220775.25</td>\n",
              "      <td>4</td>\n",
              "      <td>343</td>\n",
              "      <td>4</td>\n",
              "      <td>6959083</td>\n",
              "    </tr>\n",
              "    <tr>\n",
              "      <th>3</th>\n",
              "      <td>나는 공무원이다</td>\n",
              "      <td>(주)NEW</td>\n",
              "      <td>코미디</td>\n",
              "      <td>2012-07-12</td>\n",
              "      <td>101</td>\n",
              "      <td>전체 관람가</td>\n",
              "      <td>구자홍</td>\n",
              "      <td>23894.00</td>\n",
              "      <td>2</td>\n",
              "      <td>20</td>\n",
              "      <td>6</td>\n",
              "      <td>217866</td>\n",
              "    </tr>\n",
              "    <tr>\n",
              "      <th>4</th>\n",
              "      <td>불량남녀</td>\n",
              "      <td>쇼박스(주)미디어플렉스</td>\n",
              "      <td>코미디</td>\n",
              "      <td>2010-11-04</td>\n",
              "      <td>108</td>\n",
              "      <td>15세 관람가</td>\n",
              "      <td>신근호</td>\n",
              "      <td>1.00</td>\n",
              "      <td>1</td>\n",
              "      <td>251</td>\n",
              "      <td>2</td>\n",
              "      <td>483387</td>\n",
              "    </tr>\n",
              "  </tbody>\n",
              "</table>\n",
              "</div>"
            ],
            "text/plain": [
              "       title   distributor genre  ... num_staff  num_actor box_off_num\n",
              "0     개들의 전쟁      롯데엔터테인먼트    액션  ...        91          2       23398\n",
              "1       내부자들        (주)쇼박스   느와르  ...       387          3     7072501\n",
              "2  은밀하게 위대하게        (주)쇼박스    액션  ...       343          4     6959083\n",
              "3   나는 공무원이다        (주)NEW   코미디  ...        20          6      217866\n",
              "4       불량남녀  쇼박스(주)미디어플렉스   코미디  ...       251          2      483387\n",
              "\n",
              "[5 rows x 12 columns]"
            ]
          },
          "metadata": {
            "tags": []
          },
          "execution_count": 6
        }
      ]
    },
    {
      "cell_type": "code",
      "metadata": {
        "colab": {
          "base_uri": "https://localhost:8080/"
        },
        "id": "xIvtXcr_jjiL",
        "outputId": "f1ce7a69-55e7-4acf-a69a-a8a589bc9050"
      },
      "source": [
        "print(train.shape)\n",
        "print(test.shape)\n",
        "print(submission.shape)"
      ],
      "execution_count": null,
      "outputs": [
        {
          "output_type": "stream",
          "text": [
            "(600, 12)\n",
            "(243, 11)\n",
            "(243, 2)\n"
          ],
          "name": "stdout"
        }
      ]
    },
    {
      "cell_type": "code",
      "metadata": {
        "colab": {
          "base_uri": "https://localhost:8080/"
        },
        "id": "qVMTXhU3joMN",
        "outputId": "e9b020b9-3548-44a2-8485-6165d5ccff51"
      },
      "source": [
        "train.info()"
      ],
      "execution_count": null,
      "outputs": [
        {
          "output_type": "stream",
          "text": [
            "<class 'pandas.core.frame.DataFrame'>\n",
            "RangeIndex: 600 entries, 0 to 599\n",
            "Data columns (total 12 columns):\n",
            " #   Column          Non-Null Count  Dtype  \n",
            "---  ------          --------------  -----  \n",
            " 0   title           600 non-null    object \n",
            " 1   distributor     600 non-null    object \n",
            " 2   genre           600 non-null    object \n",
            " 3   release_time    600 non-null    object \n",
            " 4   time            600 non-null    int64  \n",
            " 5   screening_rat   600 non-null    object \n",
            " 6   director        600 non-null    object \n",
            " 7   dir_prev_bfnum  270 non-null    float64\n",
            " 8   dir_prev_num    600 non-null    int64  \n",
            " 9   num_staff       600 non-null    int64  \n",
            " 10  num_actor       600 non-null    int64  \n",
            " 11  box_off_num     600 non-null    int64  \n",
            "dtypes: float64(1), int64(5), object(6)\n",
            "memory usage: 56.4+ KB\n"
          ],
          "name": "stdout"
        }
      ]
    },
    {
      "cell_type": "code",
      "metadata": {
        "colab": {
          "base_uri": "https://localhost:8080/",
          "height": 310
        },
        "id": "n3IRQ2HwjyEw",
        "outputId": "e78e4704-e8bb-4434-fd4e-42cf9940d692"
      },
      "source": [
        "train.describe()"
      ],
      "execution_count": null,
      "outputs": [
        {
          "output_type": "execute_result",
          "data": {
            "text/html": [
              "<div>\n",
              "<style scoped>\n",
              "    .dataframe tbody tr th:only-of-type {\n",
              "        vertical-align: middle;\n",
              "    }\n",
              "\n",
              "    .dataframe tbody tr th {\n",
              "        vertical-align: top;\n",
              "    }\n",
              "\n",
              "    .dataframe thead th {\n",
              "        text-align: right;\n",
              "    }\n",
              "</style>\n",
              "<table border=\"1\" class=\"dataframe\">\n",
              "  <thead>\n",
              "    <tr style=\"text-align: right;\">\n",
              "      <th></th>\n",
              "      <th>time</th>\n",
              "      <th>dir_prev_bfnum</th>\n",
              "      <th>dir_prev_num</th>\n",
              "      <th>num_staff</th>\n",
              "      <th>num_actor</th>\n",
              "      <th>box_off_num</th>\n",
              "    </tr>\n",
              "  </thead>\n",
              "  <tbody>\n",
              "    <tr>\n",
              "      <th>count</th>\n",
              "      <td>600.000000</td>\n",
              "      <td>2.700000e+02</td>\n",
              "      <td>600.000000</td>\n",
              "      <td>600.000000</td>\n",
              "      <td>600.000000</td>\n",
              "      <td>6.000000e+02</td>\n",
              "    </tr>\n",
              "    <tr>\n",
              "      <th>mean</th>\n",
              "      <td>100.863333</td>\n",
              "      <td>1.050443e+06</td>\n",
              "      <td>0.876667</td>\n",
              "      <td>151.118333</td>\n",
              "      <td>3.706667</td>\n",
              "      <td>7.081818e+05</td>\n",
              "    </tr>\n",
              "    <tr>\n",
              "      <th>std</th>\n",
              "      <td>18.097528</td>\n",
              "      <td>1.791408e+06</td>\n",
              "      <td>1.183409</td>\n",
              "      <td>165.654671</td>\n",
              "      <td>2.446889</td>\n",
              "      <td>1.828006e+06</td>\n",
              "    </tr>\n",
              "    <tr>\n",
              "      <th>min</th>\n",
              "      <td>45.000000</td>\n",
              "      <td>1.000000e+00</td>\n",
              "      <td>0.000000</td>\n",
              "      <td>0.000000</td>\n",
              "      <td>0.000000</td>\n",
              "      <td>1.000000e+00</td>\n",
              "    </tr>\n",
              "    <tr>\n",
              "      <th>25%</th>\n",
              "      <td>89.000000</td>\n",
              "      <td>2.038000e+04</td>\n",
              "      <td>0.000000</td>\n",
              "      <td>17.000000</td>\n",
              "      <td>2.000000</td>\n",
              "      <td>1.297250e+03</td>\n",
              "    </tr>\n",
              "    <tr>\n",
              "      <th>50%</th>\n",
              "      <td>100.000000</td>\n",
              "      <td>4.784236e+05</td>\n",
              "      <td>0.000000</td>\n",
              "      <td>82.500000</td>\n",
              "      <td>3.000000</td>\n",
              "      <td>1.259100e+04</td>\n",
              "    </tr>\n",
              "    <tr>\n",
              "      <th>75%</th>\n",
              "      <td>114.000000</td>\n",
              "      <td>1.286569e+06</td>\n",
              "      <td>2.000000</td>\n",
              "      <td>264.000000</td>\n",
              "      <td>4.000000</td>\n",
              "      <td>4.798868e+05</td>\n",
              "    </tr>\n",
              "    <tr>\n",
              "      <th>max</th>\n",
              "      <td>180.000000</td>\n",
              "      <td>1.761531e+07</td>\n",
              "      <td>5.000000</td>\n",
              "      <td>869.000000</td>\n",
              "      <td>25.000000</td>\n",
              "      <td>1.426277e+07</td>\n",
              "    </tr>\n",
              "  </tbody>\n",
              "</table>\n",
              "</div>"
            ],
            "text/plain": [
              "             time  dir_prev_bfnum  ...   num_actor   box_off_num\n",
              "count  600.000000    2.700000e+02  ...  600.000000  6.000000e+02\n",
              "mean   100.863333    1.050443e+06  ...    3.706667  7.081818e+05\n",
              "std     18.097528    1.791408e+06  ...    2.446889  1.828006e+06\n",
              "min     45.000000    1.000000e+00  ...    0.000000  1.000000e+00\n",
              "25%     89.000000    2.038000e+04  ...    2.000000  1.297250e+03\n",
              "50%    100.000000    4.784236e+05  ...    3.000000  1.259100e+04\n",
              "75%    114.000000    1.286569e+06  ...    4.000000  4.798868e+05\n",
              "max    180.000000    1.761531e+07  ...   25.000000  1.426277e+07\n",
              "\n",
              "[8 rows x 6 columns]"
            ]
          },
          "metadata": {
            "tags": []
          },
          "execution_count": 9
        }
      ]
    },
    {
      "cell_type": "code",
      "metadata": {
        "colab": {
          "base_uri": "https://localhost:8080/",
          "height": 441
        },
        "id": "CaFMFqrDj1JJ",
        "outputId": "fd9feb12-6a1c-4a8c-f854-a904d596dfe2"
      },
      "source": [
        "train[['genre','box_off_num']].groupby('genre').mean().sort_values('box_off_num')"
      ],
      "execution_count": null,
      "outputs": [
        {
          "output_type": "execute_result",
          "data": {
            "text/html": [
              "<div>\n",
              "<style scoped>\n",
              "    .dataframe tbody tr th:only-of-type {\n",
              "        vertical-align: middle;\n",
              "    }\n",
              "\n",
              "    .dataframe tbody tr th {\n",
              "        vertical-align: top;\n",
              "    }\n",
              "\n",
              "    .dataframe thead th {\n",
              "        text-align: right;\n",
              "    }\n",
              "</style>\n",
              "<table border=\"1\" class=\"dataframe\">\n",
              "  <thead>\n",
              "    <tr style=\"text-align: right;\">\n",
              "      <th></th>\n",
              "      <th>box_off_num</th>\n",
              "    </tr>\n",
              "    <tr>\n",
              "      <th>genre</th>\n",
              "      <th></th>\n",
              "    </tr>\n",
              "  </thead>\n",
              "  <tbody>\n",
              "    <tr>\n",
              "      <th>뮤지컬</th>\n",
              "      <td>6.627000e+03</td>\n",
              "    </tr>\n",
              "    <tr>\n",
              "      <th>다큐멘터리</th>\n",
              "      <td>6.717226e+04</td>\n",
              "    </tr>\n",
              "    <tr>\n",
              "      <th>서스펜스</th>\n",
              "      <td>8.261100e+04</td>\n",
              "    </tr>\n",
              "    <tr>\n",
              "      <th>애니메이션</th>\n",
              "      <td>1.819267e+05</td>\n",
              "    </tr>\n",
              "    <tr>\n",
              "      <th>멜로/로맨스</th>\n",
              "      <td>4.259680e+05</td>\n",
              "    </tr>\n",
              "    <tr>\n",
              "      <th>미스터리</th>\n",
              "      <td>5.275482e+05</td>\n",
              "    </tr>\n",
              "    <tr>\n",
              "      <th>공포</th>\n",
              "      <td>5.908325e+05</td>\n",
              "    </tr>\n",
              "    <tr>\n",
              "      <th>드라마</th>\n",
              "      <td>6.256898e+05</td>\n",
              "    </tr>\n",
              "    <tr>\n",
              "      <th>코미디</th>\n",
              "      <td>1.193914e+06</td>\n",
              "    </tr>\n",
              "    <tr>\n",
              "      <th>SF</th>\n",
              "      <td>1.788346e+06</td>\n",
              "    </tr>\n",
              "    <tr>\n",
              "      <th>액션</th>\n",
              "      <td>2.203974e+06</td>\n",
              "    </tr>\n",
              "    <tr>\n",
              "      <th>느와르</th>\n",
              "      <td>2.263695e+06</td>\n",
              "    </tr>\n",
              "  </tbody>\n",
              "</table>\n",
              "</div>"
            ],
            "text/plain": [
              "         box_off_num\n",
              "genre               \n",
              "뮤지컬     6.627000e+03\n",
              "다큐멘터리   6.717226e+04\n",
              "서스펜스    8.261100e+04\n",
              "애니메이션   1.819267e+05\n",
              "멜로/로맨스  4.259680e+05\n",
              "미스터리    5.275482e+05\n",
              "공포      5.908325e+05\n",
              "드라마     6.256898e+05\n",
              "코미디     1.193914e+06\n",
              "SF      1.788346e+06\n",
              "액션      2.203974e+06\n",
              "느와르     2.263695e+06"
            ]
          },
          "metadata": {
            "tags": []
          },
          "execution_count": 14
        }
      ]
    },
    {
      "cell_type": "code",
      "metadata": {
        "id": "-jPxxEwBK5nX"
      },
      "source": [
        "import seaborn as sns"
      ],
      "execution_count": null,
      "outputs": []
    },
    {
      "cell_type": "code",
      "metadata": {
        "colab": {
          "base_uri": "https://localhost:8080/",
          "height": 355
        },
        "id": "bt7er9klIUTV",
        "outputId": "d4998ad6-97a4-4f55-c103-14e6118e3974"
      },
      "source": [
        "sns.heatmap(train.corr(),annot=True)"
      ],
      "execution_count": null,
      "outputs": [
        {
          "output_type": "execute_result",
          "data": {
            "text/plain": [
              "<matplotlib.axes._subplots.AxesSubplot at 0x7f557b96dfd0>"
            ]
          },
          "metadata": {
            "tags": []
          },
          "execution_count": 18
        },
        {
          "output_type": "display_data",
          "data": {
            "image/png": "[encoded data removed]",
            "text/plain": [
              "<Figure size 432x288 with 2 Axes>"
            ]
          },
          "metadata": {
            "tags": [],
            "needs_background": "light"
          }
        }
      ]
    },
    {
      "cell_type": "code",
      "metadata": {
        "colab": {
          "base_uri": "https://localhost:8080/"
        },
        "id": "QzImtAJsK3f-",
        "outputId": "a33e3c23-0255-421d-c540-943bafa58eca"
      },
      "source": [
        "train.isna().sum()"
      ],
      "execution_count": null,
      "outputs": [
        {
          "output_type": "execute_result",
          "data": {
            "text/plain": [
              "title               0\n",
              "distributor         0\n",
              "genre               0\n",
              "release_time        0\n",
              "time                0\n",
              "screening_rat       0\n",
              "director            0\n",
              "dir_prev_bfnum    330\n",
              "dir_prev_num        0\n",
              "num_staff           0\n",
              "num_actor           0\n",
              "box_off_num         0\n",
              "dtype: int64"
            ]
          },
          "metadata": {
            "tags": []
          },
          "execution_count": 21
        }
      ]
    },
    {
      "cell_type": "code",
      "metadata": {
        "colab": {
          "base_uri": "https://localhost:8080/"
        },
        "id": "OWLcBJ95NPXK",
        "outputId": "dfad6e11-4e64-4fef-c3f1-319122f3092c"
      },
      "source": [
        "train[train['dir_prev_bfnum'].isna()]['dir_prev_num'].sum()"
      ],
      "execution_count": null,
      "outputs": [
        {
          "output_type": "execute_result",
          "data": {
            "text/plain": [
              "0"
            ]
          },
          "metadata": {
            "tags": []
          },
          "execution_count": 26
        }
      ]
    },
    {
      "cell_type": "code",
      "metadata": {
        "id": "RXRzO7tKNnna"
      },
      "source": [
        "train['dir_prev_bfnum'].fillna(0, inplace=True)"
      ],
      "execution_count": null,
      "outputs": []
    },
    {
      "cell_type": "code",
      "metadata": {
        "colab": {
          "base_uri": "https://localhost:8080/",
          "height": 607
        },
        "id": "pD-Rk5XsOUmK",
        "outputId": "502008a7-ce4a-4224-e37b-aa85e0046d02"
      },
      "source": [
        "train"
      ],
      "execution_count": null,
      "outputs": [
        {
          "output_type": "execute_result",
          "data": {
            "text/html": [
              "<div>\n",
              "<style scoped>\n",
              "    .dataframe tbody tr th:only-of-type {\n",
              "        vertical-align: middle;\n",
              "    }\n",
              "\n",
              "    .dataframe tbody tr th {\n",
              "        vertical-align: top;\n",
              "    }\n",
              "\n",
              "    .dataframe thead th {\n",
              "        text-align: right;\n",
              "    }\n",
              "</style>\n",
              "<table border=\"1\" class=\"dataframe\">\n",
              "  <thead>\n",
              "    <tr style=\"text-align: right;\">\n",
              "      <th></th>\n",
              "      <th>title</th>\n",
              "      <th>distributor</th>\n",
              "      <th>genre</th>\n",
              "      <th>release_time</th>\n",
              "      <th>time</th>\n",
              "      <th>screening_rat</th>\n",
              "      <th>director</th>\n",
              "      <th>dir_prev_bfnum</th>\n",
              "      <th>dir_prev_num</th>\n",
              "      <th>num_staff</th>\n",
              "      <th>num_actor</th>\n",
              "      <th>box_off_num</th>\n",
              "    </tr>\n",
              "  </thead>\n",
              "  <tbody>\n",
              "    <tr>\n",
              "      <th>0</th>\n",
              "      <td>개들의 전쟁</td>\n",
              "      <td>롯데엔터테인먼트</td>\n",
              "      <td>액션</td>\n",
              "      <td>2012-11-22</td>\n",
              "      <td>96</td>\n",
              "      <td>청소년 관람불가</td>\n",
              "      <td>조병옥</td>\n",
              "      <td>0.00</td>\n",
              "      <td>0</td>\n",
              "      <td>91</td>\n",
              "      <td>2</td>\n",
              "      <td>23398</td>\n",
              "    </tr>\n",
              "    <tr>\n",
              "      <th>1</th>\n",
              "      <td>내부자들</td>\n",
              "      <td>(주)쇼박스</td>\n",
              "      <td>느와르</td>\n",
              "      <td>2015-11-19</td>\n",
              "      <td>130</td>\n",
              "      <td>청소년 관람불가</td>\n",
              "      <td>우민호</td>\n",
              "      <td>1161602.50</td>\n",
              "      <td>2</td>\n",
              "      <td>387</td>\n",
              "      <td>3</td>\n",
              "      <td>7072501</td>\n",
              "    </tr>\n",
              "    <tr>\n",
              "      <th>2</th>\n",
              "      <td>은밀하게 위대하게</td>\n",
              "      <td>(주)쇼박스</td>\n",
              "      <td>액션</td>\n",
              "      <td>2013-06-05</td>\n",
              "      <td>123</td>\n",
              "      <td>15세 관람가</td>\n",
              "      <td>장철수</td>\n",
              "      <td>220775.25</td>\n",
              "      <td>4</td>\n",
              "      <td>343</td>\n",
              "      <td>4</td>\n",
              "      <td>6959083</td>\n",
              "    </tr>\n",
              "    <tr>\n",
              "      <th>3</th>\n",
              "      <td>나는 공무원이다</td>\n",
              "      <td>(주)NEW</td>\n",
              "      <td>코미디</td>\n",
              "      <td>2012-07-12</td>\n",
              "      <td>101</td>\n",
              "      <td>전체 관람가</td>\n",
              "      <td>구자홍</td>\n",
              "      <td>23894.00</td>\n",
              "      <td>2</td>\n",
              "      <td>20</td>\n",
              "      <td>6</td>\n",
              "      <td>217866</td>\n",
              "    </tr>\n",
              "    <tr>\n",
              "      <th>4</th>\n",
              "      <td>불량남녀</td>\n",
              "      <td>쇼박스(주)미디어플렉스</td>\n",
              "      <td>코미디</td>\n",
              "      <td>2010-11-04</td>\n",
              "      <td>108</td>\n",
              "      <td>15세 관람가</td>\n",
              "      <td>신근호</td>\n",
              "      <td>1.00</td>\n",
              "      <td>1</td>\n",
              "      <td>251</td>\n",
              "      <td>2</td>\n",
              "      <td>483387</td>\n",
              "    </tr>\n",
              "    <tr>\n",
              "      <th>...</th>\n",
              "      <td>...</td>\n",
              "      <td>...</td>\n",
              "      <td>...</td>\n",
              "      <td>...</td>\n",
              "      <td>...</td>\n",
              "      <td>...</td>\n",
              "      <td>...</td>\n",
              "      <td>...</td>\n",
              "      <td>...</td>\n",
              "      <td>...</td>\n",
              "      <td>...</td>\n",
              "      <td>...</td>\n",
              "    </tr>\n",
              "    <tr>\n",
              "      <th>595</th>\n",
              "      <td>해무</td>\n",
              "      <td>(주)NEW</td>\n",
              "      <td>드라마</td>\n",
              "      <td>2014-08-13</td>\n",
              "      <td>111</td>\n",
              "      <td>청소년 관람불가</td>\n",
              "      <td>심성보</td>\n",
              "      <td>3833.00</td>\n",
              "      <td>1</td>\n",
              "      <td>510</td>\n",
              "      <td>7</td>\n",
              "      <td>1475091</td>\n",
              "    </tr>\n",
              "    <tr>\n",
              "      <th>596</th>\n",
              "      <td>파파로티</td>\n",
              "      <td>(주)쇼박스</td>\n",
              "      <td>드라마</td>\n",
              "      <td>2013-03-14</td>\n",
              "      <td>127</td>\n",
              "      <td>15세 관람가</td>\n",
              "      <td>윤종찬</td>\n",
              "      <td>496061.00</td>\n",
              "      <td>1</td>\n",
              "      <td>286</td>\n",
              "      <td>6</td>\n",
              "      <td>1716438</td>\n",
              "    </tr>\n",
              "    <tr>\n",
              "      <th>597</th>\n",
              "      <td>살인의 강</td>\n",
              "      <td>(주)마운틴픽쳐스</td>\n",
              "      <td>공포</td>\n",
              "      <td>2010-09-30</td>\n",
              "      <td>99</td>\n",
              "      <td>청소년 관람불가</td>\n",
              "      <td>김대현</td>\n",
              "      <td>0.00</td>\n",
              "      <td>0</td>\n",
              "      <td>123</td>\n",
              "      <td>4</td>\n",
              "      <td>2475</td>\n",
              "    </tr>\n",
              "    <tr>\n",
              "      <th>598</th>\n",
              "      <td>악의 연대기</td>\n",
              "      <td>CJ 엔터테인먼트</td>\n",
              "      <td>느와르</td>\n",
              "      <td>2015-05-14</td>\n",
              "      <td>102</td>\n",
              "      <td>15세 관람가</td>\n",
              "      <td>백운학</td>\n",
              "      <td>0.00</td>\n",
              "      <td>0</td>\n",
              "      <td>431</td>\n",
              "      <td>4</td>\n",
              "      <td>2192525</td>\n",
              "    </tr>\n",
              "    <tr>\n",
              "      <th>599</th>\n",
              "      <td>베를린</td>\n",
              "      <td>CJ 엔터테인먼트</td>\n",
              "      <td>액션</td>\n",
              "      <td>2013-01-30</td>\n",
              "      <td>120</td>\n",
              "      <td>15세 관람가</td>\n",
              "      <td>류승완</td>\n",
              "      <td>0.00</td>\n",
              "      <td>0</td>\n",
              "      <td>363</td>\n",
              "      <td>5</td>\n",
              "      <td>7166532</td>\n",
              "    </tr>\n",
              "  </tbody>\n",
              "</table>\n",
              "<p>600 rows × 12 columns</p>\n",
              "</div>"
            ],
            "text/plain": [
              "         title   distributor genre  ... num_staff  num_actor box_off_num\n",
              "0       개들의 전쟁      롯데엔터테인먼트    액션  ...        91          2       23398\n",
              "1         내부자들        (주)쇼박스   느와르  ...       387          3     7072501\n",
              "2    은밀하게 위대하게        (주)쇼박스    액션  ...       343          4     6959083\n",
              "3     나는 공무원이다        (주)NEW   코미디  ...        20          6      217866\n",
              "4         불량남녀  쇼박스(주)미디어플렉스   코미디  ...       251          2      483387\n",
              "..         ...           ...   ...  ...       ...        ...         ...\n",
              "595         해무        (주)NEW   드라마  ...       510          7     1475091\n",
              "596       파파로티        (주)쇼박스   드라마  ...       286          6     1716438\n",
              "597      살인의 강     (주)마운틴픽쳐스    공포  ...       123          4        2475\n",
              "598     악의 연대기     CJ 엔터테인먼트   느와르  ...       431          4     2192525\n",
              "599        베를린     CJ 엔터테인먼트    액션  ...       363          5     7166532\n",
              "\n",
              "[600 rows x 12 columns]"
            ]
          },
          "metadata": {
            "tags": []
          },
          "execution_count": 28
        }
      ]
    },
    {
      "cell_type": "code",
      "metadata": {
        "colab": {
          "base_uri": "https://localhost:8080/"
        },
        "id": "m-WUhDtyOVGj",
        "outputId": "e70e4ac5-d38a-448d-ca76-525f3390c6eb"
      },
      "source": [
        "test.isna().sum()"
      ],
      "execution_count": null,
      "outputs": [
        {
          "output_type": "execute_result",
          "data": {
            "text/plain": [
              "title               0\n",
              "distributor         0\n",
              "genre               0\n",
              "release_time        0\n",
              "time                0\n",
              "screening_rat       0\n",
              "director            0\n",
              "dir_prev_bfnum    136\n",
              "dir_prev_num        0\n",
              "num_staff           0\n",
              "num_actor           0\n",
              "dtype: int64"
            ]
          },
          "metadata": {
            "tags": []
          },
          "execution_count": 31
        }
      ]
    },
    {
      "cell_type": "code",
      "metadata": {
        "id": "tYkZLgLmObKs"
      },
      "source": [
        "test['dir_prev_bfnum'].fillna(0, inplace = True)"
      ],
      "execution_count": null,
      "outputs": []
    },
    {
      "cell_type": "code",
      "metadata": {
        "colab": {
          "base_uri": "https://localhost:8080/",
          "height": 672
        },
        "id": "d18lIvukOozx",
        "outputId": "22659f55-ea8a-43a6-c5e5-37776572d0e5"
      },
      "source": [
        "test"
      ],
      "execution_count": null,
      "outputs": [
        {
          "output_type": "execute_result",
          "data": {
            "text/html": [
              "<div>\n",
              "<style scoped>\n",
              "    .dataframe tbody tr th:only-of-type {\n",
              "        vertical-align: middle;\n",
              "    }\n",
              "\n",
              "    .dataframe tbody tr th {\n",
              "        vertical-align: top;\n",
              "    }\n",
              "\n",
              "    .dataframe thead th {\n",
              "        text-align: right;\n",
              "    }\n",
              "</style>\n",
              "<table border=\"1\" class=\"dataframe\">\n",
              "  <thead>\n",
              "    <tr style=\"text-align: right;\">\n",
              "      <th></th>\n",
              "      <th>title</th>\n",
              "      <th>distributor</th>\n",
              "      <th>genre</th>\n",
              "      <th>release_time</th>\n",
              "      <th>time</th>\n",
              "      <th>screening_rat</th>\n",
              "      <th>director</th>\n",
              "      <th>dir_prev_bfnum</th>\n",
              "      <th>dir_prev_num</th>\n",
              "      <th>num_staff</th>\n",
              "      <th>num_actor</th>\n",
              "    </tr>\n",
              "  </thead>\n",
              "  <tbody>\n",
              "    <tr>\n",
              "      <th>0</th>\n",
              "      <td>용서는 없다</td>\n",
              "      <td>시네마서비스</td>\n",
              "      <td>느와르</td>\n",
              "      <td>2010-01-07</td>\n",
              "      <td>125</td>\n",
              "      <td>청소년 관람불가</td>\n",
              "      <td>김형준</td>\n",
              "      <td>3.005290e+05</td>\n",
              "      <td>2</td>\n",
              "      <td>304</td>\n",
              "      <td>3</td>\n",
              "    </tr>\n",
              "    <tr>\n",
              "      <th>1</th>\n",
              "      <td>아빠가 여자를 좋아해</td>\n",
              "      <td>(주)쇼박스</td>\n",
              "      <td>멜로/로맨스</td>\n",
              "      <td>2010-01-14</td>\n",
              "      <td>113</td>\n",
              "      <td>12세 관람가</td>\n",
              "      <td>이광재</td>\n",
              "      <td>3.427002e+05</td>\n",
              "      <td>4</td>\n",
              "      <td>275</td>\n",
              "      <td>3</td>\n",
              "    </tr>\n",
              "    <tr>\n",
              "      <th>2</th>\n",
              "      <td>하모니</td>\n",
              "      <td>CJ 엔터테인먼트</td>\n",
              "      <td>드라마</td>\n",
              "      <td>2010-01-28</td>\n",
              "      <td>115</td>\n",
              "      <td>12세 관람가</td>\n",
              "      <td>강대규</td>\n",
              "      <td>4.206611e+06</td>\n",
              "      <td>3</td>\n",
              "      <td>419</td>\n",
              "      <td>7</td>\n",
              "    </tr>\n",
              "    <tr>\n",
              "      <th>3</th>\n",
              "      <td>의형제</td>\n",
              "      <td>(주)쇼박스</td>\n",
              "      <td>액션</td>\n",
              "      <td>2010-02-04</td>\n",
              "      <td>116</td>\n",
              "      <td>15세 관람가</td>\n",
              "      <td>장훈</td>\n",
              "      <td>6.913420e+05</td>\n",
              "      <td>2</td>\n",
              "      <td>408</td>\n",
              "      <td>2</td>\n",
              "    </tr>\n",
              "    <tr>\n",
              "      <th>4</th>\n",
              "      <td>평행 이론</td>\n",
              "      <td>CJ 엔터테인먼트</td>\n",
              "      <td>공포</td>\n",
              "      <td>2010-02-18</td>\n",
              "      <td>110</td>\n",
              "      <td>15세 관람가</td>\n",
              "      <td>권호영</td>\n",
              "      <td>3.173800e+04</td>\n",
              "      <td>1</td>\n",
              "      <td>380</td>\n",
              "      <td>1</td>\n",
              "    </tr>\n",
              "    <tr>\n",
              "      <th>...</th>\n",
              "      <td>...</td>\n",
              "      <td>...</td>\n",
              "      <td>...</td>\n",
              "      <td>...</td>\n",
              "      <td>...</td>\n",
              "      <td>...</td>\n",
              "      <td>...</td>\n",
              "      <td>...</td>\n",
              "      <td>...</td>\n",
              "      <td>...</td>\n",
              "      <td>...</td>\n",
              "    </tr>\n",
              "    <tr>\n",
              "      <th>238</th>\n",
              "      <td>해에게서 소년에게</td>\n",
              "      <td>디씨드</td>\n",
              "      <td>드라마</td>\n",
              "      <td>2015-11-19</td>\n",
              "      <td>78</td>\n",
              "      <td>15세 관람가</td>\n",
              "      <td>안슬기</td>\n",
              "      <td>2.590000e+03</td>\n",
              "      <td>1</td>\n",
              "      <td>4</td>\n",
              "      <td>4</td>\n",
              "    </tr>\n",
              "    <tr>\n",
              "      <th>239</th>\n",
              "      <td>울보 권투부</td>\n",
              "      <td>인디스토리</td>\n",
              "      <td>다큐멘터리</td>\n",
              "      <td>2015-10-29</td>\n",
              "      <td>86</td>\n",
              "      <td>12세 관람가</td>\n",
              "      <td>이일하</td>\n",
              "      <td>0.000000e+00</td>\n",
              "      <td>0</td>\n",
              "      <td>18</td>\n",
              "      <td>2</td>\n",
              "    </tr>\n",
              "    <tr>\n",
              "      <th>240</th>\n",
              "      <td>어떤살인</td>\n",
              "      <td>(주)컨텐츠온미디어</td>\n",
              "      <td>느와르</td>\n",
              "      <td>2015-10-28</td>\n",
              "      <td>107</td>\n",
              "      <td>청소년 관람불가</td>\n",
              "      <td>안용훈</td>\n",
              "      <td>0.000000e+00</td>\n",
              "      <td>0</td>\n",
              "      <td>224</td>\n",
              "      <td>4</td>\n",
              "    </tr>\n",
              "    <tr>\n",
              "      <th>241</th>\n",
              "      <td>말하지 못한 비밀</td>\n",
              "      <td>(주)씨타마운틴픽쳐스</td>\n",
              "      <td>드라마</td>\n",
              "      <td>2015-10-22</td>\n",
              "      <td>102</td>\n",
              "      <td>청소년 관람불가</td>\n",
              "      <td>송동윤</td>\n",
              "      <td>5.069900e+04</td>\n",
              "      <td>1</td>\n",
              "      <td>68</td>\n",
              "      <td>7</td>\n",
              "    </tr>\n",
              "    <tr>\n",
              "      <th>242</th>\n",
              "      <td>조선안방 스캔들-칠거지악 2</td>\n",
              "      <td>(주) 케이알씨지</td>\n",
              "      <td>멜로/로맨스</td>\n",
              "      <td>2015-10-22</td>\n",
              "      <td>76</td>\n",
              "      <td>청소년 관람불가</td>\n",
              "      <td>이전</td>\n",
              "      <td>0.000000e+00</td>\n",
              "      <td>0</td>\n",
              "      <td>10</td>\n",
              "      <td>4</td>\n",
              "    </tr>\n",
              "  </tbody>\n",
              "</table>\n",
              "<p>243 rows × 11 columns</p>\n",
              "</div>"
            ],
            "text/plain": [
              "               title  distributor   genre  ... dir_prev_num  num_staff num_actor\n",
              "0             용서는 없다       시네마서비스     느와르  ...            2        304         3\n",
              "1        아빠가 여자를 좋아해       (주)쇼박스  멜로/로맨스  ...            4        275         3\n",
              "2                하모니    CJ 엔터테인먼트     드라마  ...            3        419         7\n",
              "3                의형제       (주)쇼박스      액션  ...            2        408         2\n",
              "4              평행 이론    CJ 엔터테인먼트      공포  ...            1        380         1\n",
              "..               ...          ...     ...  ...          ...        ...       ...\n",
              "238        해에게서 소년에게          디씨드     드라마  ...            1          4         4\n",
              "239           울보 권투부        인디스토리   다큐멘터리  ...            0         18         2\n",
              "240             어떤살인   (주)컨텐츠온미디어     느와르  ...            0        224         4\n",
              "241        말하지 못한 비밀  (주)씨타마운틴픽쳐스     드라마  ...            1         68         7\n",
              "242  조선안방 스캔들-칠거지악 2    (주) 케이알씨지  멜로/로맨스  ...            0         10         4\n",
              "\n",
              "[243 rows x 11 columns]"
            ]
          },
          "metadata": {
            "tags": []
          },
          "execution_count": 33
        }
      ]
    },
    {
      "cell_type": "code",
      "metadata": {
        "colab": {
          "base_uri": "https://localhost:8080/"
        },
        "id": "X50Djt66OpVi",
        "outputId": "3ee4b5e6-0883-4992-a498-37ef8a6317a4"
      },
      "source": [
        "test[test['dir_prev_bfnum'].isna()]['dir_prev_num']"
      ],
      "execution_count": null,
      "outputs": [
        {
          "output_type": "execute_result",
          "data": {
            "text/plain": [
              "Series([], Name: dir_prev_num, dtype: int64)"
            ]
          },
          "metadata": {
            "tags": []
          },
          "execution_count": 35
        }
      ]
    },
    {
      "cell_type": "code",
      "metadata": {
        "id": "G2crL1pROzzO"
      },
      "source": [
        "model = lgb.LGBMRegressor(random_state=777, n_estimators=1000)\n",
        "#이거 수상자들이 많이 쓰는 라이트 GBM?\n",
        "#부스팅 모델의 이종\n",
        "#순차적으로 모델을 만듬\n",
        "#따릉이에선 랜덤 포레스트 ( 배깅의 기법임)\n",
        "#배깅은 병렬적\n",
        "#순차적으로 하는 이유는 못맞춘것을 가중치를 조절해서 하는 것임\n",
        "#틀린것 위주로 학습\n"
      ],
      "execution_count": null,
      "outputs": []
    },
    {
      "cell_type": "code",
      "metadata": {
        "id": "kEOdwQI9Pt9K"
      },
      "source": [
        "features=['time','dir_prev_num','num_staff','num_actor']\n",
        "target= ['box_off_num']"
      ],
      "execution_count": null,
      "outputs": []
    },
    {
      "cell_type": "code",
      "metadata": {
        "id": "0ihdF_FJQ81j"
      },
      "source": [
        "X_train,X_test,Y_train=train[features], test[features], train[target]"
      ],
      "execution_count": null,
      "outputs": []
    },
    {
      "cell_type": "code",
      "metadata": {
        "colab": {
          "base_uri": "https://localhost:8080/"
        },
        "id": "yvQ_9_BMRRPd",
        "outputId": "c497389f-5b88-416b-ef6e-9c0b41eb932c"
      },
      "source": [
        "model.fit(X_train, Y_train)"
      ],
      "execution_count": null,
      "outputs": [
        {
          "output_type": "execute_result",
          "data": {
            "text/plain": [
              "LGBMRegressor(boosting_type='gbdt', class_weight=None, colsample_bytree=1.0,\n",
              "              importance_type='split', learning_rate=0.1, max_depth=-1,\n",
              "              min_child_samples=20, min_child_weight=0.001, min_split_gain=0.0,\n",
              "              n_estimators=1000, n_jobs=-1, num_leaves=31, objective=None,\n",
              "              random_state=777, reg_alpha=0.0, reg_lambda=0.0, silent=True,\n",
              "              subsample=1.0, subsample_for_bin=200000, subsample_freq=0)"
            ]
          },
          "metadata": {
            "tags": []
          },
          "execution_count": 43
        }
      ]
    },
    {
      "cell_type": "code",
      "metadata": {
        "id": "83Nlza9RRJbZ"
      },
      "source": [
        "singleLGBM = submission.copy()"
      ],
      "execution_count": null,
      "outputs": []
    },
    {
      "cell_type": "code",
      "metadata": {
        "colab": {
          "base_uri": "https://localhost:8080/",
          "height": 200
        },
        "id": "b7fh-aqmR7ra",
        "outputId": "6fd6784f-1ea0-4cfa-a7bf-ce766f80c3fe"
      },
      "source": [
        "singleLGBM.head()"
      ],
      "execution_count": null,
      "outputs": [
        {
          "output_type": "execute_result",
          "data": {
            "text/html": [
              "<div>\n",
              "<style scoped>\n",
              "    .dataframe tbody tr th:only-of-type {\n",
              "        vertical-align: middle;\n",
              "    }\n",
              "\n",
              "    .dataframe tbody tr th {\n",
              "        vertical-align: top;\n",
              "    }\n",
              "\n",
              "    .dataframe thead th {\n",
              "        text-align: right;\n",
              "    }\n",
              "</style>\n",
              "<table border=\"1\" class=\"dataframe\">\n",
              "  <thead>\n",
              "    <tr style=\"text-align: right;\">\n",
              "      <th></th>\n",
              "      <th>title</th>\n",
              "      <th>box_off_num</th>\n",
              "    </tr>\n",
              "  </thead>\n",
              "  <tbody>\n",
              "    <tr>\n",
              "      <th>0</th>\n",
              "      <td>용서는 없다</td>\n",
              "      <td>0</td>\n",
              "    </tr>\n",
              "    <tr>\n",
              "      <th>1</th>\n",
              "      <td>아빠가 여자를 좋아해</td>\n",
              "      <td>0</td>\n",
              "    </tr>\n",
              "    <tr>\n",
              "      <th>2</th>\n",
              "      <td>하모니</td>\n",
              "      <td>0</td>\n",
              "    </tr>\n",
              "    <tr>\n",
              "      <th>3</th>\n",
              "      <td>의형제</td>\n",
              "      <td>0</td>\n",
              "    </tr>\n",
              "    <tr>\n",
              "      <th>4</th>\n",
              "      <td>평행 이론</td>\n",
              "      <td>0</td>\n",
              "    </tr>\n",
              "  </tbody>\n",
              "</table>\n",
              "</div>"
            ],
            "text/plain": [
              "         title  box_off_num\n",
              "0       용서는 없다            0\n",
              "1  아빠가 여자를 좋아해            0\n",
              "2          하모니            0\n",
              "3          의형제            0\n",
              "4        평행 이론            0"
            ]
          },
          "metadata": {
            "tags": []
          },
          "execution_count": 45
        }
      ]
    },
    {
      "cell_type": "code",
      "metadata": {
        "id": "pitQFysmR-eK"
      },
      "source": [
        "singleLGBM['box_off_num'] = model.predict(X_test)"
      ],
      "execution_count": null,
      "outputs": []
    },
    {
      "cell_type": "code",
      "metadata": {
        "id": "EmsTVPf7SSHb"
      },
      "source": [
        "singleLGBM.to_csv('singleLGBM.csv',index=False)"
      ],
      "execution_count": null,
      "outputs": []
    },
    {
      "cell_type": "code",
      "metadata": {
        "id": "NTLFKq6ETNHW"
      },
      "source": [
        "from sklearn.model_selection import KFold"
      ],
      "execution_count": null,
      "outputs": []
    },
    {
      "cell_type": "code",
      "metadata": {
        "id": "WaCbcbZeTkq-"
      },
      "source": [
        "k_fold=KFold(n_splits=5,shuffle=True, random_state=777)"
      ],
      "execution_count": null,
      "outputs": []
    },
    {
      "cell_type": "code",
      "metadata": {
        "colab": {
          "base_uri": "https://localhost:8080/"
        },
        "id": "YmpgYGHwTvYu",
        "outputId": "82cb3cf2-3c0c-4433-945b-fff38eae28d1"
      },
      "source": [
        "model =lgb.LGBMRegressor(random_state=777,n_estimators=1000)\n",
        "\n",
        "models=[]\n",
        "for train_idx, val_idx, in k_fold.split(X_train):\n",
        "  x_t = X_train.iloc[train_idx]\n",
        "  y_t = Y_train.iloc[train_idx]\n",
        "  x_val = X_train.iloc[val_idx]\n",
        "  y_val = Y_train.iloc[val_idx]\n",
        "\n",
        "  models.append(model.fit(x_t,y_t,eval_set=(x_val, y_val),early_stopping_rounds=100,verbose=100))\n",
        "  #오차율이 더 이상 내려가지않으면 그만 멈춰라! 하는 것\n",
        "  #early_stopping_rounds\n",
        "  #verbose =100번째마다 출력해달라 다 말구"
      ],
      "execution_count": null,
      "outputs": [
        {
          "output_type": "stream",
          "text": [
            "Training until validation scores don't improve for 100 rounds.\n",
            "[100]\tvalid_0's l2: 2.70572e+12\n",
            "Early stopping, best iteration is:\n",
            "[6]\tvalid_0's l2: 2.45438e+12\n",
            "Training until validation scores don't improve for 100 rounds.\n",
            "[100]\tvalid_0's l2: 3.90847e+12\n",
            "Early stopping, best iteration is:\n",
            "[33]\tvalid_0's l2: 3.72825e+12\n",
            "Training until validation scores don't improve for 100 rounds.\n",
            "[100]\tvalid_0's l2: 3.50344e+12\n",
            "Early stopping, best iteration is:\n",
            "[8]\tvalid_0's l2: 2.58737e+12\n",
            "Training until validation scores don't improve for 100 rounds.\n",
            "[100]\tvalid_0's l2: 1.45977e+12\n",
            "Early stopping, best iteration is:\n",
            "[11]\tvalid_0's l2: 1.26226e+12\n",
            "Training until validation scores don't improve for 100 rounds.\n",
            "[100]\tvalid_0's l2: 1.77214e+12\n",
            "Early stopping, best iteration is:\n",
            "[22]\tvalid_0's l2: 1.57631e+12\n"
          ],
          "name": "stdout"
        }
      ]
    },
    {
      "cell_type": "code",
      "metadata": {
        "colab": {
          "base_uri": "https://localhost:8080/"
        },
        "id": "pZfNQUTgUKeU",
        "outputId": "7472bd7f-d36e-45a4-9355-166455d3f9a6"
      },
      "source": [
        "preds=[]\n",
        "for model in models:\n",
        "  preds.append(model.predict(X_test))\n",
        "len(preds)"
      ],
      "execution_count": null,
      "outputs": [
        {
          "output_type": "execute_result",
          "data": {
            "text/plain": [
              "5"
            ]
          },
          "metadata": {
            "tags": []
          },
          "execution_count": 55
        }
      ]
    },
    {
      "cell_type": "code",
      "metadata": {
        "id": "lfzNFf4WWzJ9"
      },
      "source": [
        "kfoldLightGBM=submission.copy()"
      ],
      "execution_count": null,
      "outputs": []
    },
    {
      "cell_type": "code",
      "metadata": {
        "colab": {
          "base_uri": "https://localhost:8080/"
        },
        "id": "rIHkcp4-W2fW",
        "outputId": "05ad3a5f-c70a-47a7-d077-1da8931e4193"
      },
      "source": [
        "preds"
      ],
      "execution_count": null,
      "outputs": [
        {
          "output_type": "execute_result",
          "data": {
            "text/plain": [
              "[array([3367422.08211024,  961138.88337016, 1097929.67851313,\n",
              "        2097270.81999921,  781476.31131047,  123133.23396977,\n",
              "          84085.01896248,  199222.92670303,  124854.97973097,\n",
              "        1072684.78820647,  657040.55769984, 1644701.47160779,\n",
              "         924735.72080619,  191699.58415836,  723218.39948755,\n",
              "        2395613.42888462,  113180.54906592, 1882765.92812296,\n",
              "          97286.47282983,  417270.42113431,  161482.3367577 ,\n",
              "          63495.73363115,  598057.42337284,  249411.25868881,\n",
              "         308424.71884273, 1319518.60852241,  202273.52740684,\n",
              "        1076683.13768137,  491636.41945325,  183406.6380314 ,\n",
              "        1740233.45816734,   86696.17528125,  440430.29773088,\n",
              "        2040944.13061099,  113375.45695331,  531746.29484356,\n",
              "         106207.35971699,  169560.79581187,  158101.0895316 ,\n",
              "          95037.29701059,  466355.50624629,  197548.63265325,\n",
              "         198810.0901353 ,  682743.4340129 ,  679265.22397749,\n",
              "         617812.91125278,  219182.85833837,   83712.10602149,\n",
              "        1206257.86593038,  213886.45118276,  225829.13565632,\n",
              "         573638.25784044,  213008.72404464, 1256363.95636108,\n",
              "        1114803.4971861 ,  743531.85320002,  491360.56067236,\n",
              "         844903.11979141, 1294842.58551457, 3224861.58056056,\n",
              "         620636.85839868, 1997931.01104478,  425408.70724227,\n",
              "         187911.96484382,  146932.14876274,   60290.34778046,\n",
              "        1553051.98103674,   61273.32234969,  434403.58150991,\n",
              "         295641.77082639, 3270724.75199692,  956695.86295249,\n",
              "          52421.39380137, 1193829.08957371,  109115.94774032,\n",
              "         114532.36574566, 1889840.31759081,  263117.7221664 ,\n",
              "         110722.44800397,  129405.69463079,  295288.27657346,\n",
              "        2208289.14524844,  127156.40131508, 2356552.01519359,\n",
              "          52421.39380137, 1582094.56763018,  450263.02347743,\n",
              "         180314.7209139 ,  207866.80825891,  237980.96274482,\n",
              "          92809.10191796,  217726.13148671,  588167.04361702,\n",
              "        2269569.15414991,  413549.08320869,  504238.61127942,\n",
              "         121235.38111888,  294348.6064813 ,  365600.03475309,\n",
              "        1021310.81474734, 1255348.78654001, 1121695.37239584,\n",
              "         236858.1355381 ,  180837.57476421,  390892.54870688,\n",
              "         112045.06953824, 3091294.61560971,   71489.84756224,\n",
              "        3949551.73068699,  117269.53815136,   76582.3994148 ,\n",
              "        1933601.27793109, 1675206.65522009,  294348.6064813 ,\n",
              "          97940.27258456,  945839.01956416,  610770.20862757,\n",
              "        1804885.34137216,  199766.90646407,   70766.27122776,\n",
              "          81754.00329429, 1021310.81474734,  846364.16218315,\n",
              "          77206.4852859 ,  598474.09814662,  169200.18001164,\n",
              "          73757.25966134,   68560.19329018,  363573.18970532,\n",
              "         439100.02360785,   53273.19743239,  883179.93430519,\n",
              "          96841.00528099,   69705.57216142,  720189.94864194,\n",
              "        4682200.86959811,  157547.86592702,  598577.33917498,\n",
              "         103530.67260964,  219913.31885361,   69705.57216142,\n",
              "        3393838.48355355, 3747750.51209052,  137237.96352743,\n",
              "         205694.9146793 , 1343063.74316061,  105778.55398733,\n",
              "         113406.67661411, 2090467.44678197,  676486.18009377,\n",
              "        1653182.84275506,  151567.24115244,   82132.69602781,\n",
              "         450200.37816199,  123824.9061514 ,  841869.56483077,\n",
              "          95800.41312684,  118291.73959934, 2085585.62459758,\n",
              "        2372839.45720666,  247688.59858277, 1334681.62533764,\n",
              "         101692.7552419 ,  503472.70498147,   64636.19839218,\n",
              "         320805.50593895, 2623266.33617439,  174088.14927962,\n",
              "          72116.10600518,   80293.56098003,   89828.86338213,\n",
              "         219193.02374581,  328023.58124177,   60290.34778046,\n",
              "         516294.37658866,  236774.09865655,  163101.99672652,\n",
              "          95037.29701059, 4401076.73195112, 3540272.0939466 ,\n",
              "          80652.10214941,   64007.05829165,   91088.74649744,\n",
              "         451288.50611234, 2108891.7577948 ,  222324.39435632,\n",
              "         230969.76551419,  119869.73646973,  202629.14049356,\n",
              "        3372525.98485469,  194055.24146137,   82570.78055486,\n",
              "         107755.73232124,   98100.67856341,   64007.05829165,\n",
              "        1960017.88124655,  439387.54981251, 1311678.25959343,\n",
              "          52266.56751161,  612357.4359533 ,  277611.14005727,\n",
              "         100834.87848026,   52421.39380137,  320518.12600116,\n",
              "         622991.23928914,  905631.603816  , 2927834.24849227,\n",
              "         562358.56357488,  111381.83047422,  781476.31131047,\n",
              "         798596.64645281, 2310966.59797285, 5133725.87086224,\n",
              "        1281440.30372974,  171353.72979582,   89630.73883889,\n",
              "        1555941.58912764,  124073.12498191,   66108.35792552,\n",
              "         201459.85880026,  108993.88378627, 3134539.90969621,\n",
              "         148239.45542642,   53451.2389687 , 1307718.56304709,\n",
              "         214406.20173983,  194835.86837801, 3367422.08211024,\n",
              "         199766.90646407, 3823577.41600747,   68447.35094925,\n",
              "         739960.30606392,  506712.38290343,  150255.49362263,\n",
              "          62093.65018694,   64707.81660264,  151784.52074685,\n",
              "          80757.16568265,  177095.84545845,  210255.47503947,\n",
              "         360547.62990175,  181508.22558258,   55171.21699634]),\n",
              " array([3367422.08211024,  961138.88337016, 1097929.67851313,\n",
              "        2097270.81999921,  781476.31131047,  123133.23396977,\n",
              "          84085.01896248,  199222.92670303,  124854.97973097,\n",
              "        1072684.78820647,  657040.55769984, 1644701.47160779,\n",
              "         924735.72080619,  191699.58415836,  723218.39948755,\n",
              "        2395613.42888462,  113180.54906592, 1882765.92812296,\n",
              "          97286.47282983,  417270.42113431,  161482.3367577 ,\n",
              "          63495.73363115,  598057.42337284,  249411.25868881,\n",
              "         308424.71884273, 1319518.60852241,  202273.52740684,\n",
              "        1076683.13768137,  491636.41945325,  183406.6380314 ,\n",
              "        1740233.45816734,   86696.17528125,  440430.29773088,\n",
              "        2040944.13061099,  113375.45695331,  531746.29484356,\n",
              "         106207.35971699,  169560.79581187,  158101.0895316 ,\n",
              "          95037.29701059,  466355.50624629,  197548.63265325,\n",
              "         198810.0901353 ,  682743.4340129 ,  679265.22397749,\n",
              "         617812.91125278,  219182.85833837,   83712.10602149,\n",
              "        1206257.86593038,  213886.45118276,  225829.13565632,\n",
              "         573638.25784044,  213008.72404464, 1256363.95636108,\n",
              "        1114803.4971861 ,  743531.85320002,  491360.56067236,\n",
              "         844903.11979141, 1294842.58551457, 3224861.58056056,\n",
              "         620636.85839868, 1997931.01104478,  425408.70724227,\n",
              "         187911.96484382,  146932.14876274,   60290.34778046,\n",
              "        1553051.98103674,   61273.32234969,  434403.58150991,\n",
              "         295641.77082639, 3270724.75199692,  956695.86295249,\n",
              "          52421.39380137, 1193829.08957371,  109115.94774032,\n",
              "         114532.36574566, 1889840.31759081,  263117.7221664 ,\n",
              "         110722.44800397,  129405.69463079,  295288.27657346,\n",
              "        2208289.14524844,  127156.40131508, 2356552.01519359,\n",
              "          52421.39380137, 1582094.56763018,  450263.02347743,\n",
              "         180314.7209139 ,  207866.80825891,  237980.96274482,\n",
              "          92809.10191796,  217726.13148671,  588167.04361702,\n",
              "        2269569.15414991,  413549.08320869,  504238.61127942,\n",
              "         121235.38111888,  294348.6064813 ,  365600.03475309,\n",
              "        1021310.81474734, 1255348.78654001, 1121695.37239584,\n",
              "         236858.1355381 ,  180837.57476421,  390892.54870688,\n",
              "         112045.06953824, 3091294.61560971,   71489.84756224,\n",
              "        3949551.73068699,  117269.53815136,   76582.3994148 ,\n",
              "        1933601.27793109, 1675206.65522009,  294348.6064813 ,\n",
              "          97940.27258456,  945839.01956416,  610770.20862757,\n",
              "        1804885.34137216,  199766.90646407,   70766.27122776,\n",
              "          81754.00329429, 1021310.81474734,  846364.16218315,\n",
              "          77206.4852859 ,  598474.09814662,  169200.18001164,\n",
              "          73757.25966134,   68560.19329018,  363573.18970532,\n",
              "         439100.02360785,   53273.19743239,  883179.93430519,\n",
              "          96841.00528099,   69705.57216142,  720189.94864194,\n",
              "        4682200.86959811,  157547.86592702,  598577.33917498,\n",
              "         103530.67260964,  219913.31885361,   69705.57216142,\n",
              "        3393838.48355355, 3747750.51209052,  137237.96352743,\n",
              "         205694.9146793 , 1343063.74316061,  105778.55398733,\n",
              "         113406.67661411, 2090467.44678197,  676486.18009377,\n",
              "        1653182.84275506,  151567.24115244,   82132.69602781,\n",
              "         450200.37816199,  123824.9061514 ,  841869.56483077,\n",
              "          95800.41312684,  118291.73959934, 2085585.62459758,\n",
              "        2372839.45720666,  247688.59858277, 1334681.62533764,\n",
              "         101692.7552419 ,  503472.70498147,   64636.19839218,\n",
              "         320805.50593895, 2623266.33617439,  174088.14927962,\n",
              "          72116.10600518,   80293.56098003,   89828.86338213,\n",
              "         219193.02374581,  328023.58124177,   60290.34778046,\n",
              "         516294.37658866,  236774.09865655,  163101.99672652,\n",
              "          95037.29701059, 4401076.73195112, 3540272.0939466 ,\n",
              "          80652.10214941,   64007.05829165,   91088.74649744,\n",
              "         451288.50611234, 2108891.7577948 ,  222324.39435632,\n",
              "         230969.76551419,  119869.73646973,  202629.14049356,\n",
              "        3372525.98485469,  194055.24146137,   82570.78055486,\n",
              "         107755.73232124,   98100.67856341,   64007.05829165,\n",
              "        1960017.88124655,  439387.54981251, 1311678.25959343,\n",
              "          52266.56751161,  612357.4359533 ,  277611.14005727,\n",
              "         100834.87848026,   52421.39380137,  320518.12600116,\n",
              "         622991.23928914,  905631.603816  , 2927834.24849227,\n",
              "         562358.56357488,  111381.83047422,  781476.31131047,\n",
              "         798596.64645281, 2310966.59797285, 5133725.87086224,\n",
              "        1281440.30372974,  171353.72979582,   89630.73883889,\n",
              "        1555941.58912764,  124073.12498191,   66108.35792552,\n",
              "         201459.85880026,  108993.88378627, 3134539.90969621,\n",
              "         148239.45542642,   53451.2389687 , 1307718.56304709,\n",
              "         214406.20173983,  194835.86837801, 3367422.08211024,\n",
              "         199766.90646407, 3823577.41600747,   68447.35094925,\n",
              "         739960.30606392,  506712.38290343,  150255.49362263,\n",
              "          62093.65018694,   64707.81660264,  151784.52074685,\n",
              "          80757.16568265,  177095.84545845,  210255.47503947,\n",
              "         360547.62990175,  181508.22558258,   55171.21699634]),\n",
              " array([3367422.08211024,  961138.88337016, 1097929.67851313,\n",
              "        2097270.81999921,  781476.31131047,  123133.23396977,\n",
              "          84085.01896248,  199222.92670303,  124854.97973097,\n",
              "        1072684.78820647,  657040.55769984, 1644701.47160779,\n",
              "         924735.72080619,  191699.58415836,  723218.39948755,\n",
              "        2395613.42888462,  113180.54906592, 1882765.92812296,\n",
              "          97286.47282983,  417270.42113431,  161482.3367577 ,\n",
              "          63495.73363115,  598057.42337284,  249411.25868881,\n",
              "         308424.71884273, 1319518.60852241,  202273.52740684,\n",
              "        1076683.13768137,  491636.41945325,  183406.6380314 ,\n",
              "        1740233.45816734,   86696.17528125,  440430.29773088,\n",
              "        2040944.13061099,  113375.45695331,  531746.29484356,\n",
              "         106207.35971699,  169560.79581187,  158101.0895316 ,\n",
              "          95037.29701059,  466355.50624629,  197548.63265325,\n",
              "         198810.0901353 ,  682743.4340129 ,  679265.22397749,\n",
              "         617812.91125278,  219182.85833837,   83712.10602149,\n",
              "        1206257.86593038,  213886.45118276,  225829.13565632,\n",
              "         573638.25784044,  213008.72404464, 1256363.95636108,\n",
              "        1114803.4971861 ,  743531.85320002,  491360.56067236,\n",
              "         844903.11979141, 1294842.58551457, 3224861.58056056,\n",
              "         620636.85839868, 1997931.01104478,  425408.70724227,\n",
              "         187911.96484382,  146932.14876274,   60290.34778046,\n",
              "        1553051.98103674,   61273.32234969,  434403.58150991,\n",
              "         295641.77082639, 3270724.75199692,  956695.86295249,\n",
              "          52421.39380137, 1193829.08957371,  109115.94774032,\n",
              "         114532.36574566, 1889840.31759081,  263117.7221664 ,\n",
              "         110722.44800397,  129405.69463079,  295288.27657346,\n",
              "        2208289.14524844,  127156.40131508, 2356552.01519359,\n",
              "          52421.39380137, 1582094.56763018,  450263.02347743,\n",
              "         180314.7209139 ,  207866.80825891,  237980.96274482,\n",
              "          92809.10191796,  217726.13148671,  588167.04361702,\n",
              "        2269569.15414991,  413549.08320869,  504238.61127942,\n",
              "         121235.38111888,  294348.6064813 ,  365600.03475309,\n",
              "        1021310.81474734, 1255348.78654001, 1121695.37239584,\n",
              "         236858.1355381 ,  180837.57476421,  390892.54870688,\n",
              "         112045.06953824, 3091294.61560971,   71489.84756224,\n",
              "        3949551.73068699,  117269.53815136,   76582.3994148 ,\n",
              "        1933601.27793109, 1675206.65522009,  294348.6064813 ,\n",
              "          97940.27258456,  945839.01956416,  610770.20862757,\n",
              "        1804885.34137216,  199766.90646407,   70766.27122776,\n",
              "          81754.00329429, 1021310.81474734,  846364.16218315,\n",
              "          77206.4852859 ,  598474.09814662,  169200.18001164,\n",
              "          73757.25966134,   68560.19329018,  363573.18970532,\n",
              "         439100.02360785,   53273.19743239,  883179.93430519,\n",
              "          96841.00528099,   69705.57216142,  720189.94864194,\n",
              "        4682200.86959811,  157547.86592702,  598577.33917498,\n",
              "         103530.67260964,  219913.31885361,   69705.57216142,\n",
              "        3393838.48355355, 3747750.51209052,  137237.96352743,\n",
              "         205694.9146793 , 1343063.74316061,  105778.55398733,\n",
              "         113406.67661411, 2090467.44678197,  676486.18009377,\n",
              "        1653182.84275506,  151567.24115244,   82132.69602781,\n",
              "         450200.37816199,  123824.9061514 ,  841869.56483077,\n",
              "          95800.41312684,  118291.73959934, 2085585.62459758,\n",
              "        2372839.45720666,  247688.59858277, 1334681.62533764,\n",
              "         101692.7552419 ,  503472.70498147,   64636.19839218,\n",
              "         320805.50593895, 2623266.33617439,  174088.14927962,\n",
              "          72116.10600518,   80293.56098003,   89828.86338213,\n",
              "         219193.02374581,  328023.58124177,   60290.34778046,\n",
              "         516294.37658866,  236774.09865655,  163101.99672652,\n",
              "          95037.29701059, 4401076.73195112, 3540272.0939466 ,\n",
              "          80652.10214941,   64007.05829165,   91088.74649744,\n",
              "         451288.50611234, 2108891.7577948 ,  222324.39435632,\n",
              "         230969.76551419,  119869.73646973,  202629.14049356,\n",
              "        3372525.98485469,  194055.24146137,   82570.78055486,\n",
              "         107755.73232124,   98100.67856341,   64007.05829165,\n",
              "        1960017.88124655,  439387.54981251, 1311678.25959343,\n",
              "          52266.56751161,  612357.4359533 ,  277611.14005727,\n",
              "         100834.87848026,   52421.39380137,  320518.12600116,\n",
              "         622991.23928914,  905631.603816  , 2927834.24849227,\n",
              "         562358.56357488,  111381.83047422,  781476.31131047,\n",
              "         798596.64645281, 2310966.59797285, 5133725.87086224,\n",
              "        1281440.30372974,  171353.72979582,   89630.73883889,\n",
              "        1555941.58912764,  124073.12498191,   66108.35792552,\n",
              "         201459.85880026,  108993.88378627, 3134539.90969621,\n",
              "         148239.45542642,   53451.2389687 , 1307718.56304709,\n",
              "         214406.20173983,  194835.86837801, 3367422.08211024,\n",
              "         199766.90646407, 3823577.41600747,   68447.35094925,\n",
              "         739960.30606392,  506712.38290343,  150255.49362263,\n",
              "          62093.65018694,   64707.81660264,  151784.52074685,\n",
              "          80757.16568265,  177095.84545845,  210255.47503947,\n",
              "         360547.62990175,  181508.22558258,   55171.21699634]),\n",
              " array([3367422.08211024,  961138.88337016, 1097929.67851313,\n",
              "        2097270.81999921,  781476.31131047,  123133.23396977,\n",
              "          84085.01896248,  199222.92670303,  124854.97973097,\n",
              "        1072684.78820647,  657040.55769984, 1644701.47160779,\n",
              "         924735.72080619,  191699.58415836,  723218.39948755,\n",
              "        2395613.42888462,  113180.54906592, 1882765.92812296,\n",
              "          97286.47282983,  417270.42113431,  161482.3367577 ,\n",
              "          63495.73363115,  598057.42337284,  249411.25868881,\n",
              "         308424.71884273, 1319518.60852241,  202273.52740684,\n",
              "        1076683.13768137,  491636.41945325,  183406.6380314 ,\n",
              "        1740233.45816734,   86696.17528125,  440430.29773088,\n",
              "        2040944.13061099,  113375.45695331,  531746.29484356,\n",
              "         106207.35971699,  169560.79581187,  158101.0895316 ,\n",
              "          95037.29701059,  466355.50624629,  197548.63265325,\n",
              "         198810.0901353 ,  682743.4340129 ,  679265.22397749,\n",
              "         617812.91125278,  219182.85833837,   83712.10602149,\n",
              "        1206257.86593038,  213886.45118276,  225829.13565632,\n",
              "         573638.25784044,  213008.72404464, 1256363.95636108,\n",
              "        1114803.4971861 ,  743531.85320002,  491360.56067236,\n",
              "         844903.11979141, 1294842.58551457, 3224861.58056056,\n",
              "         620636.85839868, 1997931.01104478,  425408.70724227,\n",
              "         187911.96484382,  146932.14876274,   60290.34778046,\n",
              "        1553051.98103674,   61273.32234969,  434403.58150991,\n",
              "         295641.77082639, 3270724.75199692,  956695.86295249,\n",
              "          52421.39380137, 1193829.08957371,  109115.94774032,\n",
              "         114532.36574566, 1889840.31759081,  263117.7221664 ,\n",
              "         110722.44800397,  129405.69463079,  295288.27657346,\n",
              "        2208289.14524844,  127156.40131508, 2356552.01519359,\n",
              "          52421.39380137, 1582094.56763018,  450263.02347743,\n",
              "         180314.7209139 ,  207866.80825891,  237980.96274482,\n",
              "          92809.10191796,  217726.13148671,  588167.04361702,\n",
              "        2269569.15414991,  413549.08320869,  504238.61127942,\n",
              "         121235.38111888,  294348.6064813 ,  365600.03475309,\n",
              "        1021310.81474734, 1255348.78654001, 1121695.37239584,\n",
              "         236858.1355381 ,  180837.57476421,  390892.54870688,\n",
              "         112045.06953824, 3091294.61560971,   71489.84756224,\n",
              "        3949551.73068699,  117269.53815136,   76582.3994148 ,\n",
              "        1933601.27793109, 1675206.65522009,  294348.6064813 ,\n",
              "          97940.27258456,  945839.01956416,  610770.20862757,\n",
              "        1804885.34137216,  199766.90646407,   70766.27122776,\n",
              "          81754.00329429, 1021310.81474734,  846364.16218315,\n",
              "          77206.4852859 ,  598474.09814662,  169200.18001164,\n",
              "          73757.25966134,   68560.19329018,  363573.18970532,\n",
              "         439100.02360785,   53273.19743239,  883179.93430519,\n",
              "          96841.00528099,   69705.57216142,  720189.94864194,\n",
              "        4682200.86959811,  157547.86592702,  598577.33917498,\n",
              "         103530.67260964,  219913.31885361,   69705.57216142,\n",
              "        3393838.48355355, 3747750.51209052,  137237.96352743,\n",
              "         205694.9146793 , 1343063.74316061,  105778.55398733,\n",
              "         113406.67661411, 2090467.44678197,  676486.18009377,\n",
              "        1653182.84275506,  151567.24115244,   82132.69602781,\n",
              "         450200.37816199,  123824.9061514 ,  841869.56483077,\n",
              "          95800.41312684,  118291.73959934, 2085585.62459758,\n",
              "        2372839.45720666,  247688.59858277, 1334681.62533764,\n",
              "         101692.7552419 ,  503472.70498147,   64636.19839218,\n",
              "         320805.50593895, 2623266.33617439,  174088.14927962,\n",
              "          72116.10600518,   80293.56098003,   89828.86338213,\n",
              "         219193.02374581,  328023.58124177,   60290.34778046,\n",
              "         516294.37658866,  236774.09865655,  163101.99672652,\n",
              "          95037.29701059, 4401076.73195112, 3540272.0939466 ,\n",
              "          80652.10214941,   64007.05829165,   91088.74649744,\n",
              "         451288.50611234, 2108891.7577948 ,  222324.39435632,\n",
              "         230969.76551419,  119869.73646973,  202629.14049356,\n",
              "        3372525.98485469,  194055.24146137,   82570.78055486,\n",
              "         107755.73232124,   98100.67856341,   64007.05829165,\n",
              "        1960017.88124655,  439387.54981251, 1311678.25959343,\n",
              "          52266.56751161,  612357.4359533 ,  277611.14005727,\n",
              "         100834.87848026,   52421.39380137,  320518.12600116,\n",
              "         622991.23928914,  905631.603816  , 2927834.24849227,\n",
              "         562358.56357488,  111381.83047422,  781476.31131047,\n",
              "         798596.64645281, 2310966.59797285, 5133725.87086224,\n",
              "        1281440.30372974,  171353.72979582,   89630.73883889,\n",
              "        1555941.58912764,  124073.12498191,   66108.35792552,\n",
              "         201459.85880026,  108993.88378627, 3134539.90969621,\n",
              "         148239.45542642,   53451.2389687 , 1307718.56304709,\n",
              "         214406.20173983,  194835.86837801, 3367422.08211024,\n",
              "         199766.90646407, 3823577.41600747,   68447.35094925,\n",
              "         739960.30606392,  506712.38290343,  150255.49362263,\n",
              "          62093.65018694,   64707.81660264,  151784.52074685,\n",
              "          80757.16568265,  177095.84545845,  210255.47503947,\n",
              "         360547.62990175,  181508.22558258,   55171.21699634]),\n",
              " array([3367422.08211024,  961138.88337016, 1097929.67851313,\n",
              "        2097270.81999921,  781476.31131047,  123133.23396977,\n",
              "          84085.01896248,  199222.92670303,  124854.97973097,\n",
              "        1072684.78820647,  657040.55769984, 1644701.47160779,\n",
              "         924735.72080619,  191699.58415836,  723218.39948755,\n",
              "        2395613.42888462,  113180.54906592, 1882765.92812296,\n",
              "          97286.47282983,  417270.42113431,  161482.3367577 ,\n",
              "          63495.73363115,  598057.42337284,  249411.25868881,\n",
              "         308424.71884273, 1319518.60852241,  202273.52740684,\n",
              "        1076683.13768137,  491636.41945325,  183406.6380314 ,\n",
              "        1740233.45816734,   86696.17528125,  440430.29773088,\n",
              "        2040944.13061099,  113375.45695331,  531746.29484356,\n",
              "         106207.35971699,  169560.79581187,  158101.0895316 ,\n",
              "          95037.29701059,  466355.50624629,  197548.63265325,\n",
              "         198810.0901353 ,  682743.4340129 ,  679265.22397749,\n",
              "         617812.91125278,  219182.85833837,   83712.10602149,\n",
              "        1206257.86593038,  213886.45118276,  225829.13565632,\n",
              "         573638.25784044,  213008.72404464, 1256363.95636108,\n",
              "        1114803.4971861 ,  743531.85320002,  491360.56067236,\n",
              "         844903.11979141, 1294842.58551457, 3224861.58056056,\n",
              "         620636.85839868, 1997931.01104478,  425408.70724227,\n",
              "         187911.96484382,  146932.14876274,   60290.34778046,\n",
              "        1553051.98103674,   61273.32234969,  434403.58150991,\n",
              "         295641.77082639, 3270724.75199692,  956695.86295249,\n",
              "          52421.39380137, 1193829.08957371,  109115.94774032,\n",
              "         114532.36574566, 1889840.31759081,  263117.7221664 ,\n",
              "         110722.44800397,  129405.69463079,  295288.27657346,\n",
              "        2208289.14524844,  127156.40131508, 2356552.01519359,\n",
              "          52421.39380137, 1582094.56763018,  450263.02347743,\n",
              "         180314.7209139 ,  207866.80825891,  237980.96274482,\n",
              "          92809.10191796,  217726.13148671,  588167.04361702,\n",
              "        2269569.15414991,  413549.08320869,  504238.61127942,\n",
              "         121235.38111888,  294348.6064813 ,  365600.03475309,\n",
              "        1021310.81474734, 1255348.78654001, 1121695.37239584,\n",
              "         236858.1355381 ,  180837.57476421,  390892.54870688,\n",
              "         112045.06953824, 3091294.61560971,   71489.84756224,\n",
              "        3949551.73068699,  117269.53815136,   76582.3994148 ,\n",
              "        1933601.27793109, 1675206.65522009,  294348.6064813 ,\n",
              "          97940.27258456,  945839.01956416,  610770.20862757,\n",
              "        1804885.34137216,  199766.90646407,   70766.27122776,\n",
              "          81754.00329429, 1021310.81474734,  846364.16218315,\n",
              "          77206.4852859 ,  598474.09814662,  169200.18001164,\n",
              "          73757.25966134,   68560.19329018,  363573.18970532,\n",
              "         439100.02360785,   53273.19743239,  883179.93430519,\n",
              "          96841.00528099,   69705.57216142,  720189.94864194,\n",
              "        4682200.86959811,  157547.86592702,  598577.33917498,\n",
              "         103530.67260964,  219913.31885361,   69705.57216142,\n",
              "        3393838.48355355, 3747750.51209052,  137237.96352743,\n",
              "         205694.9146793 , 1343063.74316061,  105778.55398733,\n",
              "         113406.67661411, 2090467.44678197,  676486.18009377,\n",
              "        1653182.84275506,  151567.24115244,   82132.69602781,\n",
              "         450200.37816199,  123824.9061514 ,  841869.56483077,\n",
              "          95800.41312684,  118291.73959934, 2085585.62459758,\n",
              "        2372839.45720666,  247688.59858277, 1334681.62533764,\n",
              "         101692.7552419 ,  503472.70498147,   64636.19839218,\n",
              "         320805.50593895, 2623266.33617439,  174088.14927962,\n",
              "          72116.10600518,   80293.56098003,   89828.86338213,\n",
              "         219193.02374581,  328023.58124177,   60290.34778046,\n",
              "         516294.37658866,  236774.09865655,  163101.99672652,\n",
              "          95037.29701059, 4401076.73195112, 3540272.0939466 ,\n",
              "          80652.10214941,   64007.05829165,   91088.74649744,\n",
              "         451288.50611234, 2108891.7577948 ,  222324.39435632,\n",
              "         230969.76551419,  119869.73646973,  202629.14049356,\n",
              "        3372525.98485469,  194055.24146137,   82570.78055486,\n",
              "         107755.73232124,   98100.67856341,   64007.05829165,\n",
              "        1960017.88124655,  439387.54981251, 1311678.25959343,\n",
              "          52266.56751161,  612357.4359533 ,  277611.14005727,\n",
              "         100834.87848026,   52421.39380137,  320518.12600116,\n",
              "         622991.23928914,  905631.603816  , 2927834.24849227,\n",
              "         562358.56357488,  111381.83047422,  781476.31131047,\n",
              "         798596.64645281, 2310966.59797285, 5133725.87086224,\n",
              "        1281440.30372974,  171353.72979582,   89630.73883889,\n",
              "        1555941.58912764,  124073.12498191,   66108.35792552,\n",
              "         201459.85880026,  108993.88378627, 3134539.90969621,\n",
              "         148239.45542642,   53451.2389687 , 1307718.56304709,\n",
              "         214406.20173983,  194835.86837801, 3367422.08211024,\n",
              "         199766.90646407, 3823577.41600747,   68447.35094925,\n",
              "         739960.30606392,  506712.38290343,  150255.49362263,\n",
              "          62093.65018694,   64707.81660264,  151784.52074685,\n",
              "          80757.16568265,  177095.84545845,  210255.47503947,\n",
              "         360547.62990175,  181508.22558258,   55171.21699634])]"
            ]
          },
          "metadata": {
            "tags": []
          },
          "execution_count": 62
        }
      ]
    },
    {
      "cell_type": "code",
      "metadata": {
        "id": "gCiGDafQW6qw"
      },
      "source": [
        "import numpy as np"
      ],
      "execution_count": null,
      "outputs": []
    },
    {
      "cell_type": "code",
      "metadata": {
        "id": "2OybmFa_W88o"
      },
      "source": [
        "kfoldLightGBM['box_off_num']=np.mean(preds,axis=0)"
      ],
      "execution_count": null,
      "outputs": []
    },
    {
      "cell_type": "code",
      "metadata": {
        "colab": {
          "base_uri": "https://localhost:8080/",
          "height": 200
        },
        "id": "oHtGEcILXDnk",
        "outputId": "eabd516a-511b-4e5a-881b-7abc0a42e936"
      },
      "source": [
        "kfoldLightGBM.head()\n"
      ],
      "execution_count": null,
      "outputs": [
        {
          "output_type": "execute_result",
          "data": {
            "text/html": [
              "<div>\n",
              "<style scoped>\n",
              "    .dataframe tbody tr th:only-of-type {\n",
              "        vertical-align: middle;\n",
              "    }\n",
              "\n",
              "    .dataframe tbody tr th {\n",
              "        vertical-align: top;\n",
              "    }\n",
              "\n",
              "    .dataframe thead th {\n",
              "        text-align: right;\n",
              "    }\n",
              "</style>\n",
              "<table border=\"1\" class=\"dataframe\">\n",
              "  <thead>\n",
              "    <tr style=\"text-align: right;\">\n",
              "      <th></th>\n",
              "      <th>title</th>\n",
              "      <th>box_off_num</th>\n",
              "    </tr>\n",
              "  </thead>\n",
              "  <tbody>\n",
              "    <tr>\n",
              "      <th>0</th>\n",
              "      <td>용서는 없다</td>\n",
              "      <td>3.367422e+06</td>\n",
              "    </tr>\n",
              "    <tr>\n",
              "      <th>1</th>\n",
              "      <td>아빠가 여자를 좋아해</td>\n",
              "      <td>9.611389e+05</td>\n",
              "    </tr>\n",
              "    <tr>\n",
              "      <th>2</th>\n",
              "      <td>하모니</td>\n",
              "      <td>1.097930e+06</td>\n",
              "    </tr>\n",
              "    <tr>\n",
              "      <th>3</th>\n",
              "      <td>의형제</td>\n",
              "      <td>2.097271e+06</td>\n",
              "    </tr>\n",
              "    <tr>\n",
              "      <th>4</th>\n",
              "      <td>평행 이론</td>\n",
              "      <td>7.814763e+05</td>\n",
              "    </tr>\n",
              "  </tbody>\n",
              "</table>\n",
              "</div>"
            ],
            "text/plain": [
              "         title   box_off_num\n",
              "0       용서는 없다  3.367422e+06\n",
              "1  아빠가 여자를 좋아해  9.611389e+05\n",
              "2          하모니  1.097930e+06\n",
              "3          의형제  2.097271e+06\n",
              "4        평행 이론  7.814763e+05"
            ]
          },
          "metadata": {
            "tags": []
          },
          "execution_count": 64
        }
      ]
    },
    {
      "cell_type": "code",
      "metadata": {
        "id": "IxqTG65sXPDX"
      },
      "source": [
        "kfoldLightGBM.to_csv('kfoldLightGBM.csv', index=False)"
      ],
      "execution_count": null,
      "outputs": []
    },
    {
      "cell_type": "code",
      "metadata": {
        "id": "LERXsQciZR30"
      },
      "source": [
        " from sklearn import preprocessing\n",
        " le=preprocessing.LabelEncoder()\n",
        " train['genre']=le.fit_transform(train['genre'])\n",
        " #fit_transform"
      ],
      "execution_count": null,
      "outputs": []
    },
    {
      "cell_type": "code",
      "metadata": {
        "colab": {
          "base_uri": "https://localhost:8080/"
        },
        "id": "LP_zHUSpZgLJ",
        "outputId": "a6a70878-6277-4bca-b35c-d82f0dbe7dd6"
      },
      "source": [
        "test['genre']"
      ],
      "execution_count": null,
      "outputs": [
        {
          "output_type": "execute_result",
          "data": {
            "text/plain": [
              "0       2\n",
              "1       5\n",
              "2       4\n",
              "3      10\n",
              "4       1\n",
              "       ..\n",
              "238     4\n",
              "239     3\n",
              "240     2\n",
              "241     4\n",
              "242     5\n",
              "Name: genre, Length: 243, dtype: int64"
            ]
          },
          "metadata": {
            "tags": []
          },
          "execution_count": 87
        }
      ]
    },
    {
      "cell_type": "code",
      "metadata": {
        "id": "jCyjetwzZhi6"
      },
      "source": [
        "test['genre'] = le.fit_transform(test['genre'])\n",
        "#transform 만함 fittransform 할 필요없음\n"
      ],
      "execution_count": null,
      "outputs": []
    },
    {
      "cell_type": "code",
      "metadata": {
        "id": "HSN7SN-VZzt4"
      },
      "source": [
        "features=['time','dir_prev_num', 'num_staff','num_actor','dir_prev_bfnum','genre']"
      ],
      "execution_count": null,
      "outputs": []
    },
    {
      "cell_type": "code",
      "metadata": {
        "id": "mNPuj2UtaEUW"
      },
      "source": [
        "X_train, X_test,Y_train=train[features], test[features], train[target]"
      ],
      "execution_count": null,
      "outputs": []
    },
    {
      "cell_type": "code",
      "metadata": {
        "colab": {
          "base_uri": "https://localhost:8080/"
        },
        "id": "ZN2wTrA9aMmB",
        "outputId": "f5278a55-de47-481a-9f7c-21f3ea7d46de"
      },
      "source": [
        "model =lgb.LGBMRegressor(random_state=777,n_estimators=1000)\n",
        "\n",
        "models=[]\n",
        "for train_idx, val_idx, in k_fold.split(X_train):\n",
        "  x_t = X_train.iloc[train_idx]\n",
        "  y_t = Y_train.iloc[train_idx]\n",
        "  x_val = X_train.iloc[val_idx]\n",
        "  y_val = Y_train.iloc[val_idx]\n",
        "\n",
        "  models.append(model.fit(x_t,y_t,eval_set=(x_val, y_val),early_stopping_rounds=100,verbose=100))\n",
        "  "
      ],
      "execution_count": null,
      "outputs": [
        {
          "output_type": "stream",
          "text": [
            "Training until validation scores don't improve for 100 rounds.\n",
            "[100]\tvalid_0's l2: 2.62067e+12\n",
            "Early stopping, best iteration is:\n",
            "[9]\tvalid_0's l2: 2.42668e+12\n",
            "Training until validation scores don't improve for 100 rounds.\n",
            "[100]\tvalid_0's l2: 4.39227e+12\n",
            "Early stopping, best iteration is:\n",
            "[23]\tvalid_0's l2: 3.97173e+12\n",
            "Training until validation scores don't improve for 100 rounds.\n",
            "[100]\tvalid_0's l2: 3.29841e+12\n",
            "Early stopping, best iteration is:\n",
            "[10]\tvalid_0's l2: 2.53643e+12\n",
            "Training until validation scores don't improve for 100 rounds.\n",
            "[100]\tvalid_0's l2: 1.56499e+12\n",
            "Early stopping, best iteration is:\n",
            "[16]\tvalid_0's l2: 1.21201e+12\n",
            "Training until validation scores don't improve for 100 rounds.\n",
            "[100]\tvalid_0's l2: 1.60118e+12\n",
            "Early stopping, best iteration is:\n",
            "[29]\tvalid_0's l2: 1.47528e+12\n"
          ],
          "name": "stdout"
        }
      ]
    },
    {
      "cell_type": "code",
      "metadata": {
        "colab": {
          "base_uri": "https://localhost:8080/"
        },
        "id": "cV_R84v_aaQW",
        "outputId": "b58b3066-4817-433d-d536-ba0172429f41"
      },
      "source": [
        "preds=[]\n",
        "for model in models:\n",
        "  preds.append(model.predict(X_test))\n",
        "len(preds)"
      ],
      "execution_count": null,
      "outputs": [
        {
          "output_type": "execute_result",
          "data": {
            "text/plain": [
              "5"
            ]
          },
          "metadata": {
            "tags": []
          },
          "execution_count": 95
        }
      ]
    },
    {
      "cell_type": "code",
      "metadata": {
        "colab": {
          "base_uri": "https://localhost:8080/",
          "height": 408
        },
        "id": "kHifVrhtag6d",
        "outputId": "f970009b-22c9-405e-c55f-fa6f6c44f6c1"
      },
      "source": [
        "X_test"
      ],
      "execution_count": null,
      "outputs": [
        {
          "output_type": "execute_result",
          "data": {
            "text/html": [
              "<div>\n",
              "<style scoped>\n",
              "    .dataframe tbody tr th:only-of-type {\n",
              "        vertical-align: middle;\n",
              "    }\n",
              "\n",
              "    .dataframe tbody tr th {\n",
              "        vertical-align: top;\n",
              "    }\n",
              "\n",
              "    .dataframe thead th {\n",
              "        text-align: right;\n",
              "    }\n",
              "</style>\n",
              "<table border=\"1\" class=\"dataframe\">\n",
              "  <thead>\n",
              "    <tr style=\"text-align: right;\">\n",
              "      <th></th>\n",
              "      <th>time</th>\n",
              "      <th>dir_prev_num</th>\n",
              "      <th>num_staff</th>\n",
              "      <th>num_actor</th>\n",
              "      <th>dir_prev_bfnum</th>\n",
              "      <th>genre</th>\n",
              "    </tr>\n",
              "  </thead>\n",
              "  <tbody>\n",
              "    <tr>\n",
              "      <th>0</th>\n",
              "      <td>125</td>\n",
              "      <td>2</td>\n",
              "      <td>304</td>\n",
              "      <td>3</td>\n",
              "      <td>3.005290e+05</td>\n",
              "      <td>느와르</td>\n",
              "    </tr>\n",
              "    <tr>\n",
              "      <th>1</th>\n",
              "      <td>113</td>\n",
              "      <td>4</td>\n",
              "      <td>275</td>\n",
              "      <td>3</td>\n",
              "      <td>3.427002e+05</td>\n",
              "      <td>멜로/로맨스</td>\n",
              "    </tr>\n",
              "    <tr>\n",
              "      <th>2</th>\n",
              "      <td>115</td>\n",
              "      <td>3</td>\n",
              "      <td>419</td>\n",
              "      <td>7</td>\n",
              "      <td>4.206611e+06</td>\n",
              "      <td>드라마</td>\n",
              "    </tr>\n",
              "    <tr>\n",
              "      <th>3</th>\n",
              "      <td>116</td>\n",
              "      <td>2</td>\n",
              "      <td>408</td>\n",
              "      <td>2</td>\n",
              "      <td>6.913420e+05</td>\n",
              "      <td>액션</td>\n",
              "    </tr>\n",
              "    <tr>\n",
              "      <th>4</th>\n",
              "      <td>110</td>\n",
              "      <td>1</td>\n",
              "      <td>380</td>\n",
              "      <td>1</td>\n",
              "      <td>3.173800e+04</td>\n",
              "      <td>공포</td>\n",
              "    </tr>\n",
              "    <tr>\n",
              "      <th>...</th>\n",
              "      <td>...</td>\n",
              "      <td>...</td>\n",
              "      <td>...</td>\n",
              "      <td>...</td>\n",
              "      <td>...</td>\n",
              "      <td>...</td>\n",
              "    </tr>\n",
              "    <tr>\n",
              "      <th>238</th>\n",
              "      <td>78</td>\n",
              "      <td>1</td>\n",
              "      <td>4</td>\n",
              "      <td>4</td>\n",
              "      <td>2.590000e+03</td>\n",
              "      <td>드라마</td>\n",
              "    </tr>\n",
              "    <tr>\n",
              "      <th>239</th>\n",
              "      <td>86</td>\n",
              "      <td>0</td>\n",
              "      <td>18</td>\n",
              "      <td>2</td>\n",
              "      <td>0.000000e+00</td>\n",
              "      <td>다큐멘터리</td>\n",
              "    </tr>\n",
              "    <tr>\n",
              "      <th>240</th>\n",
              "      <td>107</td>\n",
              "      <td>0</td>\n",
              "      <td>224</td>\n",
              "      <td>4</td>\n",
              "      <td>0.000000e+00</td>\n",
              "      <td>느와르</td>\n",
              "    </tr>\n",
              "    <tr>\n",
              "      <th>241</th>\n",
              "      <td>102</td>\n",
              "      <td>1</td>\n",
              "      <td>68</td>\n",
              "      <td>7</td>\n",
              "      <td>5.069900e+04</td>\n",
              "      <td>드라마</td>\n",
              "    </tr>\n",
              "    <tr>\n",
              "      <th>242</th>\n",
              "      <td>76</td>\n",
              "      <td>0</td>\n",
              "      <td>10</td>\n",
              "      <td>4</td>\n",
              "      <td>0.000000e+00</td>\n",
              "      <td>멜로/로맨스</td>\n",
              "    </tr>\n",
              "  </tbody>\n",
              "</table>\n",
              "<p>243 rows × 6 columns</p>\n",
              "</div>"
            ],
            "text/plain": [
              "     time  dir_prev_num  num_staff  num_actor  dir_prev_bfnum   genre\n",
              "0     125             2        304          3    3.005290e+05     느와르\n",
              "1     113             4        275          3    3.427002e+05  멜로/로맨스\n",
              "2     115             3        419          7    4.206611e+06     드라마\n",
              "3     116             2        408          2    6.913420e+05      액션\n",
              "4     110             1        380          1    3.173800e+04      공포\n",
              "..    ...           ...        ...        ...             ...     ...\n",
              "238    78             1          4          4    2.590000e+03     드라마\n",
              "239    86             0         18          2    0.000000e+00   다큐멘터리\n",
              "240   107             0        224          4    0.000000e+00     느와르\n",
              "241   102             1         68          7    5.069900e+04     드라마\n",
              "242    76             0         10          4    0.000000e+00  멜로/로맨스\n",
              "\n",
              "[243 rows x 6 columns]"
            ]
          },
          "metadata": {
            "tags": []
          },
          "execution_count": 73
        }
      ]
    },
    {
      "cell_type": "code",
      "metadata": {
        "colab": {
          "base_uri": "https://localhost:8080/",
          "height": 200
        },
        "id": "dPMogOaaaipY",
        "outputId": "eeb15c4f-b793-4d62-901f-079825a73eb2"
      },
      "source": [
        "X_test.head()"
      ],
      "execution_count": null,
      "outputs": [
        {
          "output_type": "execute_result",
          "data": {
            "text/html": [
              "<div>\n",
              "<style scoped>\n",
              "    .dataframe tbody tr th:only-of-type {\n",
              "        vertical-align: middle;\n",
              "    }\n",
              "\n",
              "    .dataframe tbody tr th {\n",
              "        vertical-align: top;\n",
              "    }\n",
              "\n",
              "    .dataframe thead th {\n",
              "        text-align: right;\n",
              "    }\n",
              "</style>\n",
              "<table border=\"1\" class=\"dataframe\">\n",
              "  <thead>\n",
              "    <tr style=\"text-align: right;\">\n",
              "      <th></th>\n",
              "      <th>time</th>\n",
              "      <th>dir_prev_num</th>\n",
              "      <th>num_staff</th>\n",
              "      <th>num_actor</th>\n",
              "      <th>dir_prev_bfnum</th>\n",
              "      <th>genre</th>\n",
              "    </tr>\n",
              "  </thead>\n",
              "  <tbody>\n",
              "    <tr>\n",
              "      <th>0</th>\n",
              "      <td>125</td>\n",
              "      <td>2</td>\n",
              "      <td>304</td>\n",
              "      <td>3</td>\n",
              "      <td>3.005290e+05</td>\n",
              "      <td>2</td>\n",
              "    </tr>\n",
              "    <tr>\n",
              "      <th>1</th>\n",
              "      <td>113</td>\n",
              "      <td>4</td>\n",
              "      <td>275</td>\n",
              "      <td>3</td>\n",
              "      <td>3.427002e+05</td>\n",
              "      <td>5</td>\n",
              "    </tr>\n",
              "    <tr>\n",
              "      <th>2</th>\n",
              "      <td>115</td>\n",
              "      <td>3</td>\n",
              "      <td>419</td>\n",
              "      <td>7</td>\n",
              "      <td>4.206611e+06</td>\n",
              "      <td>4</td>\n",
              "    </tr>\n",
              "    <tr>\n",
              "      <th>3</th>\n",
              "      <td>116</td>\n",
              "      <td>2</td>\n",
              "      <td>408</td>\n",
              "      <td>2</td>\n",
              "      <td>6.913420e+05</td>\n",
              "      <td>10</td>\n",
              "    </tr>\n",
              "    <tr>\n",
              "      <th>4</th>\n",
              "      <td>110</td>\n",
              "      <td>1</td>\n",
              "      <td>380</td>\n",
              "      <td>1</td>\n",
              "      <td>3.173800e+04</td>\n",
              "      <td>1</td>\n",
              "    </tr>\n",
              "  </tbody>\n",
              "</table>\n",
              "</div>"
            ],
            "text/plain": [
              "   time  dir_prev_num  num_staff  num_actor  dir_prev_bfnum  genre\n",
              "0   125             2        304          3    3.005290e+05      2\n",
              "1   113             4        275          3    3.427002e+05      5\n",
              "2   115             3        419          7    4.206611e+06      4\n",
              "3   116             2        408          2    6.913420e+05     10\n",
              "4   110             1        380          1    3.173800e+04      1"
            ]
          },
          "metadata": {
            "tags": []
          },
          "execution_count": 94
        }
      ]
    },
    {
      "cell_type": "code",
      "metadata": {
        "id": "wd-cAzEQbqAC"
      },
      "source": [
        "feLightGBM=submission.copy()"
      ],
      "execution_count": null,
      "outputs": []
    },
    {
      "cell_type": "code",
      "metadata": {
        "id": "cdnkeHGUbznV"
      },
      "source": [
        "feLightGBM['box_off_num']=np.mean(preds, axis=0)"
      ],
      "execution_count": null,
      "outputs": []
    },
    {
      "cell_type": "code",
      "metadata": {
        "id": "wbJn3OFib7cn"
      },
      "source": [
        "feLightGBM.to_csv('feLightGBM.csv',index =False)"
      ],
      "execution_count": null,
      "outputs": []
    },
    {
      "cell_type": "code",
      "metadata": {
        "id": "uCIz6A9NcCXJ"
      },
      "source": [
        ""
      ],
      "execution_count": null,
      "outputs": []
    }
  ]
}