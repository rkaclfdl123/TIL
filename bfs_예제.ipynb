{
  "nbformat": 4,
  "nbformat_minor": 0,
  "metadata": {
    "colab": {
      "name": "bfs 예제.ipynb",
      "provenance": [],
      "authorship_tag": "ABX9TyPIU0zUmhRuKzgQFvb91eZk",
      "include_colab_link": true
    },
    "kernelspec": {
      "name": "python3",
      "display_name": "Python 3"
    },
    "language_info": {
      "name": "python"
    }
  },
  "cells": [
    {
      "cell_type": "markdown",
      "metadata": {
        "id": "view-in-github",
        "colab_type": "text"
      },
      "source": [
        "<a href=\"https://colab.research.google.com/github/rkaclfdl123/TIL/blob/master/bfs_%EC%98%88%EC%A0%9C.ipynb\" target=\"_parent\"><img src=\"https://colab.research.google.com/assets/colab-badge.svg\" alt=\"Open In Colab\"/></a>"
      ]
    },
    {
      "cell_type": "code",
      "metadata": {
        "colab": {
          "base_uri": "https://localhost:8080/"
        },
        "id": "R_NsLSSvEK7-",
        "outputId": "919c6a58-22e5-4d7e-bcf1-22bef0f31b89"
      },
      "source": [
        "from collections import deque\n",
        "def bfs(graph, start, visited):\n",
        "    queue = deque([start])\n",
        "    visited[start] = True\n",
        "    while queue:\n",
        "        v = queue.popleft()\n",
        "        print(v)\n",
        "        for i in graph[v]:\n",
        "            if not visited[i]:\n",
        "                queue.append(i)\n",
        "                visited[i] = True\n",
        "graph = [\n",
        "  [],\n",
        "  [2, 3, 8],\n",
        "  [1, 7],\n",
        "  [1, 4, 5],\n",
        "  [3, 5],\n",
        "  [3, 4],\n",
        "  [7],\n",
        "  [2, 6, 8],\n",
        "  [1, 7]\n",
        "]\n",
        "visited = [False] * 9\n",
        "bfs(graph, 1, visited)"
      ],
      "execution_count": 4,
      "outputs": [
        {
          "output_type": "stream",
          "text": [
            "1\n",
            "2\n",
            "3\n",
            "8\n",
            "7\n",
            "4\n",
            "5\n",
            "6\n"
          ],
          "name": "stdout"
        }
      ]
    }
  ]
}