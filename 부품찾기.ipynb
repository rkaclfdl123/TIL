{
  "nbformat": 4,
  "nbformat_minor": 0,
  "metadata": {
    "colab": {
      "name": "부품찾기.ipynb",
      "provenance": [],
      "authorship_tag": "ABX9TyMMmYoVB9PpelBkVaJgiLY3",
      "include_colab_link": true
    },
    "kernelspec": {
      "name": "python3",
      "display_name": "Python 3"
    },
    "language_info": {
      "name": "python"
    }
  },
  "cells": [
    {
      "cell_type": "markdown",
      "metadata": {
        "id": "view-in-github",
        "colab_type": "text"
      },
      "source": [
        "<a href=\"https://colab.research.google.com/github/rkaclfdl123/TIL/blob/master/%EB%B6%80%ED%92%88%EC%B0%BE%EA%B8%B0.ipynb\" target=\"_parent\"><img src=\"https://colab.research.google.com/assets/colab-badge.svg\" alt=\"Open In Colab\"/></a>"
      ]
    },
    {
      "cell_type": "code",
      "metadata": {
        "colab": {
          "base_uri": "https://localhost:8080/"
        },
        "id": "RBKkvw2zEWYG",
        "outputId": "c9a938e0-1c81-4259-9ecc-26e1c2751e7e"
      },
      "source": [
        "# 이진 탐색 소스코드 구현 (반복문)\n",
        "def binary_search(array, target, start, end):\n",
        "    while start <= end:\n",
        "        mid = (start + end) // 2\n",
        "        # 찾은 경우 중간점 인덱스 반환\n",
        "        if array[mid] == target:\n",
        "            return mid\n",
        "        # 중간점의 값보다 찾고자 하는 값이 작은 경우 왼쪽 확인\n",
        "        elif array[mid] > target:\n",
        "            end = mid - 1\n",
        "        # 중간점의 값보다 찾고자 하는 값이 작은 경우 오른쪽 확인\n",
        "        else:\n",
        "            start = mid + 1\n",
        "    return None\n",
        "\n",
        "# N(가게의 부품 개수) 입력\n",
        "n = int(input())\n",
        "# 가게에 있는 전체 부품 번호를 공백을 기준으로 구분하여 입력\n",
        "array = list(map(int, input().split()))\n",
        "array.sort() # 이진 탐색을 수행하기 위해 사전에 정렬 수행\n",
        "# M(손님이 확인 요청한 부품 개수) 입력\n",
        "m = int(input())\n",
        "# 손님이 확인 요청한 전체 부품 번호를 공백을 기준으로 구분하여 입력\n",
        "x = list(map(int, input().split()))\n",
        "\n",
        "# 손님이 확인 요청한 부품 번호를 하나씩 확인\n",
        "for i in x:\n",
        "    # 해당 부품이 존재하는지 확인\n",
        "    result = binary_search(array, i, 0, n - 1)\n",
        "    if result != None:\n",
        "        print('yes', end=' ')\n",
        "    else:\n",
        "        print('no', end=' ')"
      ],
      "execution_count": 1,
      "outputs": [
        {
          "output_type": "stream",
          "text": [
            "5\n",
            "30 20 10 50 60\n",
            "3\n",
            "30 20 10\n",
            "yes yes yes "
          ],
          "name": "stdout"
        }
      ]
    }
  ]
}