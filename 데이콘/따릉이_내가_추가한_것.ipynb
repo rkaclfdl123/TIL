{
  "nbformat": 4,
  "nbformat_minor": 0,
  "metadata": {
    "colab": {
      "name": "따릉이 내가 추가한 것.ipynb",
      "provenance": [],
      "authorship_tag": "ABX9TyP3Swwf6xGIFEesaLqWwEze",
      "include_colab_link": true
    },
    "kernelspec": {
      "name": "python3",
      "display_name": "Python 3"
    },
    "language_info": {
      "name": "python"
    }
  },
  "cells": [
    {
      "cell_type": "markdown",
      "metadata": {
        "id": "view-in-github",
        "colab_type": "text"
      },
      "source": [
        "<a href=\"https://colab.research.google.com/github/rkaclfdl123/TIL/blob/master/%EB%94%B0%EB%A6%89%EC%9D%B4_%EB%82%B4%EA%B0%80_%EC%B6%94%EA%B0%80%ED%95%9C_%EA%B2%83.ipynb\" target=\"_parent\"><img src=\"https://colab.research.google.com/assets/colab-badge.svg\" alt=\"Open In Colab\"/></a>"
      ]
    },
    {
      "cell_type": "code",
      "metadata": {
        "id": "Qu9clGcXeita"
      },
      "source": [
        "import pandas as pd #판다스 패키지 불러오기\n",
        "from sklearn.tree import DecisionTreeRegressor\n",
        "from sklearn.ensemble import RandomForestRegressor #랜덤 포레스트 불러오기"
      ],
      "execution_count": 8,
      "outputs": []
    },
    {
      "cell_type": "code",
      "metadata": {
        "id": "ejRt-SGNekX0"
      },
      "source": [
        "# 데이터 불러오기\n",
        "# 모델 학습 파일\n",
        "train = pd.read_csv('/train.csv')\n",
        "# 모델 시험지 파일\n",
        "test = pd.read_csv('/test.csv')\n",
        "#답안지 파일 \n",
        "submission= pd.read_csv('//submission.csv')"
      ],
      "execution_count": 9,
      "outputs": []
    },
    {
      "cell_type": "code",
      "metadata": {
        "colab": {
          "base_uri": "https://localhost:8080/"
        },
        "id": "ZnDO48zleyOh",
        "outputId": "282b7e23-272b-4b74-e1d9-eb30675ee2b6"
      },
      "source": [
        "train.info()"
      ],
      "execution_count": 10,
      "outputs": [
        {
          "output_type": "stream",
          "text": [
            "<class 'pandas.core.frame.DataFrame'>\n",
            "RangeIndex: 1459 entries, 0 to 1458\n",
            "Data columns (total 11 columns):\n",
            " #   Column                  Non-Null Count  Dtype  \n",
            "---  ------                  --------------  -----  \n",
            " 0   id                      1459 non-null   int64  \n",
            " 1   hour                    1459 non-null   int64  \n",
            " 2   hour_bef_temperature    1457 non-null   float64\n",
            " 3   hour_bef_precipitation  1457 non-null   float64\n",
            " 4   hour_bef_windspeed      1450 non-null   float64\n",
            " 5   hour_bef_humidity       1457 non-null   float64\n",
            " 6   hour_bef_visibility     1457 non-null   float64\n",
            " 7   hour_bef_ozone          1383 non-null   float64\n",
            " 8   hour_bef_pm10           1369 non-null   float64\n",
            " 9   hour_bef_pm2.5          1342 non-null   float64\n",
            " 10  count                   1459 non-null   float64\n",
            "dtypes: float64(9), int64(2)\n",
            "memory usage: 125.5 KB\n"
          ],
          "name": "stdout"
        }
      ]
    },
    {
      "cell_type": "code",
      "metadata": {
        "colab": {
          "base_uri": "https://localhost:8080/",
          "height": 290
        },
        "id": "UmbERqlVe-R7",
        "outputId": "a2f08231-7b85-45ca-9a25-692b8d6ff214"
      },
      "source": [
        "train.describe()"
      ],
      "execution_count": 11,
      "outputs": [
        {
          "output_type": "execute_result",
          "data": {
            "text/html": [
              "<div>\n",
              "<style scoped>\n",
              "    .dataframe tbody tr th:only-of-type {\n",
              "        vertical-align: middle;\n",
              "    }\n",
              "\n",
              "    .dataframe tbody tr th {\n",
              "        vertical-align: top;\n",
              "    }\n",
              "\n",
              "    .dataframe thead th {\n",
              "        text-align: right;\n",
              "    }\n",
              "</style>\n",
              "<table border=\"1\" class=\"dataframe\">\n",
              "  <thead>\n",
              "    <tr style=\"text-align: right;\">\n",
              "      <th></th>\n",
              "      <th>id</th>\n",
              "      <th>hour</th>\n",
              "      <th>hour_bef_temperature</th>\n",
              "      <th>hour_bef_precipitation</th>\n",
              "      <th>hour_bef_windspeed</th>\n",
              "      <th>hour_bef_humidity</th>\n",
              "      <th>hour_bef_visibility</th>\n",
              "      <th>hour_bef_ozone</th>\n",
              "      <th>hour_bef_pm10</th>\n",
              "      <th>hour_bef_pm2.5</th>\n",
              "      <th>count</th>\n",
              "    </tr>\n",
              "  </thead>\n",
              "  <tbody>\n",
              "    <tr>\n",
              "      <th>count</th>\n",
              "      <td>1459.000000</td>\n",
              "      <td>1459.000000</td>\n",
              "      <td>1457.000000</td>\n",
              "      <td>1457.000000</td>\n",
              "      <td>1450.000000</td>\n",
              "      <td>1457.000000</td>\n",
              "      <td>1457.000000</td>\n",
              "      <td>1383.000000</td>\n",
              "      <td>1369.000000</td>\n",
              "      <td>1342.000000</td>\n",
              "      <td>1459.000000</td>\n",
              "    </tr>\n",
              "    <tr>\n",
              "      <th>mean</th>\n",
              "      <td>1105.914325</td>\n",
              "      <td>11.493489</td>\n",
              "      <td>16.717433</td>\n",
              "      <td>0.031572</td>\n",
              "      <td>2.479034</td>\n",
              "      <td>52.231297</td>\n",
              "      <td>1405.216884</td>\n",
              "      <td>0.039149</td>\n",
              "      <td>57.168736</td>\n",
              "      <td>30.327124</td>\n",
              "      <td>108.563400</td>\n",
              "    </tr>\n",
              "    <tr>\n",
              "      <th>std</th>\n",
              "      <td>631.338681</td>\n",
              "      <td>6.922790</td>\n",
              "      <td>5.239150</td>\n",
              "      <td>0.174917</td>\n",
              "      <td>1.378265</td>\n",
              "      <td>20.370387</td>\n",
              "      <td>583.131708</td>\n",
              "      <td>0.019509</td>\n",
              "      <td>31.771019</td>\n",
              "      <td>14.713252</td>\n",
              "      <td>82.631733</td>\n",
              "    </tr>\n",
              "    <tr>\n",
              "      <th>min</th>\n",
              "      <td>3.000000</td>\n",
              "      <td>0.000000</td>\n",
              "      <td>3.100000</td>\n",
              "      <td>0.000000</td>\n",
              "      <td>0.000000</td>\n",
              "      <td>7.000000</td>\n",
              "      <td>78.000000</td>\n",
              "      <td>0.003000</td>\n",
              "      <td>9.000000</td>\n",
              "      <td>8.000000</td>\n",
              "      <td>1.000000</td>\n",
              "    </tr>\n",
              "    <tr>\n",
              "      <th>25%</th>\n",
              "      <td>555.500000</td>\n",
              "      <td>5.500000</td>\n",
              "      <td>12.800000</td>\n",
              "      <td>0.000000</td>\n",
              "      <td>1.400000</td>\n",
              "      <td>36.000000</td>\n",
              "      <td>879.000000</td>\n",
              "      <td>0.025500</td>\n",
              "      <td>36.000000</td>\n",
              "      <td>20.000000</td>\n",
              "      <td>37.000000</td>\n",
              "    </tr>\n",
              "    <tr>\n",
              "      <th>50%</th>\n",
              "      <td>1115.000000</td>\n",
              "      <td>11.000000</td>\n",
              "      <td>16.600000</td>\n",
              "      <td>0.000000</td>\n",
              "      <td>2.300000</td>\n",
              "      <td>51.000000</td>\n",
              "      <td>1577.000000</td>\n",
              "      <td>0.039000</td>\n",
              "      <td>51.000000</td>\n",
              "      <td>26.000000</td>\n",
              "      <td>96.000000</td>\n",
              "    </tr>\n",
              "    <tr>\n",
              "      <th>75%</th>\n",
              "      <td>1651.000000</td>\n",
              "      <td>17.500000</td>\n",
              "      <td>20.100000</td>\n",
              "      <td>0.000000</td>\n",
              "      <td>3.400000</td>\n",
              "      <td>69.000000</td>\n",
              "      <td>1994.000000</td>\n",
              "      <td>0.052000</td>\n",
              "      <td>69.000000</td>\n",
              "      <td>37.000000</td>\n",
              "      <td>150.000000</td>\n",
              "    </tr>\n",
              "    <tr>\n",
              "      <th>max</th>\n",
              "      <td>2179.000000</td>\n",
              "      <td>23.000000</td>\n",
              "      <td>30.000000</td>\n",
              "      <td>1.000000</td>\n",
              "      <td>8.000000</td>\n",
              "      <td>99.000000</td>\n",
              "      <td>2000.000000</td>\n",
              "      <td>0.125000</td>\n",
              "      <td>269.000000</td>\n",
              "      <td>90.000000</td>\n",
              "      <td>431.000000</td>\n",
              "    </tr>\n",
              "  </tbody>\n",
              "</table>\n",
              "</div>"
            ],
            "text/plain": [
              "                id         hour  ...  hour_bef_pm2.5        count\n",
              "count  1459.000000  1459.000000  ...     1342.000000  1459.000000\n",
              "mean   1105.914325    11.493489  ...       30.327124   108.563400\n",
              "std     631.338681     6.922790  ...       14.713252    82.631733\n",
              "min       3.000000     0.000000  ...        8.000000     1.000000\n",
              "25%     555.500000     5.500000  ...       20.000000    37.000000\n",
              "50%    1115.000000    11.000000  ...       26.000000    96.000000\n",
              "75%    1651.000000    17.500000  ...       37.000000   150.000000\n",
              "max    2179.000000    23.000000  ...       90.000000   431.000000\n",
              "\n",
              "[8 rows x 11 columns]"
            ]
          },
          "metadata": {
            "tags": []
          },
          "execution_count": 11
        }
      ]
    },
    {
      "cell_type": "code",
      "metadata": {
        "colab": {
          "base_uri": "https://localhost:8080/",
          "height": 296
        },
        "id": "MUoJQtR5fHe_",
        "outputId": "96138df4-0ef3-4dc7-a3b4-14440ae1483c"
      },
      "source": [
        "train.groupby('hour').mean()['count'].plot()"
      ],
      "execution_count": 12,
      "outputs": [
        {
          "output_type": "execute_result",
          "data": {
            "text/plain": [
              "<matplotlib.axes._subplots.AxesSubplot at 0x7fe98bbc0510>"
            ]
          },
          "metadata": {
            "tags": []
          },
          "execution_count": 12
        },
        {
          "output_type": "display_data",
          "data": {
            "image/png": "[encoded data removed]",
            "text/plain": [
              "<Figure size 432x288 with 1 Axes>"
            ]
          },
          "metadata": {
            "tags": [],
            "needs_background": "light"
          }
        }
      ]
    },
    {
      "cell_type": "code",
      "metadata": {
        "id": "HAsTEqvsfN7x"
      },
      "source": [
        "import seaborn as sns\n",
        "import matplotlib.pyplot as plt\n"
      ],
      "execution_count": 13,
      "outputs": []
    },
    {
      "cell_type": "code",
      "metadata": {
        "id": "cDTyYYEKfl_u"
      },
      "source": [
        ""
      ],
      "execution_count": 13,
      "outputs": []
    },
    {
      "cell_type": "code",
      "metadata": {
        "colab": {
          "base_uri": "https://localhost:8080/",
          "height": 381
        },
        "id": "Tsg7uyniffCu",
        "outputId": "083842db-4f92-47cc-8999-41420eccb0b9"
      },
      "source": [
        "train.corr()"
      ],
      "execution_count": 14,
      "outputs": [
        {
          "output_type": "execute_result",
          "data": {
            "text/html": [
              "<div>\n",
              "<style scoped>\n",
              "    .dataframe tbody tr th:only-of-type {\n",
              "        vertical-align: middle;\n",
              "    }\n",
              "\n",
              "    .dataframe tbody tr th {\n",
              "        vertical-align: top;\n",
              "    }\n",
              "\n",
              "    .dataframe thead th {\n",
              "        text-align: right;\n",
              "    }\n",
              "</style>\n",
              "<table border=\"1\" class=\"dataframe\">\n",
              "  <thead>\n",
              "    <tr style=\"text-align: right;\">\n",
              "      <th></th>\n",
              "      <th>id</th>\n",
              "      <th>hour</th>\n",
              "      <th>hour_bef_temperature</th>\n",
              "      <th>hour_bef_precipitation</th>\n",
              "      <th>hour_bef_windspeed</th>\n",
              "      <th>hour_bef_humidity</th>\n",
              "      <th>hour_bef_visibility</th>\n",
              "      <th>hour_bef_ozone</th>\n",
              "      <th>hour_bef_pm10</th>\n",
              "      <th>hour_bef_pm2.5</th>\n",
              "      <th>count</th>\n",
              "    </tr>\n",
              "  </thead>\n",
              "  <tbody>\n",
              "    <tr>\n",
              "      <th>id</th>\n",
              "      <td>1.000000</td>\n",
              "      <td>-0.010901</td>\n",
              "      <td>-0.000029</td>\n",
              "      <td>-0.056267</td>\n",
              "      <td>-0.003353</td>\n",
              "      <td>-0.017948</td>\n",
              "      <td>0.008950</td>\n",
              "      <td>0.055234</td>\n",
              "      <td>-0.025510</td>\n",
              "      <td>0.003545</td>\n",
              "      <td>-0.002131</td>\n",
              "    </tr>\n",
              "    <tr>\n",
              "      <th>hour</th>\n",
              "      <td>-0.010901</td>\n",
              "      <td>1.000000</td>\n",
              "      <td>0.407306</td>\n",
              "      <td>0.021646</td>\n",
              "      <td>0.462797</td>\n",
              "      <td>-0.329612</td>\n",
              "      <td>0.176491</td>\n",
              "      <td>0.390188</td>\n",
              "      <td>-0.035907</td>\n",
              "      <td>-0.061229</td>\n",
              "      <td>0.626047</td>\n",
              "    </tr>\n",
              "    <tr>\n",
              "      <th>hour_bef_temperature</th>\n",
              "      <td>-0.000029</td>\n",
              "      <td>0.407306</td>\n",
              "      <td>1.000000</td>\n",
              "      <td>-0.097056</td>\n",
              "      <td>0.375618</td>\n",
              "      <td>-0.496088</td>\n",
              "      <td>0.197417</td>\n",
              "      <td>0.541228</td>\n",
              "      <td>-0.003830</td>\n",
              "      <td>-0.078665</td>\n",
              "      <td>0.619404</td>\n",
              "    </tr>\n",
              "    <tr>\n",
              "      <th>hour_bef_precipitation</th>\n",
              "      <td>-0.056267</td>\n",
              "      <td>0.021646</td>\n",
              "      <td>-0.097056</td>\n",
              "      <td>1.000000</td>\n",
              "      <td>0.022746</td>\n",
              "      <td>0.276481</td>\n",
              "      <td>-0.217155</td>\n",
              "      <td>-0.062461</td>\n",
              "      <td>-0.051266</td>\n",
              "      <td>0.004742</td>\n",
              "      <td>-0.163985</td>\n",
              "    </tr>\n",
              "    <tr>\n",
              "      <th>hour_bef_windspeed</th>\n",
              "      <td>-0.003353</td>\n",
              "      <td>0.462797</td>\n",
              "      <td>0.375618</td>\n",
              "      <td>0.022746</td>\n",
              "      <td>1.000000</td>\n",
              "      <td>-0.433012</td>\n",
              "      <td>0.252092</td>\n",
              "      <td>0.520526</td>\n",
              "      <td>0.010176</td>\n",
              "      <td>-0.199113</td>\n",
              "      <td>0.459906</td>\n",
              "    </tr>\n",
              "    <tr>\n",
              "      <th>hour_bef_humidity</th>\n",
              "      <td>-0.017948</td>\n",
              "      <td>-0.329612</td>\n",
              "      <td>-0.496088</td>\n",
              "      <td>0.276481</td>\n",
              "      <td>-0.433012</td>\n",
              "      <td>1.000000</td>\n",
              "      <td>-0.592244</td>\n",
              "      <td>-0.421047</td>\n",
              "      <td>-0.108106</td>\n",
              "      <td>0.167736</td>\n",
              "      <td>-0.471142</td>\n",
              "    </tr>\n",
              "    <tr>\n",
              "      <th>hour_bef_visibility</th>\n",
              "      <td>0.008950</td>\n",
              "      <td>0.176491</td>\n",
              "      <td>0.197417</td>\n",
              "      <td>-0.217155</td>\n",
              "      <td>0.252092</td>\n",
              "      <td>-0.592244</td>\n",
              "      <td>1.000000</td>\n",
              "      <td>0.101899</td>\n",
              "      <td>-0.403277</td>\n",
              "      <td>-0.644989</td>\n",
              "      <td>0.299094</td>\n",
              "    </tr>\n",
              "    <tr>\n",
              "      <th>hour_bef_ozone</th>\n",
              "      <td>0.055234</td>\n",
              "      <td>0.390188</td>\n",
              "      <td>0.541228</td>\n",
              "      <td>-0.062461</td>\n",
              "      <td>0.520526</td>\n",
              "      <td>-0.421047</td>\n",
              "      <td>0.101899</td>\n",
              "      <td>1.000000</td>\n",
              "      <td>0.113015</td>\n",
              "      <td>0.017313</td>\n",
              "      <td>0.477614</td>\n",
              "    </tr>\n",
              "    <tr>\n",
              "      <th>hour_bef_pm10</th>\n",
              "      <td>-0.025510</td>\n",
              "      <td>-0.035907</td>\n",
              "      <td>-0.003830</td>\n",
              "      <td>-0.051266</td>\n",
              "      <td>0.010176</td>\n",
              "      <td>-0.108106</td>\n",
              "      <td>-0.403277</td>\n",
              "      <td>0.113015</td>\n",
              "      <td>1.000000</td>\n",
              "      <td>0.489558</td>\n",
              "      <td>-0.114288</td>\n",
              "    </tr>\n",
              "    <tr>\n",
              "      <th>hour_bef_pm2.5</th>\n",
              "      <td>0.003545</td>\n",
              "      <td>-0.061229</td>\n",
              "      <td>-0.078665</td>\n",
              "      <td>0.004742</td>\n",
              "      <td>-0.199113</td>\n",
              "      <td>0.167736</td>\n",
              "      <td>-0.644989</td>\n",
              "      <td>0.017313</td>\n",
              "      <td>0.489558</td>\n",
              "      <td>1.000000</td>\n",
              "      <td>-0.134293</td>\n",
              "    </tr>\n",
              "    <tr>\n",
              "      <th>count</th>\n",
              "      <td>-0.002131</td>\n",
              "      <td>0.626047</td>\n",
              "      <td>0.619404</td>\n",
              "      <td>-0.163985</td>\n",
              "      <td>0.459906</td>\n",
              "      <td>-0.471142</td>\n",
              "      <td>0.299094</td>\n",
              "      <td>0.477614</td>\n",
              "      <td>-0.114288</td>\n",
              "      <td>-0.134293</td>\n",
              "      <td>1.000000</td>\n",
              "    </tr>\n",
              "  </tbody>\n",
              "</table>\n",
              "</div>"
            ],
            "text/plain": [
              "                              id      hour  ...  hour_bef_pm2.5     count\n",
              "id                      1.000000 -0.010901  ...        0.003545 -0.002131\n",
              "hour                   -0.010901  1.000000  ...       -0.061229  0.626047\n",
              "hour_bef_temperature   -0.000029  0.407306  ...       -0.078665  0.619404\n",
              "hour_bef_precipitation -0.056267  0.021646  ...        0.004742 -0.163985\n",
              "hour_bef_windspeed     -0.003353  0.462797  ...       -0.199113  0.459906\n",
              "hour_bef_humidity      -0.017948 -0.329612  ...        0.167736 -0.471142\n",
              "hour_bef_visibility     0.008950  0.176491  ...       -0.644989  0.299094\n",
              "hour_bef_ozone          0.055234  0.390188  ...        0.017313  0.477614\n",
              "hour_bef_pm10          -0.025510 -0.035907  ...        0.489558 -0.114288\n",
              "hour_bef_pm2.5          0.003545 -0.061229  ...        1.000000 -0.134293\n",
              "count                  -0.002131  0.626047  ...       -0.134293  1.000000\n",
              "\n",
              "[11 rows x 11 columns]"
            ]
          },
          "metadata": {
            "tags": []
          },
          "execution_count": 14
        }
      ]
    },
    {
      "cell_type": "code",
      "metadata": {
        "colab": {
          "base_uri": "https://localhost:8080/",
          "height": 715
        },
        "id": "WI3RmJOcfgNB",
        "outputId": "78910564-37e0-474d-bba7-1b26ce1032ab"
      },
      "source": [
        "plt.figure(figsize=(10,10))\n",
        "sns.heatmap(train.corr(),annot = True)"
      ],
      "execution_count": 15,
      "outputs": [
        {
          "output_type": "execute_result",
          "data": {
            "text/plain": [
              "<matplotlib.axes._subplots.AxesSubplot at 0x7fe98adde190>"
            ]
          },
          "metadata": {
            "tags": []
          },
          "execution_count": 15
        },
        {
          "output_type": "display_data",
          "data": {
            "image/png": "[encoded data removed]",
            "text/plain": [
              "<Figure size 720x720 with 2 Axes>"
            ]
          },
          "metadata": {
            "tags": [],
            "needs_background": "light"
          }
        }
      ]
    },
    {
      "cell_type": "code",
      "metadata": {
        "colab": {
          "base_uri": "https://localhost:8080/"
        },
        "id": "ekAEuooBfkaJ",
        "outputId": "80d0eb76-2b1e-41ed-c6b2-fb066bfe40dd"
      },
      "source": [
        "train.isna().sum()"
      ],
      "execution_count": 35,
      "outputs": [
        {
          "output_type": "execute_result",
          "data": {
            "text/plain": [
              "id                          0\n",
              "hour                        0\n",
              "hour_bef_temperature        0\n",
              "hour_bef_precipitation      2\n",
              "hour_bef_windspeed          0\n",
              "hour_bef_humidity           2\n",
              "hour_bef_visibility         2\n",
              "hour_bef_ozone              0\n",
              "hour_bef_pm10              90\n",
              "hour_bef_pm2.5            117\n",
              "count                       0\n",
              "dtype: int64"
            ]
          },
          "metadata": {
            "tags": []
          },
          "execution_count": 35
        }
      ]
    },
    {
      "cell_type": "code",
      "metadata": {
        "colab": {
          "base_uri": "https://localhost:8080/"
        },
        "id": "MIcx7SpmRWAj",
        "outputId": "2c8304fd-d9c5-4b11-91c8-8e05dda10bfc"
      },
      "source": [
        "test.isna().sum()"
      ],
      "execution_count": 50,
      "outputs": [
        {
          "output_type": "execute_result",
          "data": {
            "text/plain": [
              "id                         0\n",
              "hour                       0\n",
              "hour_bef_temperature       0\n",
              "hour_bef_precipitation     1\n",
              "hour_bef_windspeed         1\n",
              "hour_bef_humidity          1\n",
              "hour_bef_visibility        1\n",
              "hour_bef_ozone             0\n",
              "hour_bef_pm10             37\n",
              "hour_bef_pm2.5            36\n",
              "dtype: int64"
            ]
          },
          "metadata": {
            "tags": []
          },
          "execution_count": 50
        }
      ]
    },
    {
      "cell_type": "code",
      "metadata": {
        "colab": {
          "base_uri": "https://localhost:8080/",
          "height": 296
        },
        "id": "2X_fxs5sf6rw",
        "outputId": "0b7504d6-58ac-47d9-b4ec-2da1eb009998"
      },
      "source": [
        "train.groupby('hour').mean()['hour_bef_ozone'].plot()\n",
        "plt.axhline(train.groupby('hour').mean()['hour_bef_ozone'].mean())"
      ],
      "execution_count": 17,
      "outputs": [
        {
          "output_type": "execute_result",
          "data": {
            "text/plain": [
              "<matplotlib.lines.Line2D at 0x7fe98bc20f50>"
            ]
          },
          "metadata": {
            "tags": []
          },
          "execution_count": 17
        },
        {
          "output_type": "display_data",
          "data": {
            "image/png": "[encoded data removed]",
            "text/plain": [
              "<Figure size 432x288 with 1 Axes>"
            ]
          },
          "metadata": {
            "tags": [],
            "needs_background": "light"
          }
        }
      ]
    },
    {
      "cell_type": "code",
      "metadata": {
        "id": "avRhyv_uhFNj"
      },
      "source": [
        "test['hour_bef_temperature'].fillna(19.704918, inplace=True)\n",
        "test['hour_bef_windspeed'].fillna(3.595082, inplace =True)"
      ],
      "execution_count": 51,
      "outputs": []
    },
    {
      "cell_type": "code",
      "metadata": {
        "id": "pzI-T1bbRlvI"
      },
      "source": [
        "test['hour_bef_ozone'].fillna(0.03918029921448087, inplace =True)"
      ],
      "execution_count": 40,
      "outputs": []
    },
    {
      "cell_type": "code",
      "metadata": {
        "id": "MSP0mGuERmtp"
      },
      "source": [
        ""
      ],
      "execution_count": null,
      "outputs": []
    },
    {
      "cell_type": "markdown",
      "metadata": {
        "id": "lBVf9D_qRf1Y"
      },
      "source": [
        ""
      ]
    },
    {
      "cell_type": "markdown",
      "metadata": {
        "id": "C_Np9BM9RKxB"
      },
      "source": [
        ""
      ]
    },
    {
      "cell_type": "code",
      "metadata": {
        "colab": {
          "base_uri": "https://localhost:8080/"
        },
        "id": "iCJTX8_Yo7a-",
        "outputId": "fa02aa7f-d439-454d-bacf-ad20d8087a21"
      },
      "source": [
        "train.groupby('hour').mean()['hour_bef_ozone'].mean()"
      ],
      "execution_count": 39,
      "outputs": [
        {
          "output_type": "execute_result",
          "data": {
            "text/plain": [
              "0.03918029921448087"
            ]
          },
          "metadata": {
            "tags": []
          },
          "execution_count": 39
        }
      ]
    },
    {
      "cell_type": "code",
      "metadata": {
        "colab": {
          "base_uri": "https://localhost:8080/",
          "height": 48
        },
        "id": "C0v7e86Io9Kp",
        "outputId": "f41ba7e2-4fab-4c05-f89d-f3be8f5f3be7"
      },
      "source": [
        "train[train['hour_bef_ozone'].isna()]\n"
      ],
      "execution_count": 34,
      "outputs": [
        {
          "output_type": "execute_result",
          "data": {
            "text/html": [
              "<div>\n",
              "<style scoped>\n",
              "    .dataframe tbody tr th:only-of-type {\n",
              "        vertical-align: middle;\n",
              "    }\n",
              "\n",
              "    .dataframe tbody tr th {\n",
              "        vertical-align: top;\n",
              "    }\n",
              "\n",
              "    .dataframe thead th {\n",
              "        text-align: right;\n",
              "    }\n",
              "</style>\n",
              "<table border=\"1\" class=\"dataframe\">\n",
              "  <thead>\n",
              "    <tr style=\"text-align: right;\">\n",
              "      <th></th>\n",
              "      <th>id</th>\n",
              "      <th>hour</th>\n",
              "      <th>hour_bef_temperature</th>\n",
              "      <th>hour_bef_precipitation</th>\n",
              "      <th>hour_bef_windspeed</th>\n",
              "      <th>hour_bef_humidity</th>\n",
              "      <th>hour_bef_visibility</th>\n",
              "      <th>hour_bef_ozone</th>\n",
              "      <th>hour_bef_pm10</th>\n",
              "      <th>hour_bef_pm2.5</th>\n",
              "      <th>count</th>\n",
              "    </tr>\n",
              "  </thead>\n",
              "  <tbody>\n",
              "  </tbody>\n",
              "</table>\n",
              "</div>"
            ],
            "text/plain": [
              "Empty DataFrame\n",
              "Columns: [id, hour, hour_bef_temperature, hour_bef_precipitation, hour_bef_windspeed, hour_bef_humidity, hour_bef_visibility, hour_bef_ozone, hour_bef_pm10, hour_bef_pm2.5, count]\n",
              "Index: []"
            ]
          },
          "metadata": {
            "tags": []
          },
          "execution_count": 34
        }
      ]
    },
    {
      "cell_type": "code",
      "metadata": {
        "id": "MTn9s6-kpges"
      },
      "source": [
        "train['hour_bef_ozone'].fillna((0.039149), inplace=True)"
      ],
      "execution_count": 24,
      "outputs": []
    },
    {
      "cell_type": "code",
      "metadata": {
        "colab": {
          "base_uri": "https://localhost:8080/"
        },
        "id": "cYx8cmfZqEKQ",
        "outputId": "756c0bc4-4323-4b2a-c128-d84bc6f0fa04"
      },
      "source": [
        "train[train['hour_bef_ozone'].isna()].index"
      ],
      "execution_count": 25,
      "outputs": [
        {
          "output_type": "execute_result",
          "data": {
            "text/plain": [
              "Int64Index([], dtype='int64')"
            ]
          },
          "metadata": {
            "tags": []
          },
          "execution_count": 25
        }
      ]
    },
    {
      "cell_type": "code",
      "metadata": {
        "id": "OR0arFTXqVRG"
      },
      "source": [
        "train['hour_bef_temperature'].fillna({934:14.788136,1035:20.926667},inplace= True)"
      ],
      "execution_count": 26,
      "outputs": []
    },
    {
      "cell_type": "code",
      "metadata": {
        "id": "JcKbxfkOQvgH"
      },
      "source": [
        "train['hour_bef_windspeed'].fillna({18:3.281356, 244:1.836667, 260:1.620000\n",
        ", 376:1.965517, 780:3.278333, 934:1.965517, 1035:3.838333, 1138:2.766667, 1229:1.633333},inplace= True)"
      ],
      "execution_count": 28,
      "outputs": []
    },
    {
      "cell_type": "code",
      "metadata": {
        "id": "GuOLp0GzQ1II"
      },
      "source": [
        "features=['hour','hour_bef_temperature', 'hour_bef_windspeed','hour_bef_ozone']\n",
        "X_train=train[features]\n",
        "Y_train=train['count']\n",
        "X_test=test[features]"
      ],
      "execution_count": 52,
      "outputs": []
    },
    {
      "cell_type": "code",
      "metadata": {
        "id": "XYHwhj9gQ8Ek"
      },
      "source": [
        "model100 = RandomForestRegressor(n_estimators=100, random_state=0)\n",
        "model100_5 = RandomForestRegressor(n_estimators=100,max_depth=5 ,random_state=0)\n",
        "model200= RandomForestRegressor(n_estimators=200)\n",
        "#여러개의 나무들에게 각자 결정을 시키고\n",
        "#가장 많이 나온 결정을 채택??!? "
      ],
      "execution_count": 53,
      "outputs": []
    },
    {
      "cell_type": "code",
      "metadata": {
        "colab": {
          "base_uri": "https://localhost:8080/"
        },
        "id": "IXKn0aKzRDuE",
        "outputId": "7dfa7785-2063-49f9-e5e3-48bb1a1aac50"
      },
      "source": [
        "model100.fit(X_train,Y_train)\n",
        "model100_5.fit(X_train,Y_train)\n",
        "model200.fit(X_train,Y_train)"
      ],
      "execution_count": 54,
      "outputs": [
        {
          "output_type": "execute_result",
          "data": {
            "text/plain": [
              "RandomForestRegressor(bootstrap=True, ccp_alpha=0.0, criterion='mse',\n",
              "                      max_depth=None, max_features='auto', max_leaf_nodes=None,\n",
              "                      max_samples=None, min_impurity_decrease=0.0,\n",
              "                      min_impurity_split=None, min_samples_leaf=1,\n",
              "                      min_samples_split=2, min_weight_fraction_leaf=0.0,\n",
              "                      n_estimators=200, n_jobs=None, oob_score=False,\n",
              "                      random_state=None, verbose=0, warm_start=False)"
            ]
          },
          "metadata": {
            "tags": []
          },
          "execution_count": 54
        }
      ]
    },
    {
      "cell_type": "code",
      "metadata": {
        "id": "7b6FEkCxRGAl"
      },
      "source": [
        "ypred1=model100.predict(X_test)\n",
        "ypred2=model100_5.predict(X_test)\n",
        "ypred3=model200.predict(X_test)"
      ],
      "execution_count": 55,
      "outputs": []
    },
    {
      "cell_type": "code",
      "metadata": {
        "id": "HDGwflEJSTt6"
      },
      "source": [
        "submission['count']=ypred1\n",
        "submission.to_csv('ozone+model100.csv',index =False)"
      ],
      "execution_count": 56,
      "outputs": []
    },
    {
      "cell_type": "code",
      "metadata": {
        "id": "-9RwEyHnSYTU"
      },
      "source": [
        "submission['count']=ypred2\n",
        "submission.to_csv('ozone+model100_5.csv',index =False)"
      ],
      "execution_count": 57,
      "outputs": []
    },
    {
      "cell_type": "code",
      "metadata": {
        "id": "HGtqbjo9SaN8"
      },
      "source": [
        "submission['count']=ypred3\n",
        "submission.to_csv('ozone+model200.csv',index =False)"
      ],
      "execution_count": 58,
      "outputs": []
    }
  ]
}