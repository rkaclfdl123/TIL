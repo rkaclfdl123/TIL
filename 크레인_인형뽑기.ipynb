{
  "nbformat": 4,
  "nbformat_minor": 0,
  "metadata": {
    "colab": {
      "name": "크레인 인형뽑기.ipynb",
      "provenance": [],
      "authorship_tag": "ABX9TyNWLdqwFjz4k+tiFutdI5/q",
      "include_colab_link": true
    },
    "kernelspec": {
      "name": "python3",
      "display_name": "Python 3"
    },
    "language_info": {
      "name": "python"
    }
  },
  "cells": [
    {
      "cell_type": "markdown",
      "metadata": {
        "id": "view-in-github",
        "colab_type": "text"
      },
      "source": [
        "<a href=\"https://colab.research.google.com/github/rkaclfdl123/TIL/blob/master/%ED%81%AC%EB%A0%88%EC%9D%B8_%EC%9D%B8%ED%98%95%EB%BD%91%EA%B8%B0.ipynb\" target=\"_parent\"><img src=\"https://colab.research.google.com/assets/colab-badge.svg\" alt=\"Open In Colab\"/></a>"
      ]
    },
    {
      "cell_type": "code",
      "metadata": {
        "colab": {
          "base_uri": "https://localhost:8080/"
        },
        "id": "-zK3Baar2Y5t",
        "outputId": "beb16db6-1e56-42ab-b839-6273e1afb737"
      },
      "source": [
        "\n",
        "def solution(board, moves):\n",
        "    stacklist = []\n",
        "    answer = 0\n",
        "\n",
        "    for i in moves:\n",
        "        for j in range(len(board)):\n",
        "            if board[j][i-1] != 0:\n",
        "                stacklist.append(board[j][i-1])\n",
        "                board[j][i-1] = 0\n",
        "\n",
        "                if len(stacklist) > 1:\n",
        "                    if stacklist[-1] == stacklist[-2]:\n",
        "                        stacklist.pop(-1)\n",
        "                        stacklist.pop(-1)\n",
        "                        answer += 2     \n",
        "                break\n",
        "\n",
        "    return answer\n",
        "solution([[0,0,0,0,0],[0,0,1,0,3],[0,2,5,0,1],[4,2,4,4,2],[3,5,1,3,1]],[1,5,3,5,1,2,1,4])"
      ],
      "execution_count": 9,
      "outputs": [
        {
          "output_type": "execute_result",
          "data": {
            "text/plain": [
              "4"
            ]
          },
          "metadata": {},
          "execution_count": 9
        }
      ]
    }
  ]
}