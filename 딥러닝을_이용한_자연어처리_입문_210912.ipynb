{
  "nbformat": 4,
  "nbformat_minor": 0,
  "metadata": {
    "colab": {
      "name": "딥러닝을 이용한 자연어처리 입문 210912.ipynb",
      "provenance": [],
      "authorship_tag": "ABX9TyMr95dT8EHVmrnB9+afUpRW",
      "include_colab_link": true
    },
    "kernelspec": {
      "name": "python3",
      "display_name": "Python 3"
    },
    "language_info": {
      "name": "python"
    }
  },
  "cells": [
    {
      "cell_type": "markdown",
      "metadata": {
        "id": "view-in-github",
        "colab_type": "text"
      },
      "source": [
        "<a href=\"https://colab.research.google.com/github/rkaclfdl123/TIL/blob/master/%EB%94%A5%EB%9F%AC%EB%8B%9D%EC%9D%84_%EC%9D%B4%EC%9A%A9%ED%95%9C_%EC%9E%90%EC%97%B0%EC%96%B4%EC%B2%98%EB%A6%AC_%EC%9E%85%EB%AC%B8_210912.ipynb\" target=\"_parent\"><img src=\"https://colab.research.google.com/assets/colab-badge.svg\" alt=\"Open In Colab\"/></a>"
      ]
    },
    {
      "cell_type": "markdown",
      "metadata": {
        "id": "OO0S0dmSs1eF"
      },
      "source": [
        "###판다스는 데이터 처리를 위한 라이브러리\n",
        "###파이썬을 이용하는 곳에서는 필수\n",
        "###판다스의 시리즈는 1차원의 값 인덱스와 값으로 구성\n",
        "### 판다스의 데이터 프레임은 인덱스 값 열(column) 까지 총 3개 "
      ]
    },
    {
      "cell_type": "code",
      "metadata": {
        "id": "qPF19HEMsSqq"
      },
      "source": [
        "       A  B  C\n",
        "one    1  2  3\n",
        "two    4  5  6\n",
        "three  7  8  9"
      ],
      "execution_count": null,
      "outputs": []
    },
    {
      "cell_type": "markdown",
      "metadata": {
        "id": "tdufkJFYs8Aa"
      },
      "source": [
        "### one two three 가 인덱스\n",
        "### ABC 가 열 (column)\n",
        "### 123 456 789 가 Value (값)"
      ]
    },
    {
      "cell_type": "markdown",
      "metadata": {
        "id": "1wgMcMvNtAk3"
      },
      "source": [
        "###데이터 프레임은 리스트로 생성할 수 도있고 딕셔너리로 생성할 수 도 있음\n"
      ]
    },
    {
      "cell_type": "markdown",
      "metadata": {
        "id": "fd-K_GYItEZ7"
      },
      "source": [
        "###(Matplotlib)\n",
        "###데이터를 차트나 플롯으로 시각화 하는 패키지"
      ]
    }
  ]
}