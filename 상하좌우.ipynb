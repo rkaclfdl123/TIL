{
  "nbformat": 4,
  "nbformat_minor": 0,
  "metadata": {
    "colab": {
      "name": "상하좌우.ipynb",
      "provenance": [],
      "authorship_tag": "ABX9TyPkKHMiktRQjZuXL+askLFp",
      "include_colab_link": true
    },
    "kernelspec": {
      "name": "python3",
      "display_name": "Python 3"
    },
    "language_info": {
      "name": "python"
    }
  },
  "cells": [
    {
      "cell_type": "markdown",
      "metadata": {
        "id": "view-in-github",
        "colab_type": "text"
      },
      "source": [
        "<a href=\"https://colab.research.google.com/github/rkaclfdl123/TIL/blob/master/%EC%83%81%ED%95%98%EC%A2%8C%EC%9A%B0.ipynb\" target=\"_parent\"><img src=\"https://colab.research.google.com/assets/colab-badge.svg\" alt=\"Open In Colab\"/></a>"
      ]
    },
    {
      "cell_type": "code",
      "metadata": {
        "colab": {
          "base_uri": "https://localhost:8080/"
        },
        "id": "nDxx8fhr0BC4",
        "outputId": "61fd7c6d-b078-46a6-c67e-0d6f7cbe4d37"
      },
      "source": [
        "#이코테 다시 풀어보기\n",
        "#상하좌우\n",
        "\n",
        "num=int(input())\n",
        "movelist=list(input().split())\n",
        "#movelist=[\"R\",\"R\",\"R\",\"U\",\"D\",\"D\"]\n",
        "x=1\n",
        "y=1\n",
        "for i in movelist:\n",
        "     if  (x<1 or y<1 or x>num or y >num):\n",
        "        break\n",
        "    \n",
        "     elif (x >=1 and y>=1 and x<=num and y<=num):\n",
        "        if i == \"R\" and y+1<num:\n",
        "            y+=1\n",
        "        elif i ==\"L\" and y-1>1:\n",
        "            y-=1\n",
        "        elif i ==\"U\" and x-1>1:\n",
        "            x-=1\n",
        "        elif i ==\"D\" and x+1<num:\n",
        "            x+=1\n",
        "        else:\n",
        "            pass\n",
        "    \n",
        "     else:\n",
        "        print(\"error\")\n",
        "\n",
        "print(x,y)\n",
        "    "
      ],
      "execution_count": 2,
      "outputs": [
        {
          "output_type": "stream",
          "text": [
            "5\n",
            "R R R U D D\n"
          ],
          "name": "stdout"
        }
      ]
    },
    {
      "cell_type": "code",
      "metadata": {
        "colab": {
          "base_uri": "https://localhost:8080/"
        },
        "id": "tUKthdvK1TKs",
        "outputId": "5328536d-17b4-416e-8da9-dba71c8a25d9"
      },
      "source": [
        ""
      ],
      "execution_count": 12,
      "outputs": [
        {
          "output_type": "stream",
          "text": [
            "1 2\n",
            "1 3\n",
            "1 4\n",
            "2 4\n",
            "3 4\n",
            "3 4\n"
          ],
          "name": "stdout"
        }
      ]
    }
  ]
}