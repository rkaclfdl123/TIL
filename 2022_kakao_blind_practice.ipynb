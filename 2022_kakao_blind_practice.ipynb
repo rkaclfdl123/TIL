{
  "nbformat": 4,
  "nbformat_minor": 0,
  "metadata": {
    "colab": {
      "name": "2022 kakao blind practice.ipynb",
      "provenance": [],
      "authorship_tag": "ABX9TyNc5YYUTjtHnPU5VwgsCdpB",
      "include_colab_link": true
    },
    "kernelspec": {
      "name": "python3",
      "display_name": "Python 3"
    },
    "language_info": {
      "name": "python"
    }
  },
  "cells": [
    {
      "cell_type": "markdown",
      "metadata": {
        "id": "view-in-github",
        "colab_type": "text"
      },
      "source": [
        "<a href=\"https://colab.research.google.com/github/rkaclfdl123/TIL/blob/master/2022_kakao_blind_practice.ipynb\" target=\"_parent\"><img src=\"https://colab.research.google.com/assets/colab-badge.svg\" alt=\"Open In Colab\"/></a>"
      ]
    },
    {
      "cell_type": "code",
      "metadata": {
        "id": "k74ycXfmZO1H"
      },
      "source": [
        "id_list=[\"muzi\", \"frodo\", \"apeach\", \"neo\"]\n",
        "report=[\"muzi frodo\",\"apeach frodo\",\"frodo neo\",\"muzi neo\",\"apeach muzi\"]\n",
        "k=2\n",
        "report2=[\"ryan con\", \"ryan con\", \"ryan con\", \"ryan con\"]"
      ],
      "execution_count": 115,
      "outputs": []
    },
    {
      "cell_type": "code",
      "metadata": {
        "colab": {
          "base_uri": "https://localhost:8080/"
        },
        "id": "f9szsWgPmk6B",
        "outputId": "c6dd828c-8790-460d-93b6-eeaf6b988baa"
      },
      "source": [
        "print(set(report2))"
      ],
      "execution_count": 116,
      "outputs": [
        {
          "output_type": "stream",
          "name": "stdout",
          "text": [
            "{'ryan con'}\n"
          ]
        }
      ]
    },
    {
      "cell_type": "code",
      "metadata": {
        "id": "fo3g786BaYYE"
      },
      "source": [
        "new_reporter=[]\n",
        "new_reported=[]\n",
        "new_report={}\n",
        "report=set(report)\n",
        "for i in report:\n",
        "    reporter,reported=i.split(' ')\n",
        "    #print(reporter)\n",
        "    new_reporter.append(reporter)\n",
        "    new_reported.append(reported)\n",
        "    #new_report[reporter] = reported"
      ],
      "execution_count": 44,
      "outputs": []
    },
    {
      "cell_type": "code",
      "metadata": {
        "colab": {
          "base_uri": "https://localhost:8080/"
        },
        "id": "DzO6M2ZZaYZ2",
        "outputId": "0da3a5e9-d5ef-419a-c4a8-187cb9ac68a2"
      },
      "source": [
        "print(new_reporter)\n",
        "print(new_reported)"
      ],
      "execution_count": 45,
      "outputs": [
        {
          "output_type": "stream",
          "name": "stdout",
          "text": [
            "['muzi', 'apeach', 'frodo', 'muzi', 'apeach']\n",
            "['frodo', 'frodo', 'neo', 'neo', 'muzi']\n"
          ]
        }
      ]
    },
    {
      "cell_type": "code",
      "metadata": {
        "id": "4betiHlMcKLa"
      },
      "source": [
        "count_reported=[]\n",
        "for i in new_reported:\n",
        "    count_new_reported=new_reported.count(i)\n",
        "    count_reported.append([i,count_new_reported])\n",
        "\n"
      ],
      "execution_count": 49,
      "outputs": []
    },
    {
      "cell_type": "code",
      "metadata": {
        "colab": {
          "base_uri": "https://localhost:8080/"
        },
        "id": "XGKXe866hz3K",
        "outputId": "77ac37e3-bd7d-486a-8360-1004c822035d"
      },
      "source": [
        "count_reported"
      ],
      "execution_count": 76,
      "outputs": [
        {
          "output_type": "execute_result",
          "data": {
            "text/plain": [
              "[['frodo', 2], ['frodo', 2], ['neo', 2], ['neo', 2], ['muzi', 1]]"
            ]
          },
          "metadata": {},
          "execution_count": 76
        }
      ]
    },
    {
      "cell_type": "code",
      "metadata": {
        "id": "NaLKLgZtinT1"
      },
      "source": [
        "result1=[]\n",
        "for value in count_reported:\n",
        "     if value not in result1:\n",
        "      result1.append(value)\n",
        "\n"
      ],
      "execution_count": 109,
      "outputs": []
    },
    {
      "cell_type": "code",
      "metadata": {
        "colab": {
          "base_uri": "https://localhost:8080/"
        },
        "id": "qPFozeuyi3oN",
        "outputId": "02e7a9ef-5710-4809-c274-136e0b9381b6"
      },
      "source": [
        "result1"
      ],
      "execution_count": 110,
      "outputs": [
        {
          "output_type": "execute_result",
          "data": {
            "text/plain": [
              "[['frodo', 2], ['neo', 2], ['muzi', 1]]"
            ]
          },
          "metadata": {},
          "execution_count": 110
        }
      ]
    },
    {
      "cell_type": "code",
      "metadata": {
        "colab": {
          "base_uri": "https://localhost:8080/"
        },
        "id": "g9vNju8if8tb",
        "outputId": "3c7c5249-4119-49c3-b218-14c8b57d18fb"
      },
      "source": [
        "result=[0]*len(id_list)\n",
        "result"
      ],
      "execution_count": 111,
      "outputs": [
        {
          "output_type": "execute_result",
          "data": {
            "text/plain": [
              "[0, 0, 0, 0]"
            ]
          },
          "metadata": {},
          "execution_count": 111
        }
      ]
    },
    {
      "cell_type": "code",
      "metadata": {
        "id": "LrbiqqxKf8xg"
      },
      "source": [
        "\n",
        "for j in id_list:\n",
        "    for i in range(len(new_reporter)):\n",
        "        if new_reporter[i]==j and count_reported[i][1] >=k:\n",
        "            result[id_list.index(j)]+=1\n",
        "            "
      ],
      "execution_count": 112,
      "outputs": []
    },
    {
      "cell_type": "code",
      "metadata": {
        "id": "Cs2inA-fkFc4"
      },
      "source": [
        ""
      ],
      "execution_count": null,
      "outputs": []
    },
    {
      "cell_type": "code",
      "metadata": {
        "colab": {
          "base_uri": "https://localhost:8080/"
        },
        "id": "8JqVJev6hPwJ",
        "outputId": "f7f52049-bbdd-43d2-894a-7aac76eabf12"
      },
      "source": [
        "print(result)"
      ],
      "execution_count": 113,
      "outputs": [
        {
          "output_type": "stream",
          "name": "stdout",
          "text": [
            "[2, 1, 1, 0]\n"
          ]
        }
      ]
    },
    {
      "cell_type": "code",
      "metadata": {
        "id": "hR4uZcoHhPyA"
      },
      "source": [
        ""
      ],
      "execution_count": null,
      "outputs": []
    },
    {
      "cell_type": "code",
      "metadata": {
        "id": "LyBN-nPHfF_y"
      },
      "source": [
        ""
      ],
      "execution_count": null,
      "outputs": []
    },
    {
      "cell_type": "code",
      "metadata": {
        "id": "hdoBQ4kDfGBq"
      },
      "source": [
        ""
      ],
      "execution_count": null,
      "outputs": []
    },
    {
      "cell_type": "code",
      "metadata": {
        "id": "10edYIFtfGDo"
      },
      "source": [
        ""
      ],
      "execution_count": null,
      "outputs": []
    },
    {
      "cell_type": "code",
      "metadata": {
        "id": "vevAUB5XfGF-"
      },
      "source": [
        ""
      ],
      "execution_count": null,
      "outputs": []
    },
    {
      "cell_type": "code",
      "metadata": {
        "id": "8jDZIDdGfGIL"
      },
      "source": [
        ""
      ],
      "execution_count": null,
      "outputs": []
    },
    {
      "cell_type": "code",
      "metadata": {
        "colab": {
          "base_uri": "https://localhost:8080/",
          "height": 141
        },
        "id": "HmKF28PCaYb5",
        "outputId": "b62f074b-3642-420e-c942-34b78760bf31"
      },
      "source": [
        "count_list=[]\n",
        "for i in range(id_list):\n",
        "    if new_report.get(i) in id_list:\n",
        "        count_list=[id_list. index(i)]+=1  "
      ],
      "execution_count": 36,
      "outputs": [
        {
          "output_type": "error",
          "ename": "SyntaxError",
          "evalue": "ignored",
          "traceback": [
            "\u001b[0;36m  File \u001b[0;32m\"<ipython-input-36-f58eb763ec96>\"\u001b[0;36m, line \u001b[0;32m2\u001b[0m\n\u001b[0;31m    if new_report.keys(i)\u001b[0m\n\u001b[0m                         ^\u001b[0m\n\u001b[0;31mSyntaxError\u001b[0m\u001b[0;31m:\u001b[0m invalid syntax\n"
          ]
        }
      ]
    },
    {
      "cell_type": "code",
      "metadata": {
        "colab": {
          "base_uri": "https://localhost:8080/",
          "height": 37
        },
        "id": "51tdaENqaYd5",
        "outputId": "7788d92c-5aa7-47c1-e51b-7a9026ca0222"
      },
      "source": [
        "new_report.get(\"muzi\")"
      ],
      "execution_count": 42,
      "outputs": [
        {
          "output_type": "execute_result",
          "data": {
            "application/vnd.google.colaboratory.intrinsic+json": {
              "type": "string"
            },
            "text/plain": [
              "'neo'"
            ]
          },
          "metadata": {},
          "execution_count": 42
        }
      ]
    },
    {
      "cell_type": "code",
      "metadata": {
        "colab": {
          "base_uri": "https://localhost:8080/"
        },
        "id": "haJsIfJgZXPC",
        "outputId": "7c5ccdaa-dafd-4f1a-dcd9-0bfd543c437f"
      },
      "source": [
        "for i in report:\n",
        "    print(report.count(i))"
      ],
      "execution_count": 10,
      "outputs": [
        {
          "output_type": "stream",
          "name": "stdout",
          "text": [
            "1\n",
            "1\n",
            "1\n",
            "1\n",
            "1\n"
          ]
        }
      ]
    },
    {
      "cell_type": "code",
      "metadata": {
        "id": "6zLmD8O5ZXRE"
      },
      "source": [
        ""
      ],
      "execution_count": null,
      "outputs": []
    },
    {
      "cell_type": "code",
      "metadata": {
        "colab": {
          "base_uri": "https://localhost:8080/",
          "height": 257
        },
        "id": "T9XHO3kbZXTw",
        "outputId": "fbd6e383-7b31-470e-d6d1-14de4816e75e"
      },
      "source": [
        "id_list=[\"muzi\", \"frodo\", \"apeach\", \"neo\"]\n",
        "report=[\"muzi frodo\",\"apeach frodo\",\"frodo neo\",\"muzi neo\",\"apeach muzi\"]\n",
        "k=2\n",
        "\n",
        "\n",
        "new_reporter=[]\n",
        "new_reported=[]\n",
        "count_reported=[]\n",
        "result1=[]\n",
        "result=[0]*len(id_list)\n",
        "\n",
        "report=set(report)\n",
        "for i in report:\n",
        "    reporter,reported=i.split(' ')\n",
        "    new_reporter.append(reporter)\n",
        "    new_reported.append(reported)\n",
        "\n",
        "\n",
        "for i in new_reported:\n",
        "    count_new_reported=new_reported.count(i)\n",
        "    count_reported.append([i,count_new_reported])\n",
        "\n",
        "\n",
        "for value in count_reported:\n",
        "     if value not in result1:\n",
        "      result1.append(value)\n",
        "\n",
        "\n",
        "for i in new_reported:\n",
        "    if new_reported.count(i) >=k:\n",
        "        result[id_list.index([new_reported[i]])]+=1\n",
        "        continue\n",
        "    \n",
        "\n",
        "print(result)"
      ],
      "execution_count": 162,
      "outputs": [
        {
          "output_type": "error",
          "ename": "TypeError",
          "evalue": "ignored",
          "traceback": [
            "\u001b[0;31m---------------------------------------------------------------------------\u001b[0m",
            "\u001b[0;31mTypeError\u001b[0m                                 Traceback (most recent call last)",
            "\u001b[0;32m<ipython-input-162-65c6f4bb32d0>\u001b[0m in \u001b[0;36m<module>\u001b[0;34m()\u001b[0m\n\u001b[1;32m     29\u001b[0m \u001b[0;32mfor\u001b[0m \u001b[0mi\u001b[0m \u001b[0;32min\u001b[0m \u001b[0mnew_reported\u001b[0m\u001b[0;34m:\u001b[0m\u001b[0;34m\u001b[0m\u001b[0;34m\u001b[0m\u001b[0m\n\u001b[1;32m     30\u001b[0m     \u001b[0;32mif\u001b[0m \u001b[0mnew_reported\u001b[0m\u001b[0;34m.\u001b[0m\u001b[0mcount\u001b[0m\u001b[0;34m(\u001b[0m\u001b[0mi\u001b[0m\u001b[0;34m)\u001b[0m \u001b[0;34m>=\u001b[0m\u001b[0mk\u001b[0m\u001b[0;34m:\u001b[0m\u001b[0;34m\u001b[0m\u001b[0;34m\u001b[0m\u001b[0m\n\u001b[0;32m---> 31\u001b[0;31m         \u001b[0mresult\u001b[0m\u001b[0;34m[\u001b[0m\u001b[0mid_list\u001b[0m\u001b[0;34m.\u001b[0m\u001b[0mindex\u001b[0m\u001b[0;34m(\u001b[0m\u001b[0;34m[\u001b[0m\u001b[0mnew_reported\u001b[0m\u001b[0;34m[\u001b[0m\u001b[0mi\u001b[0m\u001b[0;34m]\u001b[0m\u001b[0;34m]\u001b[0m\u001b[0;34m)\u001b[0m\u001b[0;34m]\u001b[0m\u001b[0;34m+=\u001b[0m\u001b[0;36m1\u001b[0m\u001b[0;34m\u001b[0m\u001b[0;34m\u001b[0m\u001b[0m\n\u001b[0m\u001b[1;32m     32\u001b[0m         \u001b[0;32mcontinue\u001b[0m\u001b[0;34m\u001b[0m\u001b[0;34m\u001b[0m\u001b[0m\n\u001b[1;32m     33\u001b[0m \u001b[0;34m\u001b[0m\u001b[0m\n",
            "\u001b[0;31mTypeError\u001b[0m: list indices must be integers or slices, not str"
          ]
        }
      ]
    },
    {
      "cell_type": "code",
      "metadata": {
        "id": "9ntNnJbuvVFs"
      },
      "source": [
        ""
      ],
      "execution_count": null,
      "outputs": []
    },
    {
      "cell_type": "code",
      "metadata": {
        "id": "t4BuCprsvVHu"
      },
      "source": [
        ""
      ],
      "execution_count": null,
      "outputs": []
    },
    {
      "cell_type": "code",
      "metadata": {
        "id": "QxVwXqmMvVL3"
      },
      "source": [
        ""
      ],
      "execution_count": null,
      "outputs": []
    },
    {
      "cell_type": "code",
      "metadata": {
        "colab": {
          "base_uri": "https://localhost:8080/"
        },
        "id": "-9wJ2WKns8j7",
        "outputId": "6711509f-fdd0-49fc-d60c-70423f069b59"
      },
      "source": [
        "result1"
      ],
      "execution_count": 144,
      "outputs": [
        {
          "output_type": "execute_result",
          "data": {
            "text/plain": [
              "[['frodo', 2], ['neo', 2], ['muzi', 1]]"
            ]
          },
          "metadata": {},
          "execution_count": 144
        }
      ]
    },
    {
      "cell_type": "code",
      "metadata": {
        "colab": {
          "base_uri": "https://localhost:8080/"
        },
        "id": "gqiO04FLt8Ds",
        "outputId": "56e3840b-aab4-4f7b-bd17-97bc6557522a"
      },
      "source": [
        "new_reported"
      ],
      "execution_count": 161,
      "outputs": [
        {
          "output_type": "execute_result",
          "data": {
            "text/plain": [
              "['frodo', 'frodo', 'neo', 'muzi', 'neo']"
            ]
          },
          "metadata": {},
          "execution_count": 161
        }
      ]
    },
    {
      "cell_type": "code",
      "metadata": {
        "colab": {
          "base_uri": "https://localhost:8080/"
        },
        "id": "D2UzCwLKZXV9",
        "outputId": "0c5c5fdb-0b6a-44c3-ace2-d64a92d81aa5"
      },
      "source": [
        "count_reported"
      ],
      "execution_count": 139,
      "outputs": [
        {
          "output_type": "execute_result",
          "data": {
            "text/plain": [
              "[['frodo', 2], ['frodo', 2], ['neo', 2], ['muzi', 1], ['neo', 2]]"
            ]
          },
          "metadata": {},
          "execution_count": 139
        }
      ]
    },
    {
      "cell_type": "code",
      "metadata": {
        "colab": {
          "base_uri": "https://localhost:8080/"
        },
        "id": "Lo4hLRiLZXYH",
        "outputId": "094d230e-b823-4126-c5fa-10cd967460ec"
      },
      "source": [
        "new_reporter\n"
      ],
      "execution_count": 155,
      "outputs": [
        {
          "output_type": "execute_result",
          "data": {
            "text/plain": [
              "['apeach', 'muzi', 'frodo', 'apeach', 'muzi']"
            ]
          },
          "metadata": {},
          "execution_count": 155
        }
      ]
    },
    {
      "cell_type": "code",
      "metadata": {
        "id": "Uy7pXfC7ZXcP"
      },
      "source": [
        "for j in id_list:\n",
        "    for i in range(len(set(new_reporter))):\n",
        "        if new_reporter[i]==j and result1[i][1] >=k:\n",
        "            result[id_list.index(j)]+=1"
      ],
      "execution_count": 127,
      "outputs": []
    },
    {
      "cell_type": "code",
      "metadata": {
        "colab": {
          "base_uri": "https://localhost:8080/"
        },
        "id": "tKTg7gI6ZXes",
        "outputId": "8bba2a48-0f77-42f1-d3fb-274ec1f8f0d0"
      },
      "source": [
        "result1"
      ],
      "execution_count": 132,
      "outputs": [
        {
          "output_type": "execute_result",
          "data": {
            "text/plain": [
              "[['frodo', 2], ['neo', 2], ['muzi', 1]]"
            ]
          },
          "metadata": {},
          "execution_count": 132
        }
      ]
    },
    {
      "cell_type": "code",
      "metadata": {
        "id": "Fs-QmDCFZXit"
      },
      "source": [
        "3 9 10 11 14 15 20 21"
      ],
      "execution_count": null,
      "outputs": []
    },
    {
      "cell_type": "code",
      "metadata": {
        "colab": {
          "base_uri": "https://localhost:8080/"
        },
        "id": "-CvSjYvpZXlS",
        "outputId": "1e33b89d-7927-4f77-e323-9cce276559d6"
      },
      "source": [
        "new_reporter"
      ],
      "execution_count": 126,
      "outputs": [
        {
          "output_type": "execute_result",
          "data": {
            "text/plain": [
              "['apeach', 'muzi', 'frodo', 'apeach', 'muzi']"
            ]
          },
          "metadata": {},
          "execution_count": 126
        }
      ]
    },
    {
      "cell_type": "code",
      "metadata": {
        "id": "VhxOZgXvvV72"
      },
      "source": [
        "def solution(id_list, report, k):\n",
        "    new_reporter=[]\n",
        "    new_reported=[]\n",
        "    count_reported=[]\n",
        "    result1=[]\n",
        "    result=[0]*len(id_list)\n",
        "    report=set(report)\n",
        "    for i in report:\n",
        "        reporter,reported=i.split(' ')\n",
        "        new_reporter.append(reporter)\n",
        "        new_reported.append(reported)\n",
        "\n",
        "    for i in new_reported:\n",
        "        count_new_reported=new_reported.count(i)\n",
        "        count_reported.append([i,count_new_reported])\n",
        "    for i in range(len(new_reporter)):\n",
        "        if count_reported[i][1] >=k:\n",
        "            result[id_list.index(new_reporter[i])]+=1\n",
        "            continue\n",
        "    return result"
      ],
      "execution_count": null,
      "outputs": []
    },
    {
      "cell_type": "code",
      "metadata": {
        "id": "PqoJbTY516Bj"
      },
      "source": [
        ""
      ],
      "execution_count": null,
      "outputs": []
    },
    {
      "cell_type": "code",
      "metadata": {
        "id": "3nUrA4C9vV-A"
      },
      "source": [
        "# 문제 2번"
      ],
      "execution_count": null,
      "outputs": []
    },
    {
      "cell_type": "code",
      "metadata": {
        "id": "7JfIcqK2vWAA"
      },
      "source": [
        "def divide(n,q):\n",
        "    rev_base= ' '\n",
        "\n",
        "    while n > 0:\n",
        "        n , mod = divmod(n,q)\n",
        "        rev_base += str(mod)\n",
        "\n",
        "    return rev_base[::-1]\n",
        "\n",
        "a=(divide(437674,3))\n"
      ],
      "execution_count": 337,
      "outputs": []
    },
    {
      "cell_type": "code",
      "metadata": {
        "colab": {
          "base_uri": "https://localhost:8080/"
        },
        "id": "6PX4MAW6BJ8e",
        "outputId": "b5e034b0-aa59-421b-dacd-2fc505cce6d9"
      },
      "source": [
        "b"
      ],
      "execution_count": 338,
      "outputs": [
        {
          "output_type": "execute_result",
          "data": {
            "text/plain": [
              "['211', 0, 0, 0, 0, 0, 0, 0, 0, 0, 0, 0, '2', '1', '1', '11 ']"
            ]
          },
          "metadata": {},
          "execution_count": 338
        }
      ]
    },
    {
      "cell_type": "code",
      "metadata": {
        "colab": {
          "base_uri": "https://localhost:8080/"
        },
        "id": "S9BhImK25paT",
        "outputId": "01f02ca3-3690-4d29-f736-8e3d53d54934"
      },
      "source": [
        "\n",
        "b=a.split(\"0\")\n",
        "print(a)\n",
        "for i in range(len(b)-1):\n",
        "    b.insert(i*2+1,\"0\")"
      ],
      "execution_count": 357,
      "outputs": [
        {
          "output_type": "stream",
          "name": "stdout",
          "text": [
            "211020101011 \n"
          ]
        }
      ]
    },
    {
      "cell_type": "code",
      "metadata": {
        "colab": {
          "base_uri": "https://localhost:8080/"
        },
        "id": "O_zFl2TDB02h",
        "outputId": "49a00a38-44f1-4424-e2ea-d5a82bf33726"
      },
      "source": [
        "b"
      ],
      "execution_count": 358,
      "outputs": [
        {
          "output_type": "execute_result",
          "data": {
            "text/plain": [
              "['211', '0', '2', '0', '1', '0', '1', '0', '11 ']"
            ]
          },
          "metadata": {},
          "execution_count": 358
        }
      ]
    },
    {
      "cell_type": "code",
      "metadata": {
        "colab": {
          "base_uri": "https://localhost:8080/"
        },
        "id": "QMn5q-UgvWCB",
        "outputId": "72361cd4-42eb-4189-ee40-b232433b3233"
      },
      "source": [
        "import re\n",
        "p = re.compile('[1-9+]')\n",
        "p.findall(a)\n",
        "# for i in a:\n",
        "#     print(p.findall(str(i)))"
      ],
      "execution_count": 295,
      "outputs": [
        {
          "output_type": "execute_result",
          "data": {
            "text/plain": [
              "['2', '1', '1', '2', '1', '1', '1', '1']"
            ]
          },
          "metadata": {},
          "execution_count": 295
        }
      ]
    },
    {
      "cell_type": "code",
      "metadata": {
        "id": "aGWPeOSLCfiD"
      },
      "source": [
        ""
      ],
      "execution_count": null,
      "outputs": []
    },
    {
      "cell_type": "code",
      "metadata": {
        "colab": {
          "base_uri": "https://localhost:8080/"
        },
        "id": "Q4an0NISAmlc",
        "outputId": "685e55f1-05d4-41d7-fbf0-1ad57587ef89"
      },
      "source": [
        "import math\n",
        "\n",
        "# 제곱근까지만 보고 소수를 판별하는 함수\n",
        "def is_prime_number(x):\n",
        "    if x==0 or 1:\n",
        "        return False\n",
        "    # 2부터 x의 제곱근까지의 모든 수를 확인하며\n",
        "    for i in range(2, int(math.sqrt(x))+1):\n",
        "        if x % i == 0:\n",
        "            return False\n",
        "    return True\n",
        "\n",
        "\n",
        "is_prime_number(1)"
      ],
      "execution_count": 411,
      "outputs": [
        {
          "output_type": "execute_result",
          "data": {
            "text/plain": [
              "False"
            ]
          },
          "metadata": {},
          "execution_count": 411
        }
      ]
    },
    {
      "cell_type": "code",
      "metadata": {
        "colab": {
          "base_uri": "https://localhost:8080/"
        },
        "id": "ntfz_Qo6D_sn",
        "outputId": "8a02c564-954a-4c2f-adb6-5c602ab81d1f"
      },
      "source": [
        "b"
      ],
      "execution_count": 415,
      "outputs": [
        {
          "output_type": "execute_result",
          "data": {
            "text/plain": [
              "['211', '0', '2', '0', '1', '0', '1', '0', '11 ']"
            ]
          },
          "metadata": {},
          "execution_count": 415
        }
      ]
    },
    {
      "cell_type": "code",
      "metadata": {
        "colab": {
          "base_uri": "https://localhost:8080/"
        },
        "id": "zv6-EtvcAmna",
        "outputId": "d64b281f-60d4-4f53-9245-4429349185e8"
      },
      "source": [
        "count=0\n",
        "\n",
        "for i in b:\n",
        "    print(\"이게\",int(i,3))\n",
        "    if is_prime_number(int(i,3))==True:\n",
        "        count+=1\n",
        "        \n",
        "print(count)"
      ],
      "execution_count": 414,
      "outputs": [
        {
          "output_type": "stream",
          "name": "stdout",
          "text": [
            "이게 22\n",
            "이게 0\n",
            "이게 2\n",
            "이게 0\n",
            "이게 1\n",
            "이게 0\n",
            "이게 1\n",
            "이게 0\n",
            "이게 4\n",
            "0\n"
          ]
        }
      ]
    },
    {
      "cell_type": "code",
      "metadata": {
        "colab": {
          "base_uri": "https://localhost:8080/"
        },
        "id": "qOkZwZrqAmpm",
        "outputId": "89847499-6774-4d75-feb5-ca79a3021bbd"
      },
      "source": [
        "int(\"211\",3)"
      ],
      "execution_count": 353,
      "outputs": [
        {
          "output_type": "execute_result",
          "data": {
            "text/plain": [
              "22"
            ]
          },
          "metadata": {},
          "execution_count": 353
        }
      ]
    },
    {
      "cell_type": "code",
      "metadata": {
        "colab": {
          "base_uri": "https://localhost:8080/"
        },
        "id": "2PJglx9oAmru",
        "outputId": "35bf46ad-ef64-4586-eb9f-bf401bd4e018"
      },
      "source": [
        ""
      ],
      "execution_count": 349,
      "outputs": [
        {
          "output_type": "execute_result",
          "data": {
            "text/plain": [
              "['211', 0, '2', 0, '1', 0, '1', 0, '11 ']"
            ]
          },
          "metadata": {},
          "execution_count": 349
        }
      ]
    }
  ]
}