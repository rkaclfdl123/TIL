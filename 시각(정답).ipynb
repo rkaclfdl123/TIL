{
  "nbformat": 4,
  "nbformat_minor": 0,
  "metadata": {
    "colab": {
      "name": "시각(정답).ipynb",
      "provenance": [],
      "authorship_tag": "ABX9TyO2Eb2xhsPTc2e57F8jXZ4P",
      "include_colab_link": true
    },
    "kernelspec": {
      "name": "python3",
      "display_name": "Python 3"
    },
    "language_info": {
      "name": "python"
    }
  },
  "cells": [
    {
      "cell_type": "markdown",
      "metadata": {
        "id": "view-in-github",
        "colab_type": "text"
      },
      "source": [
        "<a href=\"https://colab.research.google.com/github/rkaclfdl123/TIL/blob/master/%EC%8B%9C%EA%B0%81(%EC%A0%95%EB%8B%B5).ipynb\" target=\"_parent\"><img src=\"https://colab.research.google.com/assets/colab-badge.svg\" alt=\"Open In Colab\"/></a>"
      ]
    },
    {
      "cell_type": "code",
      "metadata": {
        "colab": {
          "base_uri": "https://localhost:8080/"
        },
        "id": "tUKthdvK1TKs",
        "outputId": "dac78c8f-c16a-4626-9500-208941a81a7e"
      },
      "source": [
        "# H를 입력받기\n",
        "h = int(input())\n",
        "\n",
        "count = 0\n",
        "for i in range(h + 1):\n",
        "    for j in range(60):\n",
        "        for k in range(60):\n",
        "            # 매 시각 안에 '3'이 포함되어 있다면 카운트 증가\n",
        "            if '3' in str(i) + str(j) + str(k):\n",
        "                count += 1\n",
        "\n",
        "print(count)"
      ],
      "execution_count": 20,
      "outputs": [
        {
          "output_type": "stream",
          "text": [
            "5\n",
            "11475\n"
          ],
          "name": "stdout"
        }
      ]
    }
  ]
}