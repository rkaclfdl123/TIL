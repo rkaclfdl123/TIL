{
  "nbformat": 4,
  "nbformat_minor": 0,
  "metadata": {
    "colab": {
      "name": "1126_fastAPI_best모델 적용(고준수).ipynb",
      "provenance": [],
      "collapsed_sections": [],
      "include_colab_link": true
    },
    "kernelspec": {
      "name": "python3",
      "display_name": "Python 3"
    },
    "language_info": {
      "name": "python"
    },
    "accelerator": "GPU"
  },
  "cells": [
    {
      "cell_type": "markdown",
      "metadata": {
        "id": "view-in-github",
        "colab_type": "text"
      },
      "source": [
        "<a href=\"https://colab.research.google.com/github/rkaclfdl123/TIL/blob/master/1126_fastAPI_best%EB%AA%A8%EB%8D%B8_%EC%A0%81%EC%9A%A9(%EA%B3%A0%EC%A4%80%EC%88%98).ipynb\" target=\"_parent\"><img src=\"https://colab.research.google.com/assets/colab-badge.svg\" alt=\"Open In Colab\"/></a>"
      ]
    },
    {
      "cell_type": "code",
      "metadata": {
        "colab": {
          "base_uri": "https://localhost:8080/"
        },
        "id": "OgTDwLOyBCfl",
        "outputId": "071091bb-247d-49f6-d0b5-d2a9285bb30c"
      },
      "source": [
        "from google.colab import drive\n",
        "drive.mount('/content/drive')"
      ],
      "execution_count": 3,
      "outputs": [
        {
          "output_type": "stream",
          "name": "stdout",
          "text": [
            "Mounted at /content/drive\n"
          ]
        }
      ]
    },
    {
      "cell_type": "code",
      "metadata": {
        "colab": {
          "base_uri": "https://localhost:8080/"
        },
        "id": "aIV1whsPBP7K",
        "outputId": "420b00b0-e28b-46d9-a724-9b9784f6fb75"
      },
      "source": [
        "%cd /content/drive/MyDrive/Astrophysics/1122_mount"
      ],
      "execution_count": 4,
      "outputs": [
        {
          "output_type": "stream",
          "name": "stdout",
          "text": [
            "/content/drive/.shortcut-targets-by-id/16oCueqwvnKt564dZ0WW_5p3nppsa07g8/Astrophysics/1122_mount\n"
          ]
        }
      ]
    },
    {
      "cell_type": "code",
      "metadata": {
        "id": "AMink4fgXUZj",
        "colab": {
          "base_uri": "https://localhost:8080/"
        },
        "outputId": "13f6bed0-38d5-4926-e668-a9e2a4ca6340"
      },
      "source": [
        "!pip install fastapi nest-asyncio pyngrok uvicorn"
      ],
      "execution_count": 1,
      "outputs": [
        {
          "output_type": "stream",
          "name": "stdout",
          "text": [
            "Collecting fastapi\n",
            "  Downloading fastapi-0.70.0-py3-none-any.whl (51 kB)\n",
            "\u001b[?25l\r\u001b[K     |██████▎                         | 10 kB 31.6 MB/s eta 0:00:01\r\u001b[K     |████████████▋                   | 20 kB 32.6 MB/s eta 0:00:01\r\u001b[K     |███████████████████             | 30 kB 21.3 MB/s eta 0:00:01\r\u001b[K     |█████████████████████████▎      | 40 kB 18.2 MB/s eta 0:00:01\r\u001b[K     |███████████████████████████████▋| 51 kB 10.8 MB/s eta 0:00:01\r\u001b[K     |████████████████████████████████| 51 kB 772 kB/s \n",
            "\u001b[?25hRequirement already satisfied: nest-asyncio in /usr/local/lib/python3.7/dist-packages (1.5.1)\n",
            "Collecting pyngrok\n",
            "  Downloading pyngrok-5.1.0.tar.gz (745 kB)\n",
            "\u001b[K     |████████████████████████████████| 745 kB 19.7 MB/s \n",
            "\u001b[?25hCollecting uvicorn\n",
            "  Downloading uvicorn-0.15.0-py3-none-any.whl (54 kB)\n",
            "\u001b[K     |████████████████████████████████| 54 kB 3.7 MB/s \n",
            "\u001b[?25hCollecting starlette==0.16.0\n",
            "  Downloading starlette-0.16.0-py3-none-any.whl (61 kB)\n",
            "\u001b[K     |████████████████████████████████| 61 kB 357 kB/s \n",
            "\u001b[?25hCollecting pydantic!=1.7,!=1.7.1,!=1.7.2,!=1.7.3,!=1.8,!=1.8.1,<2.0.0,>=1.6.2\n",
            "  Downloading pydantic-1.8.2-cp37-cp37m-manylinux2014_x86_64.whl (10.1 MB)\n",
            "\u001b[K     |████████████████████████████████| 10.1 MB 60.2 MB/s \n",
            "\u001b[?25hRequirement already satisfied: typing-extensions in /usr/local/lib/python3.7/dist-packages (from starlette==0.16.0->fastapi) (3.10.0.2)\n",
            "Collecting anyio<4,>=3.0.0\n",
            "  Downloading anyio-3.4.0-py3-none-any.whl (78 kB)\n",
            "\u001b[K     |████████████████████████████████| 78 kB 9.0 MB/s \n",
            "\u001b[?25hCollecting sniffio>=1.1\n",
            "  Downloading sniffio-1.2.0-py3-none-any.whl (10 kB)\n",
            "Requirement already satisfied: idna>=2.8 in /usr/local/lib/python3.7/dist-packages (from anyio<4,>=3.0.0->starlette==0.16.0->fastapi) (2.10)\n",
            "Requirement already satisfied: PyYAML in /usr/local/lib/python3.7/dist-packages (from pyngrok) (3.13)\n",
            "Requirement already satisfied: click>=7.0 in /usr/local/lib/python3.7/dist-packages (from uvicorn) (7.1.2)\n",
            "Collecting asgiref>=3.4.0\n",
            "  Downloading asgiref-3.4.1-py3-none-any.whl (25 kB)\n",
            "Collecting h11>=0.8\n",
            "  Downloading h11-0.12.0-py3-none-any.whl (54 kB)\n",
            "\u001b[K     |████████████████████████████████| 54 kB 3.6 MB/s \n",
            "\u001b[?25hBuilding wheels for collected packages: pyngrok\n",
            "  Building wheel for pyngrok (setup.py) ... \u001b[?25l\u001b[?25hdone\n",
            "  Created wheel for pyngrok: filename=pyngrok-5.1.0-py3-none-any.whl size=19006 sha256=e030926c8b3e8d88e770b3b47ff02ade2a0c5191fe86ead9ce17e8cf4803c91b\n",
            "  Stored in directory: /root/.cache/pip/wheels/bf/e6/af/ccf6598ecefecd44104069371795cb9b3afbcd16987f6ccfb3\n",
            "Successfully built pyngrok\n",
            "Installing collected packages: sniffio, anyio, starlette, pydantic, h11, asgiref, uvicorn, pyngrok, fastapi\n",
            "Successfully installed anyio-3.4.0 asgiref-3.4.1 fastapi-0.70.0 h11-0.12.0 pydantic-1.8.2 pyngrok-5.1.0 sniffio-1.2.0 starlette-0.16.0 uvicorn-0.15.0\n"
          ]
        }
      ]
    },
    {
      "cell_type": "code",
      "metadata": {
        "id": "vS8xSXRKXV5O",
        "colab": {
          "base_uri": "https://localhost:8080/"
        },
        "outputId": "cd737019-323b-4bca-ef52-5f0a91c86f09"
      },
      "source": [
        "!pip install jinja2\n",
        "!pip install aiofiles\n",
        "!pip install python-multipart"
      ],
      "execution_count": 2,
      "outputs": [
        {
          "output_type": "stream",
          "name": "stdout",
          "text": [
            "Requirement already satisfied: jinja2 in /usr/local/lib/python3.7/dist-packages (2.11.3)\n",
            "Requirement already satisfied: MarkupSafe>=0.23 in /usr/local/lib/python3.7/dist-packages (from jinja2) (2.0.1)\n",
            "Collecting aiofiles\n",
            "  Downloading aiofiles-0.7.0-py3-none-any.whl (13 kB)\n",
            "Installing collected packages: aiofiles\n",
            "Successfully installed aiofiles-0.7.0\n",
            "Collecting python-multipart\n",
            "  Downloading python-multipart-0.0.5.tar.gz (32 kB)\n",
            "Requirement already satisfied: six>=1.4.0 in /usr/local/lib/python3.7/dist-packages (from python-multipart) (1.15.0)\n",
            "Building wheels for collected packages: python-multipart\n",
            "  Building wheel for python-multipart (setup.py) ... \u001b[?25l\u001b[?25hdone\n",
            "  Created wheel for python-multipart: filename=python_multipart-0.0.5-py3-none-any.whl size=31678 sha256=659afb7634f7a1f46e4294cd9438879c3705f986af6e7bae037df18a8223ad36\n",
            "  Stored in directory: /root/.cache/pip/wheels/2c/41/7c/bfd1c180534ffdcc0972f78c5758f89881602175d48a8bcd2c\n",
            "Successfully built python-multipart\n",
            "Installing collected packages: python-multipart\n",
            "Successfully installed python-multipart-0.0.5\n"
          ]
        }
      ]
    },
    {
      "cell_type": "code",
      "metadata": {
        "id": "JagLmFwNXYpe"
      },
      "source": [
        "from typing import Optional\n",
        "from fastapi import FastAPI\n",
        "from fastapi import FastAPI, File, UploadFile, Request, Form, File, UploadFile\n",
        "from fastapi import FastAPI, status\n",
        "from fastapi.responses import HTMLResponse\n",
        "from typing import List\n",
        "import os\n",
        "import uvicorn\n",
        "from fastapi import APIRouter\n",
        "from fastapi.staticfiles import StaticFiles\n",
        "import nest_asyncio\n",
        "from pyngrok import ngrok\n",
        "from fastapi.templating import Jinja2Templates\n",
        "from PIL import Image\n",
        "from io import BytesIO\n",
        "import torch"
      ],
      "execution_count": 5,
      "outputs": []
    },
    {
      "cell_type": "code",
      "metadata": {
        "id": "422KasdXXvq7",
        "colab": {
          "base_uri": "https://localhost:8080/"
        },
        "outputId": "6c4f6fbb-bdfa-46db-dbea-b2b9bfcaee59"
      },
      "source": [
        "app = FastAPI()\n",
        "\n",
        "@app.get(\"/\")\n",
        "def home(request: Request):\n",
        "\t'''\n",
        "\tReturns barebones HTML form allowing the user to select a file and model\n",
        "\t'''\n",
        "\n",
        "\thtml_content = '''\n",
        "<form method=\"post\" enctype=\"multipart/form-data\">\n",
        "  <div>\n",
        "    <label>Upload Image</label>\n",
        "    <input name=\"file\" type=\"file\" multiple>\n",
        "    <div>\n",
        "      <label>Select YOLO Model</label>\n",
        "      <select name=\"model_name\">\n",
        "        <option>yolov5s</option>\n",
        "        <option>yolov5m</option>\n",
        "        <option>yolov5l</option>\n",
        "        <option>yolov5x</option>\n",
        "      </select>\n",
        "    </div>\n",
        "  </div>\n",
        "  <button type=\"submit\">Submit</button>\n",
        "</form>\n",
        "'''\n",
        "\n",
        "\treturn HTMLResponse(content=html_content, status_code=200)\n",
        "\n",
        "def results_to_json(results, model):\n",
        "    ''' Helper function for process_home_form()'''\n",
        "    return [\n",
        "        [\n",
        "            {\n",
        "                \"class\": int(pred[5]),\n",
        "                \"class_name\": model.model.names[int(pred[5])],\n",
        "                \"normalized_box\": pred[:4].tolist(),\n",
        "                \"confidence\": float(pred[4]),\n",
        "            }\n",
        "            for pred in result\n",
        "        ]\n",
        "        #switch this to results.xyxy to get bbox pixels\n",
        "        for result in results.xyxyn \n",
        "    ]\n",
        "\n",
        "@app.post(\"/\")\n",
        "async def process_home_form(file: UploadFile = File(...), \n",
        "\t\t\t\t\t\t\tmodel_name: str = Form(...)):\n",
        "\t\n",
        "\t'''\n",
        "\tRequires an image file upload, model name (ex. yolov5s).\n",
        "\tReturns: json response with list of list of dicts.\n",
        "\t\tEach dict contains class, class_name, confidence, normalized_bbox\n",
        "\t'''\n",
        "#이부분 path 경로설정만 하셔요\n",
        "\tmodel = torch.hub.load('ultralytics/yolov5', 'custom', path='/content/drive/MyDrive/Astrophysics/1122_mount/yolov5/runs/train/multiple_yolov5s_results/weights/best.pt')\n",
        "\n",
        "  #This is how you decode + process image with PIL\n",
        "\tresults = model( Image.open(BytesIO(await file.read())))\n",
        "    \n",
        "\n",
        "  #This is how you decode + process image with OpenCV\n",
        "  #results = model(cv2.imdecode(np.fromstring(await file.read(), np.uint8), cv2.IMREAD_COLOR))\n",
        "\n",
        "\tjson_results = results_to_json(results,model)\n",
        "\treturn json_results\n",
        "\n",
        "ngrok_tunnel = ngrok.connect(8000)\n",
        "print('Public URL :' , ngrok_tunnel.public_url)\n",
        "nest_asyncio.apply()\n",
        "uvicorn.run(app, host='0.0.0.0', port=8000)"
      ],
      "execution_count": null,
      "outputs": [
        {
          "output_type": "stream",
          "name": "stdout",
          "text": [
            ""
          ]
        },
        {
          "output_type": "stream",
          "name": "stderr",
          "text": [
            "INFO:     Started server process [74]\n",
            "INFO:     Waiting for application startup.\n",
            "INFO:     Application startup complete.\n",
            "INFO:     Uvicorn running on http://0.0.0.0:8000 (Press CTRL+C to quit)\n"
          ]
        },
        {
          "output_type": "stream",
          "name": "stdout",
          "text": [
            "Public URL : http://ce02-35-230-80-163.ngrok.io\n",
            "INFO:     222.99.3.47:0 - \"GET / HTTP/1.1\" 200 OK\n",
            "INFO:     222.99.3.47:0 - \"GET / HTTP/1.1\" 200 OK\n",
            "INFO:     222.99.3.47:0 - \"GET /favicon.ico HTTP/1.1\" 404 Not Found\n"
          ]
        },
        {
          "output_type": "stream",
          "name": "stderr",
          "text": [
            "Downloading: \"https://github.com/ultralytics/yolov5/archive/master.zip\" to /root/.cache/torch/hub/master.zip\n"
          ]
        },
        {
          "output_type": "stream",
          "name": "stdout",
          "text": [
            "Downloading https://ultralytics.com/assets/Arial.ttf to /root/.config/Ultralytics/Arial.ttf...\n",
            "\u001b[31m\u001b[1mrequirements:\u001b[0m PyYAML>=5.3.1 not found and is required by YOLOv5, attempting auto-update...\n"
          ]
        },
        {
          "output_type": "stream",
          "name": "stderr",
          "text": [
            "YOLOv5 🚀 2021-11-26 torch 1.10.0+cu111 CUDA:0 (Tesla P100-PCIE-16GB, 16281MiB)\n",
            "\n"
          ]
        },
        {
          "output_type": "stream",
          "name": "stdout",
          "text": [
            "Collecting PyYAML>=5.3.1\n",
            "  Downloading PyYAML-6.0-cp37-cp37m-manylinux_2_5_x86_64.manylinux1_x86_64.manylinux_2_12_x86_64.manylinux2010_x86_64.whl (596 kB)\n",
            "Installing collected packages: PyYAML\n",
            "  Attempting uninstall: PyYAML\n",
            "    Found existing installation: PyYAML 3.13\n",
            "    Uninstalling PyYAML-3.13:\n",
            "      Successfully uninstalled PyYAML-3.13\n",
            "Successfully installed PyYAML-6.0\n",
            "\n",
            "\u001b[31m\u001b[1mrequirements:\u001b[0m 1 package updated per /root/.cache/torch/hub/ultralytics_yolov5_master/requirements.txt\n",
            "\u001b[31m\u001b[1mrequirements:\u001b[0m ⚠️ \u001b[1mRestart runtime or rerun command for updates to take effect\u001b[0m\n",
            "\n"
          ]
        },
        {
          "output_type": "stream",
          "name": "stderr",
          "text": [
            "Fusing layers... \n",
            "Model Summary: 213 layers, 7042489 parameters, 0 gradients\n",
            "Adding AutoShape... \n"
          ]
        },
        {
          "output_type": "stream",
          "name": "stdout",
          "text": [
            "INFO:     222.99.3.47:0 - \"POST / HTTP/1.1\" 200 OK\n"
          ]
        }
      ]
    }
  ]
}