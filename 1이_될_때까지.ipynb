{
  "nbformat": 4,
  "nbformat_minor": 0,
  "metadata": {
    "colab": {
      "name": "1이  될 때까지.ipynb",
      "provenance": [],
      "authorship_tag": "ABX9TyO3V9rXjhzxGP19mirSFLG+",
      "include_colab_link": true
    },
    "kernelspec": {
      "name": "python3",
      "display_name": "Python 3"
    },
    "language_info": {
      "name": "python"
    }
  },
  "cells": [
    {
      "cell_type": "markdown",
      "metadata": {
        "id": "view-in-github",
        "colab_type": "text"
      },
      "source": [
        "<a href=\"https://colab.research.google.com/github/rkaclfdl123/TIL/blob/master/1%EC%9D%B4_%EB%90%A0_%EB%95%8C%EA%B9%8C%EC%A7%80.ipynb\" target=\"_parent\"><img src=\"https://colab.research.google.com/assets/colab-badge.svg\" alt=\"Open In Colab\"/></a>"
      ]
    },
    {
      "cell_type": "code",
      "metadata": {
        "colab": {
          "base_uri": "https://localhost:8080/"
        },
        "id": "4Prkl0hhJP1l",
        "outputId": "cd638a36-924a-4be3-85cc-90f54198a416"
      },
      "source": [
        "# 이코테 다시 풀어보기\n",
        "# 1이 될 때까지\n",
        "\n",
        "num,K=map(int,input().split())\n",
        "count=0\n",
        "while(num//K>=1):\n",
        "    if num%K==0:\n",
        "        num=num/K\n",
        "        count+=1\n",
        "    elif num%K!=0:\n",
        "        num-=1\n",
        "        count+=1\n",
        "print(count)"
      ],
      "execution_count": 6,
      "outputs": [
        {
          "output_type": "stream",
          "text": [
            "25 5\n",
            "2\n"
          ],
          "name": "stdout"
        }
      ]
    },
    {
      "cell_type": "code",
      "metadata": {
        "colab": {
          "base_uri": "https://localhost:8080/"
        },
        "id": "CU5kizueKKCx",
        "outputId": "5135ccd9-7775-4250-ac72-b6ad4db9187c"
      },
      "source": [
        "print(count)"
      ],
      "execution_count": 3,
      "outputs": [
        {
          "output_type": "stream",
          "text": [
            "0\n"
          ],
          "name": "stdout"
        }
      ]
    }
  ]
}