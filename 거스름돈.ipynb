{
  "nbformat": 4,
  "nbformat_minor": 0,
  "metadata": {
    "colab": {
      "name": "거스름돈.ipynb",
      "provenance": [],
      "authorship_tag": "ABX9TyOMERaqX17yVYOblW3GetWh",
      "include_colab_link": true
    },
    "kernelspec": {
      "name": "python3",
      "display_name": "Python 3"
    },
    "language_info": {
      "name": "python"
    }
  },
  "cells": [
    {
      "cell_type": "markdown",
      "metadata": {
        "id": "view-in-github",
        "colab_type": "text"
      },
      "source": [
        "<a href=\"https://colab.research.google.com/github/rkaclfdl123/TIL/blob/master/%EA%B1%B0%EC%8A%A4%EB%A6%84%EB%8F%88.ipynb\" target=\"_parent\"><img src=\"https://colab.research.google.com/assets/colab-badge.svg\" alt=\"Open In Colab\"/></a>"
      ]
    },
    {
      "cell_type": "code",
      "metadata": {
        "colab": {
          "base_uri": "https://localhost:8080/"
        },
        "id": "VuWfxHrDd-b6",
        "outputId": "4de19f3e-6f38-4c0b-b884-ed4d67652838"
      },
      "source": [
        "#이코테 유형별로 다시풀기\n",
        "#그리디 알고리즘\n",
        "\n",
        "money=int(input())\n",
        "coin=[500,100,50,10]\n",
        "count=0\n",
        "for i in coin:\n",
        "    count+=(money//i)\n",
        "    money=money%i\n",
        "print(count)\n"
      ],
      "execution_count": 1,
      "outputs": [
        {
          "output_type": "stream",
          "text": [
            "1260\n",
            "6\n"
          ],
          "name": "stdout"
        }
      ]
    }
  ]
}