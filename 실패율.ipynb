{
  "nbformat": 4,
  "nbformat_minor": 0,
  "metadata": {
    "colab": {
      "name": "실패율.ipynb",
      "provenance": [],
      "authorship_tag": "ABX9TyMDGEUlQyyCYPOjS3dQX/j4",
      "include_colab_link": true
    },
    "kernelspec": {
      "name": "python3",
      "display_name": "Python 3"
    },
    "language_info": {
      "name": "python"
    }
  },
  "cells": [
    {
      "cell_type": "markdown",
      "metadata": {
        "id": "view-in-github",
        "colab_type": "text"
      },
      "source": [
        "<a href=\"https://colab.research.google.com/github/rkaclfdl123/TIL/blob/master/%EC%8B%A4%ED%8C%A8%EC%9C%A8.ipynb\" target=\"_parent\"><img src=\"https://colab.research.google.com/assets/colab-badge.svg\" alt=\"Open In Colab\"/></a>"
      ]
    },
    {
      "cell_type": "code",
      "metadata": {
        "id": "-KsVijBoSiQV"
      },
      "source": [
        "stages=[2, 1, 2, 6, 2, 4, 3, 3]\t\n",
        "#스테이지에 도달했으나 아직 클리어하지 못한 플레이어의 수 / 스테이지에 도달한 플레이어 수"
      ],
      "execution_count": 80,
      "outputs": []
    },
    {
      "cell_type": "code",
      "metadata": {
        "colab": {
          "base_uri": "https://localhost:8080/"
        },
        "id": "SVbTy3dJSu01",
        "outputId": "3096c06d-96c1-4322-9c2a-35a5409d3887"
      },
      "source": [
        "sorted_stages=sorted(stages)\n",
        "sorted_stages"
      ],
      "execution_count": 81,
      "outputs": [
        {
          "output_type": "execute_result",
          "data": {
            "text/plain": [
              "[1, 2, 2, 2, 3, 3, 4, 6]"
            ]
          },
          "metadata": {},
          "execution_count": 81
        }
      ]
    },
    {
      "cell_type": "code",
      "metadata": {
        "id": "4NsnUPB-Su3D"
      },
      "source": [
        "count_list=[[] for i in range(max(sorted_stages)+1)]"
      ],
      "execution_count": 82,
      "outputs": []
    },
    {
      "cell_type": "code",
      "metadata": {
        "id": "bZKxoytHSu5T"
      },
      "source": [
        "for i in sorted_stages:\n",
        "    for j in range(len(sorted_stages)):\n",
        "        count_list[sorted_stages[j]].append([sorted_stages[j]])"
      ],
      "execution_count": 83,
      "outputs": []
    },
    {
      "cell_type": "code",
      "metadata": {
        "colab": {
          "base_uri": "https://localhost:8080/"
        },
        "id": "pA4s5YXCSu7X",
        "outputId": "329cfea2-8b84-479b-fe76-9970bdf5f770"
      },
      "source": [
        "sorted_stages"
      ],
      "execution_count": null,
      "outputs": [
        {
          "output_type": "execute_result",
          "data": {
            "text/plain": [
              "[1, 2, 2, 2, 3, 3, 4, 6]"
            ]
          },
          "metadata": {},
          "execution_count": 16
        }
      ]
    },
    {
      "cell_type": "code",
      "metadata": {
        "colab": {
          "base_uri": "https://localhost:8080/"
        },
        "id": "Tigs3Ia8Su9i",
        "outputId": "736972d7-ebc5-46d9-8c60-08bfc4b5e998"
      },
      "source": [
        "len_list=len(sorted_stages)\n",
        "sum_count=0\n",
        "result1=[]\n",
        "for i in range(1,max(sorted_stages)):\n",
        "    #print(sorted_stages.count(i))\n",
        "    \n",
        "    len_list=sorted_stages.count(i)/len_list\n",
        "    sum_count+=sorted_stages.count(i)\n",
        "    result1.append(len_list)\n",
        "    len_list=len(sorted_stages)-sum_count\n",
        "    \n",
        "result1"
      ],
      "execution_count": 84,
      "outputs": [
        {
          "output_type": "execute_result",
          "data": {
            "text/plain": [
              "[0.125, 0.42857142857142855, 0.5, 0.5, 0.0]"
            ]
          },
          "metadata": {},
          "execution_count": 84
        }
      ]
    },
    {
      "cell_type": "code",
      "metadata": {
        "colab": {
          "base_uri": "https://localhost:8080/"
        },
        "id": "6w2yTqy3Su_3",
        "outputId": "a91624e5-7bfb-42eb-9175-de36f404d3a3"
      },
      "source": [
        "result2=sorted(result1, reverse=True)\n",
        "for i in result2:\n",
        "    print(result1.index(i))"
      ],
      "execution_count": 66,
      "outputs": [
        {
          "output_type": "stream",
          "name": "stdout",
          "text": [
            "2\n",
            "2\n",
            "1\n",
            "0\n",
            "4\n"
          ]
        }
      ]
    },
    {
      "cell_type": "code",
      "metadata": {
        "colab": {
          "base_uri": "https://localhost:8080/"
        },
        "id": "Sd8iv9xAy6Vt",
        "outputId": "bba20616-0f69-4aca-9e06-d87f24325fd8"
      },
      "source": [
        "result1"
      ],
      "execution_count": 73,
      "outputs": [
        {
          "output_type": "execute_result",
          "data": {
            "text/plain": [
              "[0.125, 0.42857142857142855, 0.5, 0.5, 0.0]"
            ]
          },
          "metadata": {},
          "execution_count": 73
        }
      ]
    },
    {
      "cell_type": "code",
      "metadata": {
        "colab": {
          "base_uri": "https://localhost:8080/"
        },
        "id": "FAXMKeHVSvCM",
        "outputId": "9e557377-3b00-4624-930b-041d01c63f3d"
      },
      "source": [
        "result3=sorted(result1)\n",
        "result3"
      ],
      "execution_count": 85,
      "outputs": [
        {
          "output_type": "execute_result",
          "data": {
            "text/plain": [
              "[0.0, 0.125, 0.42857142857142855, 0.5, 0.5]"
            ]
          },
          "metadata": {},
          "execution_count": 85
        }
      ]
    },
    {
      "cell_type": "code",
      "metadata": {
        "colab": {
          "base_uri": "https://localhost:8080/"
        },
        "id": "IlH-dFVLznSb",
        "outputId": "6dfd9be3-fc26-4e08-dccc-ea1437963ba7"
      },
      "source": [
        "for i in result1:\n",
        "    print(i)\n",
        "    print(result3.count(i))"
      ],
      "execution_count": 86,
      "outputs": [
        {
          "output_type": "stream",
          "name": "stdout",
          "text": [
            "0.125\n",
            "1\n",
            "0.42857142857142855\n",
            "1\n",
            "0.5\n",
            "2\n",
            "0.5\n",
            "2\n",
            "0.0\n",
            "1\n"
          ]
        }
      ]
    },
    {
      "cell_type": "code",
      "metadata": {
        "id": "R_wsJentSvEP",
        "colab": {
          "base_uri": "https://localhost:8080/"
        },
        "outputId": "f259ba32-43ca-4310-a022-28e1e3723596"
      },
      "source": [
        "for i in result3:\n",
        "    print(result1.index(i))"
      ],
      "execution_count": 74,
      "outputs": [
        {
          "output_type": "stream",
          "name": "stdout",
          "text": [
            "4\n",
            "0\n",
            "1\n",
            "2\n",
            "2\n"
          ]
        }
      ]
    },
    {
      "cell_type": "code",
      "metadata": {
        "id": "_V74uH2BSvGY"
      },
      "source": [
        ""
      ],
      "execution_count": null,
      "outputs": []
    },
    {
      "cell_type": "code",
      "metadata": {
        "id": "ptDilrIISvIp"
      },
      "source": [
        ""
      ],
      "execution_count": null,
      "outputs": []
    },
    {
      "cell_type": "code",
      "metadata": {
        "id": "UFnsDsiQSvK6"
      },
      "source": [
        ""
      ],
      "execution_count": null,
      "outputs": []
    },
    {
      "cell_type": "code",
      "metadata": {
        "id": "kAMjKMTySvNb"
      },
      "source": [
        ""
      ],
      "execution_count": null,
      "outputs": []
    },
    {
      "cell_type": "code",
      "metadata": {
        "id": "qRKMnp8MSua6"
      },
      "source": [
        ""
      ],
      "execution_count": null,
      "outputs": []
    }
  ]
}