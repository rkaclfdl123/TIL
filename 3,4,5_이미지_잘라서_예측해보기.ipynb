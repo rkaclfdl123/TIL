{
  "nbformat": 4,
  "nbformat_minor": 0,
  "metadata": {
    "colab": {
      "name": "3,4,5 이미지 잘라서 예측해보기.ipynb",
      "provenance": [],
      "authorship_tag": "ABX9TyO7onbO7fO+LVmb9bkj8qZE",
      "include_colab_link": true
    },
    "kernelspec": {
      "name": "python3",
      "display_name": "Python 3"
    },
    "language_info": {
      "name": "python"
    }
  },
  "cells": [
    {
      "cell_type": "markdown",
      "metadata": {
        "id": "view-in-github",
        "colab_type": "text"
      },
      "source": [
        "<a href=\"https://colab.research.google.com/github/rkaclfdl123/TIL/blob/master/3%2C4%2C5_%EC%9D%B4%EB%AF%B8%EC%A7%80_%EC%9E%98%EB%9D%BC%EC%84%9C_%EC%98%88%EC%B8%A1%ED%95%B4%EB%B3%B4%EA%B8%B0.ipynb\" target=\"_parent\"><img src=\"https://colab.research.google.com/assets/colab-badge.svg\" alt=\"Open In Colab\"/></a>"
      ]
    },
    {
      "cell_type": "code",
      "metadata": {
        "colab": {
          "base_uri": "https://localhost:8080/"
        },
        "id": "UDNhsVjPKgHy",
        "outputId": "1c4c5fa6-6a01-43fe-887f-f9662bc70b92"
      },
      "source": [
        "import numpy as np\n",
        "from PIL import Image\n",
        "img=Image.open('/content/number.png')\n",
        "img\n",
        "print(img.size)\n",
        "\n",
        "np.shape(img)\n",
        "\n",
        "#이미지쪽은 Pillow 나 opencv 중에 골라서사용하세용~\n"
      ],
      "execution_count": 9,
      "outputs": [
        {
          "output_type": "stream",
          "name": "stdout",
          "text": [
            "(166, 431)\n"
          ]
        },
        {
          "output_type": "execute_result",
          "data": {
            "text/plain": [
              "(431, 166, 3)"
            ]
          },
          "metadata": {},
          "execution_count": 9
        }
      ]
    },
    {
      "cell_type": "code",
      "metadata": {
        "id": "LDTKz9gTNXrt"
      },
      "source": [
        "#image crop 'Pillow 에서 그림 자르기\n",
        "#img.crop(start Left, start Up, end Right, end down)\n",
        "#문법에어긋나면 () 하나 더 넣기!\n",
        "img1=img.crop((0,0,140,120))\n",
        "img2=img.crop((0,100,130,290)) \n",
        "img3=img.crop((0,280,166,430))"
      ],
      "execution_count": 148,
      "outputs": []
    },
    {
      "cell_type": "code",
      "metadata": {
        "colab": {
          "base_uri": "https://localhost:8080/",
          "height": 284
        },
        "id": "FFJjmwklRD9X",
        "outputId": "8217e3a4-b5ab-452c-e437-fd8c20f13288"
      },
      "source": [
        "import matplotlib.pyplot as plt\n",
        "img_re1=img1.resize((28,28))\n",
        "img_gr1=img_re1.convert('L')\n",
        "np.shape(img_gr1)\n",
        "\n",
        "import PIL.ImageOps\n",
        "img_con_1=PIL.ImageOps.invert(img_gr1)\n",
        "plt.imshow(np.array(img_con_1),cmap='gray') #plt plot을 쓸라면 반드시 array로 바꿔야한다!? 가로세로 맞춰야하고 img 파일을 바꿔줘야함, 색상 숫자값으로변겅 \n",
        "\n",
        "\n",
        "img_sc_1=np.array(img_con_1)/255\n",
        "plt.imshow(img_sc_1,cmap='gray')\n",
        "\n",
        "img_re_1=img_sc_1.reshape(1,-1)\n",
        "img_re_1.shape"
      ],
      "execution_count": 81,
      "outputs": [
        {
          "output_type": "execute_result",
          "data": {
            "text/plain": [
              "(1, 784)"
            ]
          },
          "metadata": {},
          "execution_count": 81
        },
        {
          "output_type": "display_data",
          "data": {
            "image/png": "[encoded data removed]",
            "text/plain": [
              "<Figure size 432x288 with 1 Axes>"
            ]
          },
          "metadata": {
            "needs_background": "light"
          }
        }
      ]
    },
    {
      "cell_type": "code",
      "metadata": {
        "colab": {
          "base_uri": "https://localhost:8080/",
          "height": 284
        },
        "id": "bjzpm4nHbAvB",
        "outputId": "e3b05d47-7b75-4c29-d885-bbe8bba9fc5f"
      },
      "source": [
        "tmp1=img_re_1\n",
        "for cnt in range(len(tmp1[0])):\n",
        "  #print(tmp[0][cnt])\n",
        "  if tmp1[0][cnt]!=0.0:\n",
        "    tmp1[0][cnt]=1.0\n",
        "\n",
        "\n",
        "plt.imshow(tmp1.reshape(28,28),cmap='gray')\n"
      ],
      "execution_count": 82,
      "outputs": [
        {
          "output_type": "execute_result",
          "data": {
            "text/plain": [
              "<matplotlib.image.AxesImage at 0x7f66c7f32c10>"
            ]
          },
          "metadata": {},
          "execution_count": 82
        },
        {
          "output_type": "display_data",
          "data": {
            "image/png": "[encoded data removed]",
            "text/plain": [
              "<Figure size 432x288 with 1 Axes>"
            ]
          },
          "metadata": {
            "needs_background": "light"
          }
        }
      ]
    },
    {
      "cell_type": "code",
      "metadata": {
        "colab": {
          "base_uri": "https://localhost:8080/"
        },
        "id": "SGkVSOviZZ_h",
        "outputId": "b1162815-c5e0-4f97-bb08-13305f425ab8"
      },
      "source": [
        "import tensorflow as tf\n",
        "load_model=tf.keras.models.load_model('/content/my_mnist.h5')\n",
        "#load_model.summary()\n",
        "\n",
        "result_tmp=load_model.predict(tmp)\n",
        "print(np.argmax(result_tmp)) "
      ],
      "execution_count": 91,
      "outputs": [
        {
          "output_type": "stream",
          "name": "stdout",
          "text": [
            "3\n"
          ]
        }
      ]
    },
    {
      "cell_type": "code",
      "metadata": {
        "colab": {
          "base_uri": "https://localhost:8080/",
          "height": 284
        },
        "id": "Mlhd7h-tcgJV",
        "outputId": "840ea9bd-5dd1-4490-b18a-6c5b515c17f2"
      },
      "source": [
        "import matplotlib.pyplot as plt\n",
        "img_re2=img2.resize((28,28))\n",
        "img_gr2=img_re2.convert('L')\n",
        "np.shape(img_gr2)\n",
        "\n",
        "import PIL.ImageOps\n",
        "img_con_2=PIL.ImageOps.invert(img_gr2)\n",
        "plt.imshow(np.array(img_con_2),cmap='gray') #plt plot을 쓸라면 반드시 array로 바꿔야한다!? 가로세로 맞춰야하고 img 파일을 바꿔줘야함, 색상 숫자값으로변겅 \n",
        "\n",
        "\n",
        "img_sc_2=np.array(img_con_2)/255\n",
        "plt.imshow(img_sc_2,cmap='gray')\n",
        "\n",
        "img_re_2=img_sc_2.reshape(1,-1)\n",
        "img_re_2.shape"
      ],
      "execution_count": 149,
      "outputs": [
        {
          "output_type": "execute_result",
          "data": {
            "text/plain": [
              "(1, 784)"
            ]
          },
          "metadata": {},
          "execution_count": 149
        },
        {
          "output_type": "display_data",
          "data": {
            "image/png": "[encoded data removed]",
            "text/plain": [
              "<Figure size 432x288 with 1 Axes>"
            ]
          },
          "metadata": {
            "needs_background": "light"
          }
        }
      ]
    },
    {
      "cell_type": "code",
      "metadata": {
        "colab": {
          "base_uri": "https://localhost:8080/",
          "height": 284
        },
        "id": "3NAThP-tc0Ie",
        "outputId": "80d6fc7e-4ff3-49d5-c66b-1bef9cf210f0"
      },
      "source": [
        "tmp2=img_re_2\n",
        "for cnt in range(len(tmp2[0])):\n",
        "  #print(tmp[0][cnt])\n",
        "  if tmp2[0][cnt]!=0.0:\n",
        "    tmp2[0][cnt]=1.0\n",
        "\n",
        "\n",
        "plt.imshow(tmp2.reshape(28,28),cmap='gray')"
      ],
      "execution_count": 150,
      "outputs": [
        {
          "output_type": "execute_result",
          "data": {
            "text/plain": [
              "<matplotlib.image.AxesImage at 0x7f66bd8cfb50>"
            ]
          },
          "metadata": {},
          "execution_count": 150
        },
        {
          "output_type": "display_data",
          "data": {
            "image/png": "[encoded data removed]",
            "text/plain": [
              "<Figure size 432x288 with 1 Axes>"
            ]
          },
          "metadata": {
            "needs_background": "light"
          }
        }
      ]
    },
    {
      "cell_type": "code",
      "metadata": {
        "colab": {
          "base_uri": "https://localhost:8080/"
        },
        "id": "HcdcPidecgMl",
        "outputId": "bc2cebf1-a6a1-4003-c4be-0a7092be80fc"
      },
      "source": [
        "import tensorflow as tf\n",
        "load_model=tf.keras.models.load_model('/content/my_mnist.h5')\n",
        "#load_model.summary()\n",
        "\n",
        "result_tmp2=load_model.predict(tmp2)\n",
        "print(np.argmax(result_tmp2))"
      ],
      "execution_count": 151,
      "outputs": [
        {
          "output_type": "stream",
          "name": "stdout",
          "text": [
            "2\n"
          ]
        }
      ]
    },
    {
      "cell_type": "markdown",
      "metadata": {
        "id": "9qCnrfmWdhmk"
      },
      "source": [
        "# 5 데이터 예측"
      ]
    },
    {
      "cell_type": "code",
      "metadata": {
        "colab": {
          "base_uri": "https://localhost:8080/",
          "height": 284
        },
        "id": "MkFw9NCtdkuu",
        "outputId": "18fd13a4-c086-4aa8-ef60-45d78a46ac6c"
      },
      "source": [
        "import matplotlib.pyplot as plt\n",
        "img_re3=img3.resize((28,28))\n",
        "img_gr3=img_re3.convert('L')\n",
        "np.shape(img_gr3)\n",
        "\n",
        "import PIL.ImageOps\n",
        "img_con_3=PIL.ImageOps.invert(img_gr3)\n",
        "plt.imshow(np.array(img_con_3),cmap='gray') #plt plot을 쓸라면 반드시 array로 바꿔야한다!? 가로세로 맞춰야하고 img 파일을 바꿔줘야함, 색상 숫자값으로변겅 \n",
        "\n",
        "\n",
        "img_sc_3=np.array(img_con_3)/255\n",
        "plt.imshow(img_sc_3,cmap='gray')\n",
        "\n",
        "img_re_3=img_sc_3.reshape(1,-1)\n",
        "img_re_3.shape"
      ],
      "execution_count": 92,
      "outputs": [
        {
          "output_type": "execute_result",
          "data": {
            "text/plain": [
              "(1, 784)"
            ]
          },
          "metadata": {},
          "execution_count": 92
        },
        {
          "output_type": "display_data",
          "data": {
            "image/png": "[encoded data removed]",
            "text/plain": [
              "<Figure size 432x288 with 1 Axes>"
            ]
          },
          "metadata": {
            "needs_background": "light"
          }
        }
      ]
    },
    {
      "cell_type": "code",
      "metadata": {
        "colab": {
          "base_uri": "https://localhost:8080/",
          "height": 284
        },
        "id": "9EohXqrudmFy",
        "outputId": "ef9fd0a9-5d13-418a-e2e1-b8f3937d19d2"
      },
      "source": [
        "tmp3=img_re_3\n",
        "for cnt in range(len(tmp3[0])):\n",
        "  #print(tmp[0][cnt])\n",
        "  if tmp3[0][cnt]!=0.0:\n",
        "    tmp3[0][cnt]=1.0\n",
        "\n",
        "\n",
        "plt.imshow(tmp3.reshape(28,28),cmap='gray')"
      ],
      "execution_count": 93,
      "outputs": [
        {
          "output_type": "execute_result",
          "data": {
            "text/plain": [
              "<matplotlib.image.AxesImage at 0x7f66c4394e50>"
            ]
          },
          "metadata": {},
          "execution_count": 93
        },
        {
          "output_type": "display_data",
          "data": {
            "image/png": "[encoded data removed]",
            "text/plain": [
              "<Figure size 432x288 with 1 Axes>"
            ]
          },
          "metadata": {
            "needs_background": "light"
          }
        }
      ]
    },
    {
      "cell_type": "code",
      "metadata": {
        "colab": {
          "base_uri": "https://localhost:8080/"
        },
        "id": "GbOaMQfudoZC",
        "outputId": "1b8fefd9-92b9-467b-deb0-eabb2c29993d"
      },
      "source": [
        "import tensorflow as tf\n",
        "load_model=tf.keras.models.load_model('/content/my_mnist.h5')\n",
        "#load_model.summary()\n",
        "\n",
        "result_tmp2=load_model.predict(tmp2)\n",
        "print(np.argmax(result_tmp2))"
      ],
      "execution_count": 94,
      "outputs": [
        {
          "output_type": "stream",
          "name": "stdout",
          "text": [
            "8\n"
          ]
        }
      ]
    }
  ]
}