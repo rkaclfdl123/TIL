{
  "nbformat": 4,
  "nbformat_minor": 0,
  "metadata": {
    "colab": {
      "name": "큰수의법칙.ipynb",
      "provenance": [],
      "authorship_tag": "ABX9TyPPCfgi8qJJTUlW0KCLCZ7x",
      "include_colab_link": true
    },
    "kernelspec": {
      "name": "python3",
      "display_name": "Python 3"
    },
    "language_info": {
      "name": "python"
    }
  },
  "cells": [
    {
      "cell_type": "markdown",
      "metadata": {
        "id": "view-in-github",
        "colab_type": "text"
      },
      "source": [
        "<a href=\"https://colab.research.google.com/github/rkaclfdl123/TIL/blob/master/%ED%81%B0%EC%88%98%EC%9D%98%EB%B2%95%EC%B9%99.ipynb\" target=\"_parent\"><img src=\"https://colab.research.google.com/assets/colab-badge.svg\" alt=\"Open In Colab\"/></a>"
      ]
    },
    {
      "cell_type": "code",
      "metadata": {
        "colab": {
          "base_uri": "https://localhost:8080/"
        },
        "id": "151jcxTYfShi",
        "outputId": "eeddcc88-d394-4c57-ef01-4e75b994ff20"
      },
      "source": [
        "'''py\n",
        "이코테 다시 풀어보기\n",
        "큰수의 법칙\n",
        "'''\n",
        "\n",
        "num,len,max=map(int,input().split())\n",
        "\n",
        "list_high=list(map(int,input().split()))\n",
        "sum_count=0\n",
        "max_count=0\n",
        "count=0\n",
        "\n",
        "list_high=sorted(list_high,reverse=True)\n",
        "#list_high=6,5,4,4,2\n",
        "\n",
        "for i in range(len):\n",
        "    if(count!=3):\n",
        "        sum_count+=list_high[0]\n",
        "        count+=1\n",
        "    elif(count==3):\n",
        "        sum_count+=list_high[1]\n",
        "        count=0\n",
        "    else:\n",
        "        print(\"error\") \n",
        "print(sum_count)  "
      ],
      "execution_count": 13,
      "outputs": [
        {
          "output_type": "stream",
          "text": [
            "5 8 3\n",
            "2 4 5 4 6\n"
          ],
          "name": "stdout"
        }
      ]
    },
    {
      "cell_type": "code",
      "metadata": {
        "id": "NZVprvLlgN7X"
      },
      "source": [
        ""
      ],
      "execution_count": 14,
      "outputs": []
    },
    {
      "cell_type": "code",
      "metadata": {
        "colab": {
          "base_uri": "https://localhost:8080/"
        },
        "id": "R7J86jkshA3f",
        "outputId": "eba72c07-1954-4981-9c1c-adbf33ef1479"
      },
      "source": [
        "\n",
        "list_high"
      ],
      "execution_count": 11,
      "outputs": [
        {
          "output_type": "execute_result",
          "data": {
            "text/plain": [
              "[6, 5, 4, 4, 2]"
            ]
          },
          "metadata": {
            "tags": []
          },
          "execution_count": 11
        }
      ]
    },
    {
      "cell_type": "code",
      "metadata": {
        "colab": {
          "base_uri": "https://localhost:8080/"
        },
        "id": "3r_bHcaFhBMH",
        "outputId": "e75d450d-53f2-4cc6-92b6-065394ed741f"
      },
      "source": [
        "          "
      ],
      "execution_count": 15,
      "outputs": [
        {
          "output_type": "stream",
          "text": [
            "46\n"
          ],
          "name": "stdout"
        }
      ]
    },
    {
      "cell_type": "code",
      "metadata": {
        "id": "GP4RTWjzhBN3"
      },
      "source": [
        ""
      ],
      "execution_count": null,
      "outputs": []
    }
  ]
}