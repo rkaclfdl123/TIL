{
  "nbformat": 4,
  "nbformat_minor": 0,
  "metadata": {
    "colab": {
      "name": "2018 KAKAO BLIND RECRUITMENT(비밀지도).ipynb",
      "provenance": [],
      "authorship_tag": "ABX9TyOneeMGy6YTHSYWfzlgTgHa",
      "include_colab_link": true
    },
    "kernelspec": {
      "name": "python3",
      "display_name": "Python 3"
    },
    "language_info": {
      "name": "python"
    }
  },
  "cells": [
    {
      "cell_type": "markdown",
      "metadata": {
        "id": "view-in-github",
        "colab_type": "text"
      },
      "source": [
        "<a href=\"https://colab.research.google.com/github/rkaclfdl123/TIL/blob/master/2018_KAKAO_BLIND_RECRUITMENT(%EB%B9%84%EB%B0%80%EC%A7%80%EB%8F%84).ipynb\" target=\"_parent\"><img src=\"https://colab.research.google.com/assets/colab-badge.svg\" alt=\"Open In Colab\"/></a>"
      ]
    },
    {
      "cell_type": "code",
      "metadata": {
        "id": "Lkv-I-DDDkn-"
      },
      "source": [
        "def solution(n, arr1, arr2):\n",
        "    graph=[[0 for j in range(n)] for i in range(n)]\n",
        "    arr1_i=[]\n",
        "    arr2_i=[]\n",
        "    arr1_graph=[]\n",
        "    arr2_graph=[]\n",
        "    for i in arr1:\n",
        "        arr1_i.append(bin(i))\n",
        "    for i in arr2:  \n",
        "        arr2_i.append(bin(i))\n",
        "    B=[]\n",
        "    B1=[]\n",
        "    C=[]\n",
        "    C1=[]\n",
        "    for i in arr1_i:\n",
        "        a=i.index(\"b\")\n",
        "        b=(i[a+1:])\n",
        "        print(b)\n",
        "        b=int(b)\n",
        "        B.append(b)\n",
        "    for i in arr2_i:\n",
        "        a=i.index(\"b\")\n",
        "        c=(i[a+1:])\n",
        "        #print(c)\n",
        "        c=int(c)\n",
        "        C.append(c)\n",
        "    for i in B:\n",
        "        b1=(str(i).zfill(n))\n",
        "        \n",
        "        B1.append(b1)\n",
        "    for i in C:\n",
        "        c1=(str(i).zfill(n))\n",
        "        #print(c1)\n",
        "        C1.append(c1)  \n",
        "    for i in range(n):\n",
        "        for j in range(n):\n",
        "            if B1[i][j]==\"1\":\n",
        "                graph[i][j]=\"#\"\n",
        "            if C1[i][j]==\"1\":\n",
        "                graph[i][j]=\"#\"\n",
        "            if B1[i][j]==\"0\" and C1[i][j]==\"0\":\n",
        "                graph[i][j]=\" \"  \n",
        "    result=[]\n",
        "    for i in range(len(graph)):\n",
        "        result.append(''.join(graph[i]))\n",
        "    return result\n",
        "\n",
        "\n",
        "solution(6, [46, 33, 33, 22, 31, 50], [27, 56, 19, 14, 14, 10])"
      ],
      "execution_count": null,
      "outputs": []
    }
  ]
}