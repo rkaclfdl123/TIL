{
  "nbformat": 4,
  "nbformat_minor": 0,
  "metadata": {
    "colab": {
      "name": "숫자 카드 게임.ipynb",
      "provenance": [],
      "authorship_tag": "ABX9TyNBd4ULgpnW4vuTt88nMyNA",
      "include_colab_link": true
    },
    "kernelspec": {
      "name": "python3",
      "display_name": "Python 3"
    },
    "language_info": {
      "name": "python"
    }
  },
  "cells": [
    {
      "cell_type": "markdown",
      "metadata": {
        "id": "view-in-github",
        "colab_type": "text"
      },
      "source": [
        "<a href=\"https://colab.research.google.com/github/rkaclfdl123/TIL/blob/master/%EC%88%AB%EC%9E%90_%EC%B9%B4%EB%93%9C_%EA%B2%8C%EC%9E%84.ipynb\" target=\"_parent\"><img src=\"https://colab.research.google.com/assets/colab-badge.svg\" alt=\"Open In Colab\"/></a>"
      ]
    },
    {
      "cell_type": "code",
      "metadata": {
        "colab": {
          "base_uri": "https://localhost:8080/"
        },
        "id": "BsHvS5rHiuu7",
        "outputId": "7a27ddce-4389-416d-da82-a11ab27fc88f"
      },
      "source": [
        "#이코테 다시 풀어보기\n",
        "#숫자 카드 게임\n",
        "\n",
        "x,y=map(int,input().split())\n",
        "graph=[]\n",
        "max_list=[]\n",
        "for i in range(y):\n",
        "    graph.append(list(map(int,input().split())))\n",
        "\n",
        "for j in graph:\n",
        "    min_value=min(j)\n",
        "    max_list.append(min_value)\n",
        "print(max(max_list))"
      ],
      "execution_count": 5,
      "outputs": [
        {
          "output_type": "stream",
          "text": [
            "3 3\n",
            "3 1 2\n",
            "4 1 4\n",
            "2 2 2\n",
            "2\n"
          ],
          "name": "stdout"
        }
      ]
    }
  ]
}