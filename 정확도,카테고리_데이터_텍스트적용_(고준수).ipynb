{
  "nbformat": 4,
  "nbformat_minor": 0,
  "metadata": {
    "colab": {
      "name": "정확도,카테고리 데이터 텍스트적용 (고준수).ipynb",
      "provenance": [],
      "collapsed_sections": [],
      "include_colab_link": true
    },
    "kernelspec": {
      "name": "python3",
      "display_name": "Python 3"
    },
    "accelerator": "GPU"
  },
  "cells": [
    {
      "cell_type": "markdown",
      "metadata": {
        "id": "view-in-github",
        "colab_type": "text"
      },
      "source": [
        "<a href=\"https://colab.research.google.com/github/rkaclfdl123/TIL/blob/master/%EC%A0%95%ED%99%95%EB%8F%84%2C%EC%B9%B4%ED%85%8C%EA%B3%A0%EB%A6%AC_%EB%8D%B0%EC%9D%B4%ED%84%B0_%ED%85%8D%EC%8A%A4%ED%8A%B8%EC%A0%81%EC%9A%A9_(%E1%84%80%E1%85%A9%E1%84%8C%E1%85%AE%E1%86%AB%E1%84%89%E1%85%AE).ipynb\" target=\"_parent\"><img src=\"https://colab.research.google.com/assets/colab-badge.svg\" alt=\"Open In Colab\"/></a>"
      ]
    },
    {
      "cell_type": "code",
      "metadata": {
        "colab": {
          "base_uri": "https://localhost:8080/"
        },
        "id": "ST8pe76MxAnW",
        "outputId": "2f3e98ad-4ebb-47bc-91d9-45775191799c"
      },
      "source": [
        "from google.colab import drive\n",
        "drive.mount('/content/drive')"
      ],
      "execution_count": 19,
      "outputs": [
        {
          "output_type": "stream",
          "name": "stdout",
          "text": [
            "Mounted at /content/drive\n"
          ]
        }
      ]
    },
    {
      "cell_type": "code",
      "metadata": {
        "id": "5KuEs80vi8_9",
        "colab": {
          "base_uri": "https://localhost:8080/",
          "height": 1000
        },
        "outputId": "310d66d7-a890-4ffe-ad2f-b6fae16bf7af"
      },
      "source": [
        "#multiple categories gun\n",
        "!pip install roboflow\n",
        "\n",
        "from roboflow import Roboflow\n",
        "rf = Roboflow(api_key=\"Xp2OlmobAQMlFGrRu9rO\")\n",
        "project = rf.workspace().project(\"multiple2\")\n",
        "dataset = project.version(1).download(\"yolov5\")\n"
      ],
      "execution_count": 1,
      "outputs": [
        {
          "output_type": "stream",
          "name": "stdout",
          "text": [
            "Collecting roboflow\n",
            "  Downloading roboflow-0.1.8.tar.gz (14 kB)\n",
            "Collecting certifi==2021.5.30\n",
            "  Downloading certifi-2021.5.30-py2.py3-none-any.whl (145 kB)\n",
            "\u001b[K     |████████████████████████████████| 145 kB 4.3 MB/s \n",
            "\u001b[?25hCollecting chardet==4.0.0\n",
            "  Downloading chardet-4.0.0-py2.py3-none-any.whl (178 kB)\n",
            "\u001b[K     |████████████████████████████████| 178 kB 40.1 MB/s \n",
            "\u001b[?25hCollecting cycler==0.10.0\n",
            "  Downloading cycler-0.10.0-py2.py3-none-any.whl (6.5 kB)\n",
            "Requirement already satisfied: idna==2.10 in /usr/local/lib/python3.7/dist-packages (from roboflow) (2.10)\n",
            "Collecting kiwisolver==1.3.1\n",
            "  Downloading kiwisolver-1.3.1-cp37-cp37m-manylinux1_x86_64.whl (1.1 MB)\n",
            "\u001b[K     |████████████████████████████████| 1.1 MB 49.4 MB/s \n",
            "\u001b[?25hRequirement already satisfied: matplotlib in /usr/local/lib/python3.7/dist-packages (from roboflow) (3.2.2)\n",
            "Requirement already satisfied: numpy>=1.18.5 in /usr/local/lib/python3.7/dist-packages (from roboflow) (1.19.5)\n",
            "Requirement already satisfied: opencv-python>=4.1.2 in /usr/local/lib/python3.7/dist-packages (from roboflow) (4.1.2.30)\n",
            "Requirement already satisfied: Pillow>=7.1.2 in /usr/local/lib/python3.7/dist-packages (from roboflow) (7.1.2)\n",
            "Requirement already satisfied: pyparsing==2.4.7 in /usr/local/lib/python3.7/dist-packages (from roboflow) (2.4.7)\n",
            "Requirement already satisfied: python-dateutil in /usr/local/lib/python3.7/dist-packages (from roboflow) (2.8.2)\n",
            "Collecting python-dotenv\n",
            "  Downloading python_dotenv-0.19.2-py2.py3-none-any.whl (17 kB)\n",
            "Requirement already satisfied: requests in /usr/local/lib/python3.7/dist-packages (from roboflow) (2.23.0)\n",
            "Requirement already satisfied: six in /usr/local/lib/python3.7/dist-packages (from roboflow) (1.15.0)\n",
            "Collecting urllib3==1.26.6\n",
            "  Downloading urllib3-1.26.6-py2.py3-none-any.whl (138 kB)\n",
            "\u001b[K     |████████████████████████████████| 138 kB 71.3 MB/s \n",
            "\u001b[?25hCollecting wget\n",
            "  Downloading wget-3.2.zip (10 kB)\n",
            "Requirement already satisfied: tqdm>=4.41.0 in /usr/local/lib/python3.7/dist-packages (from roboflow) (4.62.3)\n",
            "Collecting PyYAML>=5.3.1\n",
            "  Downloading PyYAML-6.0-cp37-cp37m-manylinux_2_5_x86_64.manylinux1_x86_64.manylinux_2_12_x86_64.manylinux2010_x86_64.whl (596 kB)\n",
            "\u001b[K     |████████████████████████████████| 596 kB 53.5 MB/s \n",
            "\u001b[?25hCollecting requests\n",
            "  Downloading requests-2.26.0-py2.py3-none-any.whl (62 kB)\n",
            "\u001b[K     |████████████████████████████████| 62 kB 798 kB/s \n",
            "\u001b[?25hRequirement already satisfied: charset-normalizer~=2.0.0 in /usr/local/lib/python3.7/dist-packages (from requests->roboflow) (2.0.7)\n",
            "Building wheels for collected packages: roboflow, wget\n",
            "  Building wheel for roboflow (setup.py) ... \u001b[?25l\u001b[?25hdone\n",
            "  Created wheel for roboflow: filename=roboflow-0.1.8-py3-none-any.whl size=20082 sha256=ee49a70c19010e4e076ac4dfe9e179aa75190f7adf35e2726c444cac1f2bfe1f\n",
            "  Stored in directory: /root/.cache/pip/wheels/db/11/cc/728f5aaa27dd0a16f49c73090f1ef72ba4701c4c0999eba381\n",
            "  Building wheel for wget (setup.py) ... \u001b[?25l\u001b[?25hdone\n",
            "  Created wheel for wget: filename=wget-3.2-py3-none-any.whl size=9672 sha256=08c08d2e5566a2fe6e92683f292ef6717ec8aa4211f4b7ed2738e0857764d11b\n",
            "  Stored in directory: /root/.cache/pip/wheels/a1/b6/7c/0e63e34eb06634181c63adacca38b79ff8f35c37e3c13e3c02\n",
            "Successfully built roboflow wget\n",
            "Installing collected packages: urllib3, kiwisolver, cycler, certifi, wget, requests, PyYAML, python-dotenv, chardet, roboflow\n",
            "  Attempting uninstall: urllib3\n",
            "    Found existing installation: urllib3 1.24.3\n",
            "    Uninstalling urllib3-1.24.3:\n",
            "      Successfully uninstalled urllib3-1.24.3\n",
            "  Attempting uninstall: kiwisolver\n",
            "    Found existing installation: kiwisolver 1.3.2\n",
            "    Uninstalling kiwisolver-1.3.2:\n",
            "      Successfully uninstalled kiwisolver-1.3.2\n",
            "  Attempting uninstall: cycler\n",
            "    Found existing installation: cycler 0.11.0\n",
            "    Uninstalling cycler-0.11.0:\n",
            "      Successfully uninstalled cycler-0.11.0\n",
            "  Attempting uninstall: certifi\n",
            "    Found existing installation: certifi 2021.10.8\n",
            "    Uninstalling certifi-2021.10.8:\n",
            "      Successfully uninstalled certifi-2021.10.8\n",
            "  Attempting uninstall: requests\n",
            "    Found existing installation: requests 2.23.0\n",
            "    Uninstalling requests-2.23.0:\n",
            "      Successfully uninstalled requests-2.23.0\n",
            "  Attempting uninstall: PyYAML\n",
            "    Found existing installation: PyYAML 3.13\n",
            "    Uninstalling PyYAML-3.13:\n",
            "      Successfully uninstalled PyYAML-3.13\n",
            "  Attempting uninstall: chardet\n",
            "    Found existing installation: chardet 3.0.4\n",
            "    Uninstalling chardet-3.0.4:\n",
            "      Successfully uninstalled chardet-3.0.4\n",
            "\u001b[31mERROR: pip's dependency resolver does not currently take into account all the packages that are installed. This behaviour is the source of the following dependency conflicts.\n",
            "google-colab 1.0.0 requires requests~=2.23.0, but you have requests 2.26.0 which is incompatible.\n",
            "datascience 0.10.6 requires folium==0.2.1, but you have folium 0.8.3 which is incompatible.\n",
            "albumentations 0.1.12 requires imgaug<0.2.7,>=0.2.5, but you have imgaug 0.2.9 which is incompatible.\u001b[0m\n",
            "Successfully installed PyYAML-6.0 certifi-2021.5.30 chardet-4.0.0 cycler-0.10.0 kiwisolver-1.3.1 python-dotenv-0.19.2 requests-2.26.0 roboflow-0.1.8 urllib3-1.26.6 wget-3.2\n"
          ]
        },
        {
          "output_type": "display_data",
          "data": {
            "application/vnd.colab-display-data+json": {
              "pip_warning": {
                "packages": [
                  "cycler",
                  "kiwisolver"
                ]
              }
            }
          },
          "metadata": {}
        },
        {
          "output_type": "stream",
          "name": "stdout",
          "text": [
            "loading Roboflow workspace...\n",
            "loading Roboflow project...\n",
            "Downloading Dataset Version Zip in multiple2-1 to yolov5pytorch: 100% [25442387 / 25442387] bytes\n"
          ]
        },
        {
          "output_type": "stream",
          "name": "stderr",
          "text": [
            "Extracting Dataset Version Zip to multiple2-1 in yolov5pytorch:: 100%|██████████| 4286/4286 [00:02<00:00, 1473.51it/s]\n"
          ]
        }
      ]
    },
    {
      "cell_type": "code",
      "metadata": {
        "id": "8p1603VijJ_x",
        "colab": {
          "base_uri": "https://localhost:8080/"
        },
        "outputId": "d56f7e5d-8a98-4132-b9df-622d93c4863f"
      },
      "source": [
        "%cd /content/drive/MyDrive/yolo\n",
        "!git clone https://github.com/ultralytics/yolov5.git"
      ],
      "execution_count": 20,
      "outputs": [
        {
          "output_type": "stream",
          "name": "stdout",
          "text": [
            "/content/drive/MyDrive/yolo\n",
            "Cloning into 'yolov5'...\n",
            "remote: Enumerating objects: 9979, done.\u001b[K\n",
            "remote: Total 9979 (delta 0), reused 0 (delta 0), pack-reused 9979\u001b[K\n",
            "Receiving objects: 100% (9979/9979), 10.29 MiB | 1.72 MiB/s, done.\n",
            "Resolving deltas: 100% (6923/6923), done.\n"
          ]
        }
      ]
    },
    {
      "cell_type": "code",
      "metadata": {
        "id": "WnS0XLAcj1aO",
        "colab": {
          "base_uri": "https://localhost:8080/"
        },
        "outputId": "04ac289b-1807-490b-f265-f6d98b484cf9"
      },
      "source": [
        "%cd /content/yolov5/\n",
        "!pip install -r requirements.txt"
      ],
      "execution_count": 3,
      "outputs": [
        {
          "output_type": "stream",
          "name": "stdout",
          "text": [
            "/content/yolov5\n",
            "Requirement already satisfied: matplotlib>=3.2.2 in /usr/local/lib/python3.7/dist-packages (from -r requirements.txt (line 4)) (3.2.2)\n",
            "Requirement already satisfied: numpy>=1.18.5 in /usr/local/lib/python3.7/dist-packages (from -r requirements.txt (line 5)) (1.19.5)\n",
            "Requirement already satisfied: opencv-python>=4.1.2 in /usr/local/lib/python3.7/dist-packages (from -r requirements.txt (line 6)) (4.1.2.30)\n",
            "Requirement already satisfied: Pillow>=7.1.2 in /usr/local/lib/python3.7/dist-packages (from -r requirements.txt (line 7)) (7.1.2)\n",
            "Requirement already satisfied: PyYAML>=5.3.1 in /usr/local/lib/python3.7/dist-packages (from -r requirements.txt (line 8)) (6.0)\n",
            "Requirement already satisfied: requests>=2.23.0 in /usr/local/lib/python3.7/dist-packages (from -r requirements.txt (line 9)) (2.26.0)\n",
            "Requirement already satisfied: scipy>=1.4.1 in /usr/local/lib/python3.7/dist-packages (from -r requirements.txt (line 10)) (1.4.1)\n",
            "Requirement already satisfied: torch>=1.7.0 in /usr/local/lib/python3.7/dist-packages (from -r requirements.txt (line 11)) (1.10.0+cu111)\n",
            "Requirement already satisfied: torchvision>=0.8.1 in /usr/local/lib/python3.7/dist-packages (from -r requirements.txt (line 12)) (0.11.1+cu111)\n",
            "Requirement already satisfied: tqdm>=4.41.0 in /usr/local/lib/python3.7/dist-packages (from -r requirements.txt (line 13)) (4.62.3)\n",
            "Requirement already satisfied: tensorboard>=2.4.1 in /usr/local/lib/python3.7/dist-packages (from -r requirements.txt (line 16)) (2.7.0)\n",
            "Requirement already satisfied: pandas>=1.1.4 in /usr/local/lib/python3.7/dist-packages (from -r requirements.txt (line 20)) (1.1.5)\n",
            "Requirement already satisfied: seaborn>=0.11.0 in /usr/local/lib/python3.7/dist-packages (from -r requirements.txt (line 21)) (0.11.2)\n",
            "Collecting thop\n",
            "  Downloading thop-0.0.31.post2005241907-py3-none-any.whl (8.7 kB)\n",
            "Requirement already satisfied: kiwisolver>=1.0.1 in /usr/local/lib/python3.7/dist-packages (from matplotlib>=3.2.2->-r requirements.txt (line 4)) (1.3.1)\n",
            "Requirement already satisfied: python-dateutil>=2.1 in /usr/local/lib/python3.7/dist-packages (from matplotlib>=3.2.2->-r requirements.txt (line 4)) (2.8.2)\n",
            "Requirement already satisfied: cycler>=0.10 in /usr/local/lib/python3.7/dist-packages (from matplotlib>=3.2.2->-r requirements.txt (line 4)) (0.10.0)\n",
            "Requirement already satisfied: pyparsing!=2.0.4,!=2.1.2,!=2.1.6,>=2.0.1 in /usr/local/lib/python3.7/dist-packages (from matplotlib>=3.2.2->-r requirements.txt (line 4)) (2.4.7)\n",
            "Requirement already satisfied: idna<4,>=2.5 in /usr/local/lib/python3.7/dist-packages (from requests>=2.23.0->-r requirements.txt (line 9)) (2.10)\n",
            "Requirement already satisfied: urllib3<1.27,>=1.21.1 in /usr/local/lib/python3.7/dist-packages (from requests>=2.23.0->-r requirements.txt (line 9)) (1.26.6)\n",
            "Requirement already satisfied: charset-normalizer~=2.0.0 in /usr/local/lib/python3.7/dist-packages (from requests>=2.23.0->-r requirements.txt (line 9)) (2.0.7)\n",
            "Requirement already satisfied: certifi>=2017.4.17 in /usr/local/lib/python3.7/dist-packages (from requests>=2.23.0->-r requirements.txt (line 9)) (2021.5.30)\n",
            "Requirement already satisfied: typing-extensions in /usr/local/lib/python3.7/dist-packages (from torch>=1.7.0->-r requirements.txt (line 11)) (3.10.0.2)\n",
            "Requirement already satisfied: markdown>=2.6.8 in /usr/local/lib/python3.7/dist-packages (from tensorboard>=2.4.1->-r requirements.txt (line 16)) (3.3.4)\n",
            "Requirement already satisfied: tensorboard-data-server<0.7.0,>=0.6.0 in /usr/local/lib/python3.7/dist-packages (from tensorboard>=2.4.1->-r requirements.txt (line 16)) (0.6.1)\n",
            "Requirement already satisfied: google-auth<3,>=1.6.3 in /usr/local/lib/python3.7/dist-packages (from tensorboard>=2.4.1->-r requirements.txt (line 16)) (1.35.0)\n",
            "Requirement already satisfied: google-auth-oauthlib<0.5,>=0.4.1 in /usr/local/lib/python3.7/dist-packages (from tensorboard>=2.4.1->-r requirements.txt (line 16)) (0.4.6)\n",
            "Requirement already satisfied: tensorboard-plugin-wit>=1.6.0 in /usr/local/lib/python3.7/dist-packages (from tensorboard>=2.4.1->-r requirements.txt (line 16)) (1.8.0)\n",
            "Requirement already satisfied: werkzeug>=0.11.15 in /usr/local/lib/python3.7/dist-packages (from tensorboard>=2.4.1->-r requirements.txt (line 16)) (1.0.1)\n",
            "Requirement already satisfied: protobuf>=3.6.0 in /usr/local/lib/python3.7/dist-packages (from tensorboard>=2.4.1->-r requirements.txt (line 16)) (3.17.3)\n",
            "Requirement already satisfied: wheel>=0.26 in /usr/local/lib/python3.7/dist-packages (from tensorboard>=2.4.1->-r requirements.txt (line 16)) (0.37.0)\n",
            "Requirement already satisfied: setuptools>=41.0.0 in /usr/local/lib/python3.7/dist-packages (from tensorboard>=2.4.1->-r requirements.txt (line 16)) (57.4.0)\n",
            "Requirement already satisfied: absl-py>=0.4 in /usr/local/lib/python3.7/dist-packages (from tensorboard>=2.4.1->-r requirements.txt (line 16)) (0.12.0)\n",
            "Requirement already satisfied: grpcio>=1.24.3 in /usr/local/lib/python3.7/dist-packages (from tensorboard>=2.4.1->-r requirements.txt (line 16)) (1.41.1)\n",
            "Requirement already satisfied: pytz>=2017.2 in /usr/local/lib/python3.7/dist-packages (from pandas>=1.1.4->-r requirements.txt (line 20)) (2018.9)\n",
            "Requirement already satisfied: six in /usr/local/lib/python3.7/dist-packages (from absl-py>=0.4->tensorboard>=2.4.1->-r requirements.txt (line 16)) (1.15.0)\n",
            "Requirement already satisfied: rsa<5,>=3.1.4 in /usr/local/lib/python3.7/dist-packages (from google-auth<3,>=1.6.3->tensorboard>=2.4.1->-r requirements.txt (line 16)) (4.7.2)\n",
            "Requirement already satisfied: cachetools<5.0,>=2.0.0 in /usr/local/lib/python3.7/dist-packages (from google-auth<3,>=1.6.3->tensorboard>=2.4.1->-r requirements.txt (line 16)) (4.2.4)\n",
            "Requirement already satisfied: pyasn1-modules>=0.2.1 in /usr/local/lib/python3.7/dist-packages (from google-auth<3,>=1.6.3->tensorboard>=2.4.1->-r requirements.txt (line 16)) (0.2.8)\n",
            "Requirement already satisfied: requests-oauthlib>=0.7.0 in /usr/local/lib/python3.7/dist-packages (from google-auth-oauthlib<0.5,>=0.4.1->tensorboard>=2.4.1->-r requirements.txt (line 16)) (1.3.0)\n",
            "Requirement already satisfied: importlib-metadata in /usr/local/lib/python3.7/dist-packages (from markdown>=2.6.8->tensorboard>=2.4.1->-r requirements.txt (line 16)) (4.8.2)\n",
            "Requirement already satisfied: pyasn1<0.5.0,>=0.4.6 in /usr/local/lib/python3.7/dist-packages (from pyasn1-modules>=0.2.1->google-auth<3,>=1.6.3->tensorboard>=2.4.1->-r requirements.txt (line 16)) (0.4.8)\n",
            "Requirement already satisfied: oauthlib>=3.0.0 in /usr/local/lib/python3.7/dist-packages (from requests-oauthlib>=0.7.0->google-auth-oauthlib<0.5,>=0.4.1->tensorboard>=2.4.1->-r requirements.txt (line 16)) (3.1.1)\n",
            "Requirement already satisfied: zipp>=0.5 in /usr/local/lib/python3.7/dist-packages (from importlib-metadata->markdown>=2.6.8->tensorboard>=2.4.1->-r requirements.txt (line 16)) (3.6.0)\n",
            "Installing collected packages: thop\n",
            "Successfully installed thop-0.0.31.post2005241907\n"
          ]
        }
      ]
    },
    {
      "cell_type": "code",
      "metadata": {
        "id": "Wmum2kbAj-h3",
        "colab": {
          "base_uri": "https://localhost:8080/"
        },
        "outputId": "e43202a3-efe5-4784-bb09-aac17a387ed1"
      },
      "source": [
        "%cat /content/dataset/data.yaml"
      ],
      "execution_count": 4,
      "outputs": [
        {
          "output_type": "stream",
          "name": "stdout",
          "text": [
            "cat: /content/dataset/data.yaml: No such file or directory\n"
          ]
        }
      ]
    },
    {
      "cell_type": "code",
      "metadata": {
        "id": "59bxmTd0krk4",
        "colab": {
          "base_uri": "https://localhost:8080/"
        },
        "outputId": "a2b67e79-5b72-41a2-f727-30ef1f3f6bf9"
      },
      "source": [
        "%cd /\n",
        "from glob import glob\n",
        "\n",
        "img_list=glob('/content/multiple2-1/train/images/*.jpg')\n",
        "\n",
        "# gun_img_list = glob('/content/gun_train/images/*.jpg')\n",
        "# knife_img_list= glob('/content/knife_train/train/images/*.jpg')\n",
        "# spanner_img_list= glob('/content/spanner_train/images/*.jpg')\n",
        "\n"
      ],
      "execution_count": 5,
      "outputs": [
        {
          "output_type": "stream",
          "name": "stdout",
          "text": [
            "/\n"
          ]
        }
      ]
    },
    {
      "cell_type": "code",
      "metadata": {
        "colab": {
          "base_uri": "https://localhost:8080/"
        },
        "id": "chtmQzef00EN",
        "outputId": "8ddebc93-7063-4922-e6fe-c674aed1108b"
      },
      "source": [
        "# # all_img_list=[]\n",
        "# # for i in gun_img_list:\n",
        "# #     all_img_list.append(i)\n",
        "# # for i in knife_img_list:\n",
        "# #     all_img_list.append(i)\n",
        "# # for i in spanner_img_list:\n",
        "# #     all_img_list.append(i)\n",
        "    \n",
        "# print(len(all_img_list))\n",
        "\n",
        "print(len(img_list))"
      ],
      "execution_count": 6,
      "outputs": [
        {
          "output_type": "stream",
          "name": "stdout",
          "text": [
            "2140\n"
          ]
        }
      ]
    },
    {
      "cell_type": "code",
      "metadata": {
        "id": "cJbipgDylAHY",
        "colab": {
          "base_uri": "https://localhost:8080/"
        },
        "outputId": "7a587e20-7e36-4cb3-c5df-144718af0c50"
      },
      "source": [
        "from sklearn.model_selection import train_test_split\n",
        "\n",
        "train_img_list, val_img_list = train_test_split(img_list, test_size=0.2, random_state=2000)\n",
        "\n",
        "print(len(train_img_list), len(val_img_list))"
      ],
      "execution_count": 7,
      "outputs": [
        {
          "output_type": "stream",
          "name": "stdout",
          "text": [
            "1712 428\n"
          ]
        }
      ]
    },
    {
      "cell_type": "code",
      "metadata": {
        "id": "sbWbWBCtg1ix"
      },
      "source": [
        ""
      ],
      "execution_count": 7,
      "outputs": []
    },
    {
      "cell_type": "code",
      "metadata": {
        "id": "YewU3sWClTyh"
      },
      "source": [
        "with open('/content/multiple2-1/train/train.txt', 'w') as f:\n",
        "  f.write('\\n'.join(train_img_list) + '\\n')\n",
        "\n",
        "with open('/content/multiple2-1/train/val.txt', 'w') as f:\n",
        "  f.write('\\n'.join(val_img_list) + '\\n')"
      ],
      "execution_count": 8,
      "outputs": []
    },
    {
      "cell_type": "code",
      "metadata": {
        "id": "w8JhXyYBlrrW",
        "colab": {
          "base_uri": "https://localhost:8080/"
        },
        "outputId": "ff2e1d06-ff7d-4774-f366-972912e7e306"
      },
      "source": [
        "import yaml\n",
        "\n",
        "with open('/content/multiple2-1/multiple_data.yaml', 'r') as f:\n",
        "  yaml_data = yaml.safe_load(f)\n",
        "\n",
        "print(yaml_data)\n",
        "\n",
        "data['train'] = '/content/multiple2-1/train/train.txt'\n",
        "data['val'] = '/content/multiple2-1/train/val.txt'\n",
        "\n",
        "with open('/content/multiple2-1/multiple_data.yaml', 'w') as f:\n",
        "  yaml.dump(data, f)\n",
        "\n",
        "print(yaml_data)"
      ],
      "execution_count": 134,
      "outputs": [
        {
          "output_type": "stream",
          "name": "stdout",
          "text": [
            "{'names': ['Axe', 'Chisel', 'Gun', 'HandCuffs', 'Knife', 'Lighter', 'Plier', 'Saw', 'Scissors', 'Screwdriver', 'Spanner', 'SupplymentaryBattery'], 'nc': 12, 'train': '/content/multiple2-1/train/train.txt', 'val': '/content/multiple2-1/train/val.txt'}\n",
            "{'names': ['Axe', 'Chisel', 'Gun', 'HandCuffs', 'Knife', 'Lighter', 'Plier', 'Saw', 'Scissors', 'Screwdriver', 'Spanner', 'SupplymentaryBattery'], 'nc': 12, 'train': '/content/multiple2-1/train/train.txt', 'val': '/content/multiple2-1/train/val.txt'}\n"
          ]
        }
      ]
    },
    {
      "cell_type": "code",
      "metadata": {
        "colab": {
          "base_uri": "https://localhost:8080/",
          "height": 36
        },
        "id": "oXWojIBhLeyp",
        "outputId": "485383bc-c6b4-4af0-d892-45b555dc763a"
      },
      "source": [
        "yaml_data[\"names\"][2]"
      ],
      "execution_count": 135,
      "outputs": [
        {
          "output_type": "execute_result",
          "data": {
            "application/vnd.google.colaboratory.intrinsic+json": {
              "type": "string"
            },
            "text/plain": [
              "'Gun'"
            ]
          },
          "metadata": {},
          "execution_count": 135
        }
      ]
    },
    {
      "cell_type": "code",
      "metadata": {
        "colab": {
          "base_uri": "https://localhost:8080/"
        },
        "id": "u6cEilxZLNYR",
        "outputId": "f4d2896e-fa83-421a-8983-15bd5173b610"
      },
      "source": [
        ""
      ],
      "execution_count": 132,
      "outputs": [
        {
          "output_type": "stream",
          "name": "stdout",
          "text": [
            "10번째 줄입니다.\n",
            "\n"
          ]
        }
      ]
    },
    {
      "cell_type": "markdown",
      "metadata": {
        "id": "B9LYIQEGAgL2"
      },
      "source": [
        "# 데이터 학습\n",
        "## 확인차 겸 epoch 은 5개만 했습니다\n",
        "\n",
        "### "
      ]
    },
    {
      "cell_type": "code",
      "metadata": {
        "id": "Das7YGgqmSUL",
        "colab": {
          "base_uri": "https://localhost:8080/"
        },
        "outputId": "167a8b83-4d9b-4a4b-934a-7d0ca46a7833"
      },
      "source": [
        "%cd /content/yolov5/\n",
        "\n",
        "!python train.py --img 416 --batch 16 --epochs 5 --data /content/multiple2-1/multiple_data.yaml --cfg ./models/yolov5s.yaml --weights yolov5s.pt --name multiple_yolov5s_results"
      ],
      "execution_count": 11,
      "outputs": [
        {
          "output_type": "stream",
          "name": "stdout",
          "text": [
            "/content/yolov5\n",
            "Downloading https://ultralytics.com/assets/Arial.ttf to /root/.config/Ultralytics/Arial.ttf...\n",
            "\u001b[34m\u001b[1mtrain: \u001b[0mweights=yolov5s.pt, cfg=./models/yolov5s.yaml, data=/content/multiple2-1/multiple_data.yaml, hyp=data/hyps/hyp.scratch.yaml, epochs=5, batch_size=16, imgsz=416, rect=False, resume=False, nosave=False, noval=False, noautoanchor=False, evolve=None, bucket=, cache=None, image_weights=False, device=, multi_scale=False, single_cls=False, adam=False, sync_bn=False, workers=8, project=runs/train, name=multiple_yolov5s_results, exist_ok=False, quad=False, linear_lr=False, label_smoothing=0.0, patience=100, freeze=0, save_period=-1, local_rank=-1, entity=None, upload_dataset=False, bbox_interval=-1, artifact_alias=latest\n",
            "\u001b[34m\u001b[1mgithub: \u001b[0mup to date with https://github.com/ultralytics/yolov5 ✅\n",
            "YOLOv5 🚀 v6.0-96-g8df64a9 torch 1.10.0+cu111 CUDA:0 (Tesla P100-PCIE-16GB, 16281MiB)\n",
            "\n",
            "\u001b[34m\u001b[1mhyperparameters: \u001b[0mlr0=0.01, lrf=0.1, momentum=0.937, weight_decay=0.0005, warmup_epochs=3.0, warmup_momentum=0.8, warmup_bias_lr=0.1, box=0.05, cls=0.5, cls_pw=1.0, obj=1.0, obj_pw=1.0, iou_t=0.2, anchor_t=4.0, fl_gamma=0.0, hsv_h=0.015, hsv_s=0.7, hsv_v=0.4, degrees=0.0, translate=0.1, scale=0.5, shear=0.0, perspective=0.0, flipud=0.0, fliplr=0.5, mosaic=1.0, mixup=0.0, copy_paste=0.0\n",
            "\u001b[34m\u001b[1mWeights & Biases: \u001b[0mrun 'pip install wandb' to automatically track and visualize YOLOv5 🚀 runs (RECOMMENDED)\n",
            "\u001b[34m\u001b[1mTensorBoard: \u001b[0mStart with 'tensorboard --logdir runs/train', view at http://localhost:6006/\n",
            "Downloading https://github.com/ultralytics/yolov5/releases/download/v6.0/yolov5s.pt to yolov5s.pt...\n",
            "100% 14.0M/14.0M [00:00<00:00, 23.6MB/s]\n",
            "\n",
            "Overriding model.yaml nc=80 with nc=12\n",
            "\n",
            "                 from  n    params  module                                  arguments                     \n",
            "  0                -1  1      3520  models.common.Conv                      [3, 32, 6, 2, 2]              \n",
            "  1                -1  1     18560  models.common.Conv                      [32, 64, 3, 2]                \n",
            "  2                -1  1     18816  models.common.C3                        [64, 64, 1]                   \n",
            "  3                -1  1     73984  models.common.Conv                      [64, 128, 3, 2]               \n",
            "  4                -1  2    115712  models.common.C3                        [128, 128, 2]                 \n",
            "  5                -1  1    295424  models.common.Conv                      [128, 256, 3, 2]              \n",
            "  6                -1  3    625152  models.common.C3                        [256, 256, 3]                 \n",
            "  7                -1  1   1180672  models.common.Conv                      [256, 512, 3, 2]              \n",
            "  8                -1  1   1182720  models.common.C3                        [512, 512, 1]                 \n",
            "  9                -1  1    656896  models.common.SPPF                      [512, 512, 5]                 \n",
            " 10                -1  1    131584  models.common.Conv                      [512, 256, 1, 1]              \n",
            " 11                -1  1         0  torch.nn.modules.upsampling.Upsample    [None, 2, 'nearest']          \n",
            " 12           [-1, 6]  1         0  models.common.Concat                    [1]                           \n",
            " 13                -1  1    361984  models.common.C3                        [512, 256, 1, False]          \n",
            " 14                -1  1     33024  models.common.Conv                      [256, 128, 1, 1]              \n",
            " 15                -1  1         0  torch.nn.modules.upsampling.Upsample    [None, 2, 'nearest']          \n",
            " 16           [-1, 4]  1         0  models.common.Concat                    [1]                           \n",
            " 17                -1  1     90880  models.common.C3                        [256, 128, 1, False]          \n",
            " 18                -1  1    147712  models.common.Conv                      [128, 128, 3, 2]              \n",
            " 19          [-1, 14]  1         0  models.common.Concat                    [1]                           \n",
            " 20                -1  1    296448  models.common.C3                        [256, 256, 1, False]          \n",
            " 21                -1  1    590336  models.common.Conv                      [256, 256, 3, 2]              \n",
            " 22          [-1, 10]  1         0  models.common.Concat                    [1]                           \n",
            " 23                -1  1   1182720  models.common.C3                        [512, 512, 1, False]          \n",
            " 24      [17, 20, 23]  1     45849  models.yolo.Detect                      [12, [[10, 13, 16, 30, 33, 23], [30, 61, 62, 45, 59, 119], [116, 90, 156, 198, 373, 326]], [128, 256, 512]]\n",
            "Model Summary: 270 layers, 7051993 parameters, 7051993 gradients, 15.9 GFLOPs\n",
            "\n",
            "Transferred 342/349 items from yolov5s.pt\n",
            "Scaled weight_decay = 0.0005\n",
            "\u001b[34m\u001b[1moptimizer:\u001b[0m SGD with parameter groups 57 weight, 60 weight (no decay), 60 bias\n",
            "\u001b[34m\u001b[1malbumentations: \u001b[0mversion 1.0.3 required by YOLOv5, but version 0.1.12 is currently installed\n",
            "\u001b[34m\u001b[1mtrain: \u001b[0mScanning '/content/multiple2-1/train/train' images and labels...1712 found, 0 missing, 0 empty, 0 corrupted: 100% 1712/1712 [00:00<00:00, 1960.44it/s]\n",
            "\u001b[34m\u001b[1mtrain: \u001b[0mNew cache created: /content/multiple2-1/train/train.cache\n",
            "\u001b[34m\u001b[1mval: \u001b[0mScanning '/content/multiple2-1/train/val' images and labels...428 found, 0 missing, 0 empty, 0 corrupted: 100% 428/428 [00:00<00:00, 1211.66it/s]\n",
            "\u001b[34m\u001b[1mval: \u001b[0mNew cache created: /content/multiple2-1/train/val.cache\n",
            "Plotting labels to runs/train/multiple_yolov5s_results/labels.jpg... \n",
            "\n",
            "\u001b[34m\u001b[1mAutoAnchor: \u001b[0m5.58 anchors/target, 0.999 Best Possible Recall (BPR). Current anchors are a good fit to dataset ✅\n",
            "Image sizes 416 train, 416 val\n",
            "Using 2 dataloader workers\n",
            "Logging results to \u001b[1mruns/train/multiple_yolov5s_results\u001b[0m\n",
            "Starting training for 5 epochs...\n",
            "\n",
            "     Epoch   gpu_mem       box       obj       cls    labels  img_size\n",
            "       0/4     1.64G    0.1073   0.03762   0.05736       119       416: 100% 107/107 [00:27<00:00,  3.94it/s]\n",
            "               Class     Images     Labels          P          R     mAP@.5 mAP@.5:.95: 100% 14/14 [00:04<00:00,  3.23it/s]\n",
            "                 all        428       1908      0.929     0.0348     0.0118    0.00205\n",
            "\n",
            "     Epoch   gpu_mem       box       obj       cls    labels  img_size\n",
            "       1/4     1.74G   0.08428   0.03578   0.04213        97       416: 100% 107/107 [00:24<00:00,  4.43it/s]\n",
            "               Class     Images     Labels          P          R     mAP@.5 mAP@.5:.95: 100% 14/14 [00:03<00:00,  3.80it/s]\n",
            "                 all        428       1908     0.0265      0.101     0.0202    0.00509\n",
            "\n",
            "     Epoch   gpu_mem       box       obj       cls    labels  img_size\n",
            "       2/4     1.74G   0.07738   0.03563   0.04081       106       416: 100% 107/107 [00:23<00:00,  4.47it/s]\n",
            "               Class     Images     Labels          P          R     mAP@.5 mAP@.5:.95: 100% 14/14 [00:03<00:00,  3.99it/s]\n",
            "                 all        428       1908      0.949     0.0474     0.0422     0.0144\n",
            "\n",
            "     Epoch   gpu_mem       box       obj       cls    labels  img_size\n",
            "       3/4     1.74G   0.07151   0.03441   0.03985        99       416: 100% 107/107 [00:23<00:00,  4.49it/s]\n",
            "               Class     Images     Labels          P          R     mAP@.5 mAP@.5:.95: 100% 14/14 [00:03<00:00,  4.12it/s]\n",
            "                 all        428       1908      0.388       0.11     0.0677     0.0332\n",
            "\n",
            "     Epoch   gpu_mem       box       obj       cls    labels  img_size\n",
            "       4/4     1.74G   0.06817   0.03476   0.03905       104       416: 100% 107/107 [00:23<00:00,  4.46it/s]\n",
            "               Class     Images     Labels          P          R     mAP@.5 mAP@.5:.95: 100% 14/14 [00:03<00:00,  4.25it/s]\n",
            "                 all        428       1908      0.396      0.114     0.0718     0.0352\n",
            "\n",
            "5 epochs completed in 0.040 hours.\n",
            "Optimizer stripped from runs/train/multiple_yolov5s_results/weights/last.pt, 14.4MB\n",
            "Optimizer stripped from runs/train/multiple_yolov5s_results/weights/best.pt, 14.4MB\n",
            "\n",
            "Validating runs/train/multiple_yolov5s_results/weights/best.pt...\n",
            "Fusing layers... \n",
            "Model Summary: 213 layers, 7042489 parameters, 0 gradients, 15.9 GFLOPs\n",
            "               Class     Images     Labels          P          R     mAP@.5 mAP@.5:.95: 100% 14/14 [00:05<00:00,  2.40it/s]\n",
            "                 all        428       1908      0.396      0.113     0.0719     0.0352\n",
            "                 Axe        428         25          1          0    0.00424    0.00259\n",
            "              Chisel        428         78          1          0       0.01    0.00236\n",
            "                 Gun        428        856       0.12      0.807      0.515      0.259\n",
            "           HandCuffs        428         95     0.0109     0.0105     0.0274     0.0133\n",
            "               Knife        428        148     0.0967      0.115     0.0393     0.0178\n",
            "             Lighter        428        122          0          0   0.000139   5.58e-05\n",
            "               Plier        428        118      0.195      0.102      0.069     0.0352\n",
            "                 Saw        428         46          1          0    0.00968    0.00412\n",
            "            Scissors        428        109     0.0987    0.00917     0.0118    0.00297\n",
            "         Screwdriver        428         37          1          0    0.00111   0.000462\n",
            "             Spanner        428         91          0          0     0.0151    0.00602\n",
            "SupplymentaryBattery        428        183      0.232      0.317      0.159     0.0786\n",
            "Results saved to \u001b[1mruns/train/multiple_yolov5s_results\u001b[0m\n"
          ]
        }
      ]
    },
    {
      "cell_type": "markdown",
      "metadata": {
        "id": "E1uftbeMNZvK"
      },
      "source": [
        "##detect.py의 save-txt랑 save-conf 를 이용하여 label을 저장\n"
      ]
    },
    {
      "cell_type": "code",
      "metadata": {
        "id": "TQQ-ZJApwKCZ",
        "colab": {
          "base_uri": "https://localhost:8080/",
          "height": 223
        },
        "outputId": "746051f7-b7f3-47a6-c8a4-579eb668f29f"
      },
      "source": [
        "from IPython.display import Image\n",
        "import os\n",
        "\n",
        "val_img_path = '/content/drive/MyDrive/train_2/H_8424-20-1000_01_322_png.rf.1af472436ef19df86dd1f7ecf8909bf2.jpg'\n",
        "\n",
        "!python /content/yolov5/detect.py --weights /content/yolov5/runs/train/multiple_yolov5s_results/weights/best.pt --img 416  --conf 0.5  --save-txt --save-conf --source \"{val_img_path}\"\n",
        "\n",
        "Image(os.path.join('/content/yolov5', os.path.basename(val_img_path)))"
      ],
      "execution_count": 59,
      "outputs": [
        {
          "output_type": "stream",
          "name": "stdout",
          "text": [
            "\u001b[34m\u001b[1mdetect: \u001b[0mweights=['/content/yolov5/runs/train/multiple_yolov5s_results/weights/best.pt'], source=/content/drive/MyDrive/train_2/H_8424-20-1000_01_322_png.rf.1af472436ef19df86dd1f7ecf8909bf2.jpg, imgsz=[416, 416], conf_thres=0.5, iou_thres=0.45, max_det=1000, device=, view_img=False, save_txt=True, save_conf=True, save_crop=False, nosave=False, classes=None, agnostic_nms=False, augment=False, visualize=False, update=False, project=../../../yolov5/runs/detect, name=exp, exist_ok=False, line_thickness=3, hide_labels=False, hide_conf=False, half=False, dnn=False\n",
            "YOLOv5 🚀 v6.0-96-g8df64a9 torch 1.10.0+cu111 CUDA:0 (Tesla P100-PCIE-16GB, 16281MiB)\n",
            "\n",
            "Fusing layers... \n",
            "Model Summary: 213 layers, 7042489 parameters, 0 gradients, 15.9 GFLOPs\n",
            "image 1/1 /content/drive/MyDrive/train_2/H_8424-20-1000_01_322_png.rf.1af472436ef19df86dd1f7ecf8909bf2.jpg: 416x416 2 Guns, Done. (0.007s)\n",
            "Speed: 0.3ms pre-process, 6.8ms inference, 1.2ms NMS per image at shape (1, 3, 416, 416)\n",
            "Results saved to \u001b[1m../../../yolov5/runs/detect/exp10\u001b[0m\n",
            "1 labels saved to ../../../yolov5/runs/detect/exp10/labels\n"
          ]
        },
        {
          "output_type": "execute_result",
          "data": {
            "image/png": "/content/yolov5/H_8424-20-1000_01_322_png.rf.1af472436ef19df86dd1f7ecf8909bf2.jpg",
            "text/plain": [
              "<IPython.core.display.Image object>"
            ]
          },
          "metadata": {},
          "execution_count": 59
        }
      ]
    },
    {
      "cell_type": "code",
      "metadata": {
        "colab": {
          "base_uri": "https://localhost:8080/"
        },
        "id": "hvw3D1cV7QB2",
        "outputId": "3903ed58-9bde-43e7-8931-7503c5a1b407"
      },
      "source": [
        "import yaml\n",
        "import os\n",
        "\n",
        "path = \"/content/drive/MyDrive/train_2\"\n",
        "file_list = os.listdir(path)\n",
        "\n",
        "\n",
        "\n",
        "image_list=[]\n",
        "for i in file_list:\n",
        "    image_list.append(i[:-4])\n",
        "\n",
        "\n",
        "#\"/content/yolov5/runs/detect/\" 하위 폴더에 모든 txt 파일을 찾아냄\n",
        "import os\n",
        "txt_list=[]\n",
        "dir_path = \"/content/yolov5/runs/detect/\"\n",
        "\n",
        "for (root, directories, files) in os.walk(dir_path):\n",
        "    for file in files:\n",
        "        if '.txt' in file:\n",
        "            file_path = os.path.join(root, file)\n",
        "            txt_list.append(file_path)\n",
        "\n",
        "# label중 정확도와 카테고리 라벨링 데이터만 뽑아냄\n",
        "\n",
        "count=0\n",
        "for i in txt_list:\n",
        "    print(i)\n",
        "    file = open(i, \"r\")\n",
        "    strings = file.readlines()\n",
        "    #print(list(strings)[0][0])\n",
        "    A=(list(strings))\n",
        "# 카테코리 라벨링 데이터(2)를 GUN으로 적용\n",
        "    print(yaml_data[\"names\"][int(A[0][0])])\n",
        "\n",
        "    print(A[0][-9:])\n",
        "    print(yaml_data[\"names\"][int(A[1][0])])\n",
        "    print(A[1][-9:])\n",
        "    count+=1\n",
        "    #print(strings)\n",
        "file.close()"
      ],
      "execution_count": 137,
      "outputs": [
        {
          "output_type": "stream",
          "name": "stdout",
          "text": [
            "/content/yolov5/runs/detect/exp9/labels/H_8424-20-1000_01_322_png.rf.1af472436ef19df86dd1f7ecf8909bf2.txt\n",
            "Gun\n",
            "0.514842\n",
            "\n",
            "Gun\n",
            " 0.56264\n",
            "\n",
            "/content/yolov5/runs/detect/exp5/labels/H_8424-20-1000_01_322_png.rf.1af472436ef19df86dd1f7ecf8909bf2.txt\n",
            "Gun\n",
            "0.514842\n",
            "\n",
            "Gun\n",
            " 0.56264\n",
            "\n",
            "/content/yolov5/runs/detect/exp/labels/H_8424-20-1000_01_322_png.rf.1af472436ef19df86dd1f7ecf8909bf2.txt\n",
            "Gun\n",
            "0.514842\n",
            "\n",
            "Gun\n",
            " 0.56264\n",
            "\n",
            "/content/yolov5/runs/detect/exp7/labels/H_8424-20-1000_01_322_png.rf.1af472436ef19df86dd1f7ecf8909bf2.txt\n",
            "Gun\n",
            "0.514842\n",
            "\n",
            "Gun\n",
            " 0.56264\n",
            "\n",
            "/content/yolov5/runs/detect/exp8/labels/H_8424-20-1000_01_322_png.rf.1af472436ef19df86dd1f7ecf8909bf2.txt\n",
            "Gun\n",
            "0.514842\n",
            "\n",
            "Gun\n",
            " 0.56264\n",
            "\n",
            "/content/yolov5/runs/detect/exp10/labels/H_8424-20-1000_01_322_png.rf.1af472436ef19df86dd1f7ecf8909bf2.txt\n",
            "Gun\n",
            "0.514842\n",
            "\n",
            "Gun\n",
            " 0.56264\n",
            "\n"
          ]
        }
      ]
    },
    {
      "cell_type": "markdown",
      "metadata": {
        "id": "fDinaURtAEyR"
      },
      "source": [
        "# 동영상 적용 코드\n",
        "## abc.mp4 는 구글드라이브 엑스레이 동영상을 변경한 것입니다.\n",
        "### 다 되면 runs/detect/에 저장되어있습니다."
      ]
    },
    {
      "cell_type": "code",
      "metadata": {
        "id": "M45GA4rT6_7P"
      },
      "source": [
        "!python detect.py --source /content/multiple2-1/abc.mp4 --weights /content/yolov5/runs/train/multiple_yolov5s_results/weights/best.pt"
      ],
      "execution_count": null,
      "outputs": []
    },
    {
      "cell_type": "markdown",
      "metadata": {
        "id": "E6R9pJZqks6b"
      },
      "source": [
        "\n",
        "\n",
        "\n"
      ]
    }
  ]
}